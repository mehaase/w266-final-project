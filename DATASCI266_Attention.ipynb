{
  "nbformat": 4,
  "nbformat_minor": 0,
  "metadata": {
    "colab": {
      "provenance": [],
      "toc_visible": true,
      "gpuType": "V100",
      "include_colab_link": true
    },
    "kernelspec": {
      "name": "python3",
      "display_name": "Python 3"
    },
    "language_info": {
      "name": "python"
    },
    "accelerator": "GPU"
  },
  "cells": [
    {
      "cell_type": "markdown",
      "metadata": {
        "id": "view-in-github",
        "colab_type": "text"
      },
      "source": [
        "<a href=\"https://colab.research.google.com/github/mehaase/w266-final-project/blob/main/DATASCI266_Attention.ipynb\" target=\"_parent\"><img src=\"https://colab.research.google.com/assets/colab-badge.svg\" alt=\"Open In Colab\"/></a>"
      ]
    },
    {
      "cell_type": "markdown",
      "source": [
        "# Libaries & Data"
      ],
      "metadata": {
        "id": "64Rtz07qjNIT"
      }
    },
    {
      "cell_type": "code",
      "source": [
        "!pip install -q transformers"
      ],
      "metadata": {
        "id": "KwoFxJPXWsSo"
      },
      "execution_count": null,
      "outputs": []
    },
    {
      "cell_type": "code",
      "source": [
        "from google.colab import drive\n",
        "import json\n",
        "from IPython.display import HTML\n",
        "import matplotlib.pyplot as plt\n",
        "import numpy as np\n",
        "import pandas as pd\n",
        "import tensorflow as tf\n",
        "from transformers import BertTokenizer, TFBertModel"
      ],
      "metadata": {
        "id": "Mr-NNki9Y6O2"
      },
      "execution_count": null,
      "outputs": []
    },
    {
      "cell_type": "code",
      "execution_count": null,
      "metadata": {
        "id": "2nKzWcxX7Ss1",
        "colab": {
          "base_uri": "https://localhost:8080/",
          "height": 461
        },
        "outputId": "01c79c26-c6b2-45e8-af8f-f293b3d88be6"
      },
      "outputs": [
        {
          "output_type": "stream",
          "name": "stdout",
          "text": [
            "Drive already mounted at /mnt/gdrive; to attempt to forcibly remount, call drive.mount(\"/mnt/gdrive\", force_remount=True).\n"
          ]
        },
        {
          "output_type": "execute_result",
          "data": {
            "text/plain": [
              "   count  hate_speech  offensive_language  neither  class  \\\n",
              "0      3     0.000000            0.000000      1.0      2   \n",
              "2      3     0.000000            0.000000      1.0      2   \n",
              "3      3     1.000000            0.000000      0.0      0   \n",
              "4      3     0.666667            0.333333      0.0      0   \n",
              "5      3     0.000000            1.000000      0.0      1   \n",
              "\n",
              "                                               tweet  is_hatespeech  \n",
              "0  RT AT_MENTION: How can anyone hate Charlie She...          False  \n",
              "2  RT AT_MENTION: she paid $5 to hold the monkey ...          False  \n",
              "3  RT AT_MENTION: Apartheid. &#8220;AT_MENTION: p...           True  \n",
              "4  AT_MENTION \\nShe be what we say in da hood whi...           True  \n",
              "5        Get your nasty ass out of my snapchat bitch          False  "
            ],
            "text/html": [
              "\n",
              "\n",
              "  <div id=\"df-6a2677ae-6627-4c65-a6ee-25f35edb80ab\">\n",
              "    <div class=\"colab-df-container\">\n",
              "      <div>\n",
              "<style scoped>\n",
              "    .dataframe tbody tr th:only-of-type {\n",
              "        vertical-align: middle;\n",
              "    }\n",
              "\n",
              "    .dataframe tbody tr th {\n",
              "        vertical-align: top;\n",
              "    }\n",
              "\n",
              "    .dataframe thead th {\n",
              "        text-align: right;\n",
              "    }\n",
              "</style>\n",
              "<table border=\"1\" class=\"dataframe\">\n",
              "  <thead>\n",
              "    <tr style=\"text-align: right;\">\n",
              "      <th></th>\n",
              "      <th>count</th>\n",
              "      <th>hate_speech</th>\n",
              "      <th>offensive_language</th>\n",
              "      <th>neither</th>\n",
              "      <th>class</th>\n",
              "      <th>tweet</th>\n",
              "      <th>is_hatespeech</th>\n",
              "    </tr>\n",
              "  </thead>\n",
              "  <tbody>\n",
              "    <tr>\n",
              "      <th>0</th>\n",
              "      <td>3</td>\n",
              "      <td>0.000000</td>\n",
              "      <td>0.000000</td>\n",
              "      <td>1.0</td>\n",
              "      <td>2</td>\n",
              "      <td>RT AT_MENTION: How can anyone hate Charlie She...</td>\n",
              "      <td>False</td>\n",
              "    </tr>\n",
              "    <tr>\n",
              "      <th>2</th>\n",
              "      <td>3</td>\n",
              "      <td>0.000000</td>\n",
              "      <td>0.000000</td>\n",
              "      <td>1.0</td>\n",
              "      <td>2</td>\n",
              "      <td>RT AT_MENTION: she paid $5 to hold the monkey ...</td>\n",
              "      <td>False</td>\n",
              "    </tr>\n",
              "    <tr>\n",
              "      <th>3</th>\n",
              "      <td>3</td>\n",
              "      <td>1.000000</td>\n",
              "      <td>0.000000</td>\n",
              "      <td>0.0</td>\n",
              "      <td>0</td>\n",
              "      <td>RT AT_MENTION: Apartheid. &amp;#8220;AT_MENTION: p...</td>\n",
              "      <td>True</td>\n",
              "    </tr>\n",
              "    <tr>\n",
              "      <th>4</th>\n",
              "      <td>3</td>\n",
              "      <td>0.666667</td>\n",
              "      <td>0.333333</td>\n",
              "      <td>0.0</td>\n",
              "      <td>0</td>\n",
              "      <td>AT_MENTION \\nShe be what we say in da hood whi...</td>\n",
              "      <td>True</td>\n",
              "    </tr>\n",
              "    <tr>\n",
              "      <th>5</th>\n",
              "      <td>3</td>\n",
              "      <td>0.000000</td>\n",
              "      <td>1.000000</td>\n",
              "      <td>0.0</td>\n",
              "      <td>1</td>\n",
              "      <td>Get your nasty ass out of my snapchat bitch</td>\n",
              "      <td>False</td>\n",
              "    </tr>\n",
              "  </tbody>\n",
              "</table>\n",
              "</div>\n",
              "      <button class=\"colab-df-convert\" onclick=\"convertToInteractive('df-6a2677ae-6627-4c65-a6ee-25f35edb80ab')\"\n",
              "              title=\"Convert this dataframe to an interactive table.\"\n",
              "              style=\"display:none;\">\n",
              "\n",
              "  <svg xmlns=\"http://www.w3.org/2000/svg\" height=\"24px\"viewBox=\"0 0 24 24\"\n",
              "       width=\"24px\">\n",
              "    <path d=\"M0 0h24v24H0V0z\" fill=\"none\"/>\n",
              "    <path d=\"M18.56 5.44l.94 2.06.94-2.06 2.06-.94-2.06-.94-.94-2.06-.94 2.06-2.06.94zm-11 1L8.5 8.5l.94-2.06 2.06-.94-2.06-.94L8.5 2.5l-.94 2.06-2.06.94zm10 10l.94 2.06.94-2.06 2.06-.94-2.06-.94-.94-2.06-.94 2.06-2.06.94z\"/><path d=\"M17.41 7.96l-1.37-1.37c-.4-.4-.92-.59-1.43-.59-.52 0-1.04.2-1.43.59L10.3 9.45l-7.72 7.72c-.78.78-.78 2.05 0 2.83L4 21.41c.39.39.9.59 1.41.59.51 0 1.02-.2 1.41-.59l7.78-7.78 2.81-2.81c.8-.78.8-2.07 0-2.86zM5.41 20L4 18.59l7.72-7.72 1.47 1.35L5.41 20z\"/>\n",
              "  </svg>\n",
              "      </button>\n",
              "\n",
              "\n",
              "\n",
              "    <div id=\"df-370dcc3d-d9be-4ca5-92d5-66c73b279b69\">\n",
              "      <button class=\"colab-df-quickchart\" onclick=\"quickchart('df-370dcc3d-d9be-4ca5-92d5-66c73b279b69')\"\n",
              "              title=\"Suggest charts.\"\n",
              "              style=\"display:none;\">\n",
              "\n",
              "<svg xmlns=\"http://www.w3.org/2000/svg\" height=\"24px\"viewBox=\"0 0 24 24\"\n",
              "     width=\"24px\">\n",
              "    <g>\n",
              "        <path d=\"M19 3H5c-1.1 0-2 .9-2 2v14c0 1.1.9 2 2 2h14c1.1 0 2-.9 2-2V5c0-1.1-.9-2-2-2zM9 17H7v-7h2v7zm4 0h-2V7h2v10zm4 0h-2v-4h2v4z\"/>\n",
              "    </g>\n",
              "</svg>\n",
              "      </button>\n",
              "    </div>\n",
              "\n",
              "<style>\n",
              "  .colab-df-quickchart {\n",
              "    background-color: #E8F0FE;\n",
              "    border: none;\n",
              "    border-radius: 50%;\n",
              "    cursor: pointer;\n",
              "    display: none;\n",
              "    fill: #1967D2;\n",
              "    height: 32px;\n",
              "    padding: 0 0 0 0;\n",
              "    width: 32px;\n",
              "  }\n",
              "\n",
              "  .colab-df-quickchart:hover {\n",
              "    background-color: #E2EBFA;\n",
              "    box-shadow: 0px 1px 2px rgba(60, 64, 67, 0.3), 0px 1px 3px 1px rgba(60, 64, 67, 0.15);\n",
              "    fill: #174EA6;\n",
              "  }\n",
              "\n",
              "  [theme=dark] .colab-df-quickchart {\n",
              "    background-color: #3B4455;\n",
              "    fill: #D2E3FC;\n",
              "  }\n",
              "\n",
              "  [theme=dark] .colab-df-quickchart:hover {\n",
              "    background-color: #434B5C;\n",
              "    box-shadow: 0px 1px 3px 1px rgba(0, 0, 0, 0.15);\n",
              "    filter: drop-shadow(0px 1px 2px rgba(0, 0, 0, 0.3));\n",
              "    fill: #FFFFFF;\n",
              "  }\n",
              "</style>\n",
              "\n",
              "    <script>\n",
              "      async function quickchart(key) {\n",
              "        const containerElement = document.querySelector('#' + key);\n",
              "        const charts = await google.colab.kernel.invokeFunction(\n",
              "            'suggestCharts', [key], {});\n",
              "      }\n",
              "    </script>\n",
              "\n",
              "      <script>\n",
              "\n",
              "function displayQuickchartButton(domScope) {\n",
              "  let quickchartButtonEl =\n",
              "    domScope.querySelector('#df-370dcc3d-d9be-4ca5-92d5-66c73b279b69 button.colab-df-quickchart');\n",
              "  quickchartButtonEl.style.display =\n",
              "    google.colab.kernel.accessAllowed ? 'block' : 'none';\n",
              "}\n",
              "\n",
              "        displayQuickchartButton(document);\n",
              "      </script>\n",
              "      <style>\n",
              "    .colab-df-container {\n",
              "      display:flex;\n",
              "      flex-wrap:wrap;\n",
              "      gap: 12px;\n",
              "    }\n",
              "\n",
              "    .colab-df-convert {\n",
              "      background-color: #E8F0FE;\n",
              "      border: none;\n",
              "      border-radius: 50%;\n",
              "      cursor: pointer;\n",
              "      display: none;\n",
              "      fill: #1967D2;\n",
              "      height: 32px;\n",
              "      padding: 0 0 0 0;\n",
              "      width: 32px;\n",
              "    }\n",
              "\n",
              "    .colab-df-convert:hover {\n",
              "      background-color: #E2EBFA;\n",
              "      box-shadow: 0px 1px 2px rgba(60, 64, 67, 0.3), 0px 1px 3px 1px rgba(60, 64, 67, 0.15);\n",
              "      fill: #174EA6;\n",
              "    }\n",
              "\n",
              "    [theme=dark] .colab-df-convert {\n",
              "      background-color: #3B4455;\n",
              "      fill: #D2E3FC;\n",
              "    }\n",
              "\n",
              "    [theme=dark] .colab-df-convert:hover {\n",
              "      background-color: #434B5C;\n",
              "      box-shadow: 0px 1px 3px 1px rgba(0, 0, 0, 0.15);\n",
              "      filter: drop-shadow(0px 1px 2px rgba(0, 0, 0, 0.3));\n",
              "      fill: #FFFFFF;\n",
              "    }\n",
              "  </style>\n",
              "\n",
              "      <script>\n",
              "        const buttonEl =\n",
              "          document.querySelector('#df-6a2677ae-6627-4c65-a6ee-25f35edb80ab button.colab-df-convert');\n",
              "        buttonEl.style.display =\n",
              "          google.colab.kernel.accessAllowed ? 'block' : 'none';\n",
              "\n",
              "        async function convertToInteractive(key) {\n",
              "          const element = document.querySelector('#df-6a2677ae-6627-4c65-a6ee-25f35edb80ab');\n",
              "          const dataTable =\n",
              "            await google.colab.kernel.invokeFunction('convertToInteractive',\n",
              "                                                     [key], {});\n",
              "          if (!dataTable) return;\n",
              "\n",
              "          const docLinkHtml = 'Like what you see? Visit the ' +\n",
              "            '<a target=\"_blank\" href=https://colab.research.google.com/notebooks/data_table.ipynb>data table notebook</a>'\n",
              "            + ' to learn more about interactive tables.';\n",
              "          element.innerHTML = '';\n",
              "          dataTable['output_type'] = 'display_data';\n",
              "          await google.colab.output.renderOutput(dataTable, element);\n",
              "          const docLink = document.createElement('div');\n",
              "          docLink.innerHTML = docLinkHtml;\n",
              "          element.appendChild(docLink);\n",
              "        }\n",
              "      </script>\n",
              "    </div>\n",
              "  </div>\n"
            ]
          },
          "metadata": {},
          "execution_count": 3
        }
      ],
      "source": [
        "# Load data from Google Drive\n",
        "drive.mount('/mnt/gdrive')\n",
        "project_dir = \"/mnt/gdrive/MyDrive/W266 Final Project\"\n",
        "train_df = pd.read_csv(f\"{project_dir}/train_df.csv\", index_col=0)\n",
        "test_df = pd.read_csv(f\"{project_dir}/test_df.csv\", index_col=0)\n",
        "train_df.head()"
      ]
    },
    {
      "cell_type": "markdown",
      "source": [
        "# Helper Functions"
      ],
      "metadata": {
        "id": "5GwE27hAjVs-"
      }
    },
    {
      "cell_type": "code",
      "source": [
        "def plot_train_test_loss(model_history):\n",
        "    # Plot training/test loss against epochs\n",
        "    ymax = max(np.max(model_history.history[\"loss\"]), np.max(model_history.history[\"val_loss\"]))\n",
        "    plt.plot(model_history.history[\"loss\"])\n",
        "    plt.plot(model_history.history[\"val_loss\"])\n",
        "    plt.title(\"Train/Test Loss\")\n",
        "    plt.xlabel(\"Epochs\")\n",
        "    plt.ylabel(\"Loss\")\n",
        "    plt.ylim(0.0, ymax * 1.1)\n",
        "    plt.legend([\"Train\", \"Test\"])\n",
        "    plt.show()"
      ],
      "metadata": {
        "id": "X0RzmbEHZHUe"
      },
      "execution_count": null,
      "outputs": []
    },
    {
      "cell_type": "code",
      "source": [
        "def compute_metrics(y_true, y_pred):\n",
        "    p = tf.keras.metrics.Precision()\n",
        "    p.update_state(y_true, y_pred)\n",
        "    precision = p.result()\n",
        "\n",
        "    r = tf.keras.metrics.Recall()\n",
        "    r.update_state(y_true, y_pred)\n",
        "    recall = r.result()\n",
        "\n",
        "    f1 = 2 * (precision * recall) / (precision + recall)\n",
        "\n",
        "    return precision, recall, f1"
      ],
      "metadata": {
        "id": "9ssfuLxMXp1i"
      },
      "execution_count": null,
      "outputs": []
    },
    {
      "cell_type": "markdown",
      "source": [
        "# Training"
      ],
      "metadata": {
        "id": "O9TfReKLjY6Y"
      }
    },
    {
      "cell_type": "code",
      "source": [
        "PRETRAINED_MODEL = \"bert-base-uncased\"\n",
        "bert_tokenizer = BertTokenizer.from_pretrained(PRETRAINED_MODEL, do_lower_case=True)\n",
        "bert_model = TFBertModel.from_pretrained(PRETRAINED_MODEL)"
      ],
      "metadata": {
        "colab": {
          "base_uri": "https://localhost:8080/"
        },
        "id": "Y6PiIF5ibdag",
        "outputId": "eded9e21-764e-4f2d-c93f-d8a376eb2e29"
      },
      "execution_count": null,
      "outputs": [
        {
          "output_type": "stream",
          "name": "stderr",
          "text": [
            "Some weights of the PyTorch model were not used when initializing the TF 2.0 model TFBertModel: ['cls.predictions.transform.LayerNorm.bias', 'cls.seq_relationship.weight', 'cls.predictions.bias', 'cls.predictions.transform.dense.bias', 'cls.predictions.transform.LayerNorm.weight', 'cls.predictions.transform.dense.weight', 'cls.seq_relationship.bias']\n",
            "- This IS expected if you are initializing TFBertModel from a PyTorch model trained on another task or with another architecture (e.g. initializing a TFBertForSequenceClassification model from a BertForPreTraining model).\n",
            "- This IS NOT expected if you are initializing TFBertModel from a PyTorch model that you expect to be exactly identical (e.g. initializing a TFBertForSequenceClassification model from a BertForSequenceClassification model).\n",
            "All the weights of TFBertModel were initialized from the PyTorch model.\n",
            "If your task is similar to the task the model of the checkpoint was trained on, you can already use TFBertModel for predictions without further training.\n"
          ]
        }
      ]
    },
    {
      "cell_type": "code",
      "source": [
        "MAX_SEQUENCE_LENGTH = 128\n",
        "\n",
        "X_train = bert_tokenizer(\n",
        "    train_df.tweet.tolist(),\n",
        "    max_length=MAX_SEQUENCE_LENGTH,\n",
        "    truncation=True,\n",
        "    padding='max_length',\n",
        "    return_tensors='tf',\n",
        ")\n",
        "\n",
        "X_test = bert_tokenizer(\n",
        "    test_df.tweet.tolist(),\n",
        "    max_length=MAX_SEQUENCE_LENGTH,\n",
        "    truncation=True,\n",
        "    padding='max_length',\n",
        "    return_tensors='tf',\n",
        ")\n",
        "\n",
        "Y_train = train_df.is_hatespeech\n",
        "Y_test = test_df.is_hatespeech\n",
        "\n",
        "print(\"X_train shape:\", X_train[\"input_ids\"].shape)\n",
        "print(\"X_test  shape:\", X_test[\"input_ids\"].shape)"
      ],
      "metadata": {
        "id": "MQ_U1gLJYrct",
        "colab": {
          "base_uri": "https://localhost:8080/"
        },
        "outputId": "cdbae2f5-a51f-4ec9-e701-6c8da6c3f6ce"
      },
      "execution_count": null,
      "outputs": [
        {
          "output_type": "stream",
          "name": "stdout",
          "text": [
            "X_train shape: (2288, 128)\n",
            "X_test  shape: (572, 128)\n"
          ]
        }
      ]
    },
    {
      "cell_type": "code",
      "source": [
        "# Re-use BERT model from FP_BERT notebook with modifications to output attention tensors.\n",
        "def build_bert_cls_model(max_sequence_length,\n",
        "                         hidden_sizes,\n",
        "                         dropout,\n",
        "                         learning_rate):\n",
        "    # Add BERT model\n",
        "    input_ids = tf.keras.layers.Input(shape=(max_sequence_length,), dtype=tf.int64, name='input_ids_layer')\n",
        "    token_type_ids = tf.keras.layers.Input(shape=(max_sequence_length,), dtype=tf.int64, name='token_type_ids_layer')\n",
        "    attention_mask = tf.keras.layers.Input(shape=(max_sequence_length,), dtype=tf.int64, name='attention_mask_layer')\n",
        "    bert_inputs = {'input_ids': input_ids,\n",
        "                   'token_type_ids': token_type_ids,\n",
        "                   'attention_mask': attention_mask}\n",
        "    bert_out = bert_model(bert_inputs, output_attentions=True)\n",
        "    cls_token = bert_out[0][:, 0, :]\n",
        "    top_xformer_layer = bert_out[-1][-1]\n",
        "    cls_token_attentions = tf.keras.layers.Reshape((12, max_sequence_length, max_sequence_length))(top_xformer_layer)[:,:,0,:]\n",
        "\n",
        "    # Add hidden layers\n",
        "    dropout_layer = cls_token\n",
        "    for i, hidden_size in enumerate(hidden_sizes):\n",
        "        hidden_layer = tf.keras.layers.Dense(hidden_size, activation='relu', name=f'hidden_layer_{i}')(dropout_layer)\n",
        "        dropout_layer = tf.keras.layers.Dropout(dropout)(hidden_layer)\n",
        "\n",
        "    # Add classification layer\n",
        "    classification = tf.keras.layers.Dense(1, activation='sigmoid',name='classification_layer')(dropout_layer)\n",
        "\n",
        "    # Create model\n",
        "    classification_model = tf.keras.Model(\n",
        "        inputs=[input_ids, token_type_ids, attention_mask],\n",
        "        outputs=[classification, cls_token_attentions]\n",
        "    )\n",
        "    classification_model.compile(\n",
        "        optimizer=tf.keras.optimizers.Adam(learning_rate=learning_rate),\n",
        "        loss=[\"binary_crossentropy\", None],\n",
        "        metrics=['accuracy'],\n",
        "    )\n",
        "\n",
        "    return classification_model"
      ],
      "metadata": {
        "id": "jzCdNe7fJCr6"
      },
      "execution_count": null,
      "outputs": []
    },
    {
      "cell_type": "code",
      "source": [
        "# Now specify model hyperparameters and call the function to create a BERT model\n",
        "bert_cls_model = build_bert_cls_model(\n",
        "    max_sequence_length=MAX_SEQUENCE_LENGTH,\n",
        "    hidden_sizes=[100, 50],\n",
        "    dropout=0.5,\n",
        "    learning_rate=0.000005,\n",
        ")"
      ],
      "metadata": {
        "id": "qWAEPEAhJFB5"
      },
      "execution_count": null,
      "outputs": []
    },
    {
      "cell_type": "code",
      "source": [
        "tf.keras.utils.plot_model(bert_cls_model, show_shapes=True, dpi=120)"
      ],
      "metadata": {
        "colab": {
          "base_uri": "https://localhost:8080/",
          "height": 189
        },
        "id": "s36XuwGbyW4W",
        "outputId": "134f3632-5d88-42a4-89ac-22861f50b0be"
      },
      "execution_count": null,
      "outputs": [
        {
          "output_type": "execute_result",
          "data": {
            "image/png": "[encoded data removed]",
            "text/plain": [
              "<IPython.core.display.Image object>"
            ]
          },
          "metadata": {},
          "execution_count": 12
        }
      ]
    },
    {
      "cell_type": "code",
      "source": [
        "checkpoint_filepath = '/tmp/checkpoint'\n",
        "\n",
        "checkpoint_callback = tf.keras.callbacks.ModelCheckpoint(\n",
        "    filepath=checkpoint_filepath,\n",
        "    save_weights_only=True,\n",
        "    monitor=\"val_classification_layer_accuracy\",\n",
        "    mode=\"max\",\n",
        "    save_best_only=True\n",
        ")\n",
        "\n",
        "bert_cls_history = bert_cls_model.fit(\n",
        "    [X_train[\"input_ids\"], X_train[\"token_type_ids\"], X_train[\"attention_mask\"]],\n",
        "    [Y_train, tf.zeros([Y_train.shape[0],12,128])],\n",
        "    validation_data=([X_test[\"input_ids\"], X_test[\"token_type_ids\"], X_test[\"attention_mask\"]],\n",
        "                     [Y_test, tf.zeros([Y_test.shape[0],12,128])]),\n",
        "    batch_size=32,\n",
        "    epochs=10,\n",
        "    callbacks=[checkpoint_callback]\n",
        ")\n",
        "\n",
        "bert_cls_model.load_weights(checkpoint_filepath)"
      ],
      "metadata": {
        "id": "i88aVj0eJOhZ",
        "colab": {
          "base_uri": "https://localhost:8080/"
        },
        "outputId": "4facec4f-93e6-43e1-f86c-fe107245fc4a"
      },
      "execution_count": null,
      "outputs": [
        {
          "output_type": "stream",
          "name": "stdout",
          "text": [
            "Epoch 1/10\n"
          ]
        },
        {
          "output_type": "stream",
          "name": "stderr",
          "text": [
            "WARNING:tensorflow:Gradients do not exist for variables ['tf_bert_model/bert/pooler/dense/kernel:0', 'tf_bert_model/bert/pooler/dense/bias:0'] when minimizing the loss. If you're using `model.compile()`, did you forget to provide a `loss` argument?\n",
            "WARNING:tensorflow:Gradients do not exist for variables ['tf_bert_model/bert/pooler/dense/kernel:0', 'tf_bert_model/bert/pooler/dense/bias:0'] when minimizing the loss. If you're using `model.compile()`, did you forget to provide a `loss` argument?\n",
            "WARNING:tensorflow:Gradients do not exist for variables ['tf_bert_model/bert/pooler/dense/kernel:0', 'tf_bert_model/bert/pooler/dense/bias:0'] when minimizing the loss. If you're using `model.compile()`, did you forget to provide a `loss` argument?\n",
            "WARNING:tensorflow:Gradients do not exist for variables ['tf_bert_model/bert/pooler/dense/kernel:0', 'tf_bert_model/bert/pooler/dense/bias:0'] when minimizing the loss. If you're using `model.compile()`, did you forget to provide a `loss` argument?\n"
          ]
        },
        {
          "output_type": "stream",
          "name": "stdout",
          "text": [
            "72/72 [==============================] - 70s 333ms/step - loss: 0.7227 - classification_layer_loss: 0.7227 - classification_layer_accuracy: 0.5118 - tf.__operators__.getitem_1_accuracy: 0.2147 - val_loss: 0.6784 - val_classification_layer_loss: 0.6784 - val_classification_layer_accuracy: 0.6101 - val_tf.__operators__.getitem_1_accuracy: 0.1563\n",
            "Epoch 2/10\n",
            "72/72 [==============================] - 15s 213ms/step - loss: 0.6925 - classification_layer_loss: 0.6925 - classification_layer_accuracy: 0.5310 - tf.__operators__.getitem_1_accuracy: 0.1415 - val_loss: 0.6595 - val_classification_layer_loss: 0.6595 - val_classification_layer_accuracy: 0.6521 - val_tf.__operators__.getitem_1_accuracy: 0.1305\n",
            "Epoch 3/10\n",
            "72/72 [==============================] - 16s 220ms/step - loss: 0.6647 - classification_layer_loss: 0.6647 - classification_layer_accuracy: 0.5883 - tf.__operators__.getitem_1_accuracy: 0.1304 - val_loss: 0.6258 - val_classification_layer_loss: 0.6258 - val_classification_layer_accuracy: 0.6836 - val_tf.__operators__.getitem_1_accuracy: 0.1119\n",
            "Epoch 4/10\n",
            "72/72 [==============================] - 12s 171ms/step - loss: 0.6106 - classification_layer_loss: 0.6106 - classification_layer_accuracy: 0.6573 - tf.__operators__.getitem_1_accuracy: 0.1145 - val_loss: 0.5317 - val_classification_layer_loss: 0.5317 - val_classification_layer_accuracy: 0.7622 - val_tf.__operators__.getitem_1_accuracy: 0.0959\n",
            "Epoch 5/10\n",
            "72/72 [==============================] - 11s 157ms/step - loss: 0.5239 - classification_layer_loss: 0.5239 - classification_layer_accuracy: 0.7662 - tf.__operators__.getitem_1_accuracy: 0.0995 - val_loss: 0.4600 - val_classification_layer_loss: 0.4600 - val_classification_layer_accuracy: 0.7972 - val_tf.__operators__.getitem_1_accuracy: 0.0814\n",
            "Epoch 6/10\n",
            "72/72 [==============================] - 10s 144ms/step - loss: 0.4625 - classification_layer_loss: 0.4625 - classification_layer_accuracy: 0.8103 - tf.__operators__.getitem_1_accuracy: 0.0972 - val_loss: 0.4621 - val_classification_layer_loss: 0.4621 - val_classification_layer_accuracy: 0.7902 - val_tf.__operators__.getitem_1_accuracy: 0.0848\n",
            "Epoch 7/10\n",
            "72/72 [==============================] - 11s 152ms/step - loss: 0.4122 - classification_layer_loss: 0.4122 - classification_layer_accuracy: 0.8300 - tf.__operators__.getitem_1_accuracy: 0.0829 - val_loss: 0.4581 - val_classification_layer_loss: 0.4581 - val_classification_layer_accuracy: 0.7990 - val_tf.__operators__.getitem_1_accuracy: 0.0669\n",
            "Epoch 8/10\n",
            "72/72 [==============================] - 11s 149ms/step - loss: 0.3561 - classification_layer_loss: 0.3561 - classification_layer_accuracy: 0.8558 - tf.__operators__.getitem_1_accuracy: 0.0772 - val_loss: 0.4512 - val_classification_layer_loss: 0.4512 - val_classification_layer_accuracy: 0.8129 - val_tf.__operators__.getitem_1_accuracy: 0.0548\n",
            "Epoch 9/10\n",
            "72/72 [==============================] - 10s 137ms/step - loss: 0.3342 - classification_layer_loss: 0.3342 - classification_layer_accuracy: 0.8763 - tf.__operators__.getitem_1_accuracy: 0.0876 - val_loss: 0.4988 - val_classification_layer_loss: 0.4988 - val_classification_layer_accuracy: 0.8007 - val_tf.__operators__.getitem_1_accuracy: 0.0612\n",
            "Epoch 10/10\n",
            "72/72 [==============================] - 11s 147ms/step - loss: 0.2827 - classification_layer_loss: 0.2827 - classification_layer_accuracy: 0.9003 - tf.__operators__.getitem_1_accuracy: 0.0814 - val_loss: 0.4784 - val_classification_layer_loss: 0.4784 - val_classification_layer_accuracy: 0.8164 - val_tf.__operators__.getitem_1_accuracy: 0.0581\n"
          ]
        },
        {
          "output_type": "execute_result",
          "data": {
            "text/plain": [
              "<tensorflow.python.checkpoint.checkpoint.CheckpointLoadStatus at 0x7f5c884d8af0>"
            ]
          },
          "metadata": {},
          "execution_count": 13
        }
      ]
    },
    {
      "cell_type": "code",
      "source": [
        "!mkdir -p {project_dir}/bert_attention/checkpoint"
      ],
      "metadata": {
        "id": "P1p7F8eghxXj"
      },
      "execution_count": null,
      "outputs": []
    },
    {
      "cell_type": "code",
      "source": [
        "bert_cls_model.save_weights(f\"{project_dir}/bert_attention/checkpoint\")"
      ],
      "metadata": {
        "id": "uOTDTEuGhScO"
      },
      "execution_count": null,
      "outputs": []
    },
    {
      "cell_type": "code",
      "source": [
        "bert_cls_model.load_weights(f\"{project_dir}/bert_attention/checkpoint\")"
      ],
      "metadata": {
        "colab": {
          "base_uri": "https://localhost:8080/"
        },
        "id": "95uPLVZwhXJa",
        "outputId": "4b7ea773-1697-4038-9879-80f38c7c5658"
      },
      "execution_count": null,
      "outputs": [
        {
          "output_type": "execute_result",
          "data": {
            "text/plain": [
              "<tensorflow.python.checkpoint.checkpoint.CheckpointLoadStatus at 0x79ab412f0bb0>"
            ]
          },
          "metadata": {},
          "execution_count": 10
        }
      ]
    },
    {
      "cell_type": "markdown",
      "source": [
        "# Evaluation"
      ],
      "metadata": {
        "id": "cD2TY6XLjdKZ"
      }
    },
    {
      "cell_type": "code",
      "source": [
        "plot_train_test_loss(bert_cls_history)"
      ],
      "metadata": {
        "id": "laA3RtK8JP5J",
        "colab": {
          "base_uri": "https://localhost:8080/",
          "height": 472
        },
        "outputId": "fd3a23d8-b043-489e-bb3a-634371a68a99"
      },
      "execution_count": null,
      "outputs": [
        {
          "output_type": "display_data",
          "data": {
            "text/plain": [
              "<Figure size 640x480 with 1 Axes>"
            ],
            "image/png": "[encoded data removed]"
          },
          "metadata": {}
        }
      ]
    },
    {
      "cell_type": "code",
      "source": [
        "Y_pred, attn = bert_cls_model.predict([X_test[\"input_ids\"], X_test[\"token_type_ids\"], X_test[\"attention_mask\"]])"
      ],
      "metadata": {
        "colab": {
          "base_uri": "https://localhost:8080/"
        },
        "id": "GFV0CTIBXd5i",
        "outputId": "2fdd8381-8d95-4295-8253-176e21c06de5"
      },
      "execution_count": null,
      "outputs": [
        {
          "output_type": "stream",
          "name": "stdout",
          "text": [
            "18/18 [==============================] - 4s 39ms/step\n"
          ]
        }
      ]
    },
    {
      "cell_type": "code",
      "source": [
        "print(\"\\nTest metrics:\")\n",
        "precision, recall, f1 = compute_metrics(Y_test, Y_pred)\n",
        "print(f\"Precision: {precision:0.4f}\")\n",
        "print(f\"Recall:    {recall:0.4f}\")\n",
        "print(f\"F1 Score:  {f1:00.4f}\")"
      ],
      "metadata": {
        "colab": {
          "base_uri": "https://localhost:8080/"
        },
        "id": "b8Yll_upXrde",
        "outputId": "0eff34ec-0baa-4bcb-a1f2-1ef4083f173a"
      },
      "execution_count": null,
      "outputs": [
        {
          "output_type": "stream",
          "name": "stdout",
          "text": [
            "\n",
            "Test metrics:\n",
            "Precision: 0.7796\n",
            "Recall:    0.8714\n",
            "F1 Score:  0.8229\n"
          ]
        }
      ]
    },
    {
      "cell_type": "markdown",
      "source": [
        "# Visualize Overall Attention\n",
        "\n",
        "Extract attention weights for individual tweets and visualize the weights for the [CLS] token to attend to all other tokens. Since there are 12 attention heads in BERT, we combine 12 attention vectors into a single 128d vector -- we experiment with a few approaches for how to combine."
      ],
      "metadata": {
        "id": "UnYBipZTf6IB"
      }
    },
    {
      "cell_type": "code",
      "source": [
        "def get_token_attentions(row, reduce_attn_callback):\n",
        "    tokens = bert_tokenizer(\n",
        "        [row.tweet],\n",
        "        max_length=MAX_SEQUENCE_LENGTH,\n",
        "        truncation=True,\n",
        "        padding='max_length',\n",
        "        return_tensors='tf',\n",
        "    )\n",
        "    detokens = bert_tokenizer.convert_ids_to_tokens(tokens[\"input_ids\"][0])\n",
        "    max_idx = detokens.index(\"[SEP]\")\n",
        "    tokens_slice = detokens[1:max_idx]\n",
        "    pred, attn = bert_cls_model.predict([tokens[\"input_ids\"], tokens[\"token_type_ids\"], tokens[\"attention_mask\"]], verbose=False)\n",
        "    attn_slice = attn.reshape(12, MAX_SEQUENCE_LENGTH)[:, 1:max_idx]\n",
        "    attn_sum = reduce_attn_callback(attn_slice)\n",
        "    token_attn = list(zip(tokens_slice, attn_sum.numpy()))\n",
        "    return token_attn"
      ],
      "metadata": {
        "id": "kvOQ_i2wPnHo"
      },
      "execution_count": null,
      "outputs": []
    },
    {
      "cell_type": "code",
      "source": [
        "# A few different options for combining 12 attention heads into a single attention score\n",
        "def reduce_attn_sum(attn_slice):\n",
        "    return tf.linalg.normalize(tf.math.reduce_sum(attn_slice, 0))[0]\n",
        "\n",
        "def reduce_attn_prod(attn_slice):\n",
        "    return tf.linalg.normalize(tf.math.reduce_prod(attn_slice, 0))[0]\n",
        "\n",
        "def reduce_attn_max(attn_slice):\n",
        "    return tf.linalg.normalize(tf.math.reduce_max(attn_slice, 0))[0]"
      ],
      "metadata": {
        "id": "_x6RI4zqROMp"
      },
      "execution_count": null,
      "outputs": []
    },
    {
      "cell_type": "code",
      "source": [
        "def visualize_attention(is_hatespeech, attn):\n",
        "    html = \"<p style='font-size: 12pt; line-height: 2'>\\n\"\n",
        "    if is_hatespeech:\n",
        "        html += f\"<span style='padding: 3px; background-color: #ff9900'>Label: Hate Speech</span>\\n\"\n",
        "    else:\n",
        "        html += f\"<span style='padding: 3px; background-color: #00cc99'>Label: Not Hate Speech</span>\\n\"\n",
        "    for token, score in attn:\n",
        "        color = int((1-score) * 255)\n",
        "        html += f\"<span style='padding: 3px; background-color: #ff{color:02x}{color:02x}'>{token}</span>\\n\"\n",
        "    html += \"</p>\\n\"\n",
        "    return HTML(html)"
      ],
      "metadata": {
        "id": "MXjI_dssDHp3"
      },
      "execution_count": null,
      "outputs": []
    },
    {
      "cell_type": "code",
      "source": [
        "def test_row_all(n):\n",
        "    row = test_df.iloc[n]\n",
        "    print(\"Using sum:\")\n",
        "    token_attn = get_token_attentions(row, reduce_attn_sum)\n",
        "    display(visualize_attention(row.is_hatespeech, token_attn))\n",
        "    print(\"Using product:\")\n",
        "    token_attn = get_token_attentions(row, reduce_attn_prod)\n",
        "    display(visualize_attention(row.is_hatespeech, token_attn))\n",
        "    print(\"Using max:\")\n",
        "    token_attn = get_token_attentions(row, reduce_attn_max)\n",
        "    display(visualize_attention(row.is_hatespeech, token_attn))"
      ],
      "metadata": {
        "id": "XqQkkQADkmxl"
      },
      "execution_count": null,
      "outputs": []
    },
    {
      "cell_type": "code",
      "source": [
        "test_row_all(16)"
      ],
      "metadata": {
        "colab": {
          "base_uri": "https://localhost:8080/",
          "height": 401
        },
        "id": "C7aC9GOGVFl2",
        "outputId": "1606cbbe-0a30-49c7-9602-04f60d230148"
      },
      "execution_count": null,
      "outputs": [
        {
          "output_type": "stream",
          "name": "stdout",
          "text": [
            "Using sum:\n",
            "1/1 [==============================] - 0s 42ms/step\n",
            "(28,)\n"
          ]
        },
        {
          "output_type": "display_data",
          "data": {
            "text/plain": [
              "<IPython.core.display.HTML object>"
            ],
            "text/html": [
              "<p style='font-size: 12pt; line-height: 2'>\n",
              "<span style='padding: 3px; background-color: #ff9900'>Label: Hate Speech</span>\n",
              "<span style='padding: 3px; background-color: #fffafa'>at</span>\n",
              "<span style='padding: 3px; background-color: #fffefe'>_</span>\n",
              "<span style='padding: 3px; background-color: #fffafa'>mention</span>\n",
              "<span style='padding: 3px; background-color: #fffdfd'>at</span>\n",
              "<span style='padding: 3px; background-color: #fffefe'>_</span>\n",
              "<span style='padding: 3px; background-color: #fffbfb'>mention</span>\n",
              "<span style='padding: 3px; background-color: #fffdfd'>at</span>\n",
              "<span style='padding: 3px; background-color: #fffefe'>_</span>\n",
              "<span style='padding: 3px; background-color: #fffbfb'>mention</span>\n",
              "<span style='padding: 3px; background-color: #fffcfc'>at</span>\n",
              "<span style='padding: 3px; background-color: #fffdfd'>_</span>\n",
              "<span style='padding: 3px; background-color: #fffbfb'>mention</span>\n",
              "<span style='padding: 3px; background-color: #fffcfc'>at</span>\n",
              "<span style='padding: 3px; background-color: #fffdfd'>_</span>\n",
              "<span style='padding: 3px; background-color: #fff8f8'>mention</span>\n",
              "<span style='padding: 3px; background-color: #ffb0b0'>oh</span>\n",
              "<span style='padding: 3px; background-color: #ffd4d4'>shut</span>\n",
              "<span style='padding: 3px; background-color: #ffbdbd'>up</span>\n",
              "<span style='padding: 3px; background-color: #ff8484'>fa</span>\n",
              "<span style='padding: 3px; background-color: #ff5252'>##gg</span>\n",
              "<span style='padding: 3px; background-color: #ffc5c5'>##ot</span>\n",
              "<span style='padding: 3px; background-color: #ffdddd'>get</span>\n",
              "<span style='padding: 3px; background-color: #ffdcdc'>a</span>\n",
              "<span style='padding: 3px; background-color: #ffe0e0'>disease</span>\n",
              "<span style='padding: 3px; background-color: #fff6f6'>over</span>\n",
              "<span style='padding: 3px; background-color: #fff0f0'>##used</span>\n",
              "<span style='padding: 3px; background-color: #fff9f9'>on</span>\n",
              "<span style='padding: 3px; background-color: #ffe4e4'>twitter</span>\n",
              "</p>\n"
            ]
          },
          "metadata": {}
        },
        {
          "output_type": "stream",
          "name": "stdout",
          "text": [
            "Using product:\n",
            "1/1 [==============================] - 0s 43ms/step\n",
            "(28,)\n"
          ]
        },
        {
          "output_type": "display_data",
          "data": {
            "text/plain": [
              "<IPython.core.display.HTML object>"
            ],
            "text/html": [
              "<p style='font-size: 12pt; line-height: 2'>\n",
              "<span style='padding: 3px; background-color: #ff9900'>Label: Hate Speech</span>\n",
              "<span style='padding: 3px; background-color: #ffffff'>at</span>\n",
              "<span style='padding: 3px; background-color: #ffffff'>_</span>\n",
              "<span style='padding: 3px; background-color: #ffffff'>mention</span>\n",
              "<span style='padding: 3px; background-color: #ffffff'>at</span>\n",
              "<span style='padding: 3px; background-color: #ffffff'>_</span>\n",
              "<span style='padding: 3px; background-color: #ffffff'>mention</span>\n",
              "<span style='padding: 3px; background-color: #ffffff'>at</span>\n",
              "<span style='padding: 3px; background-color: #ffffff'>_</span>\n",
              "<span style='padding: 3px; background-color: #ffffff'>mention</span>\n",
              "<span style='padding: 3px; background-color: #ffffff'>at</span>\n",
              "<span style='padding: 3px; background-color: #ffffff'>_</span>\n",
              "<span style='padding: 3px; background-color: #ffffff'>mention</span>\n",
              "<span style='padding: 3px; background-color: #ffffff'>at</span>\n",
              "<span style='padding: 3px; background-color: #ffffff'>_</span>\n",
              "<span style='padding: 3px; background-color: #fffefe'>mention</span>\n",
              "<span style='padding: 3px; background-color: #fffefe'>oh</span>\n",
              "<span style='padding: 3px; background-color: #fffefe'>shut</span>\n",
              "<span style='padding: 3px; background-color: #fffefe'>up</span>\n",
              "<span style='padding: 3px; background-color: #ffdfdf'>fa</span>\n",
              "<span style='padding: 3px; background-color: #ff0101'>##gg</span>\n",
              "<span style='padding: 3px; background-color: #fffefe'>##ot</span>\n",
              "<span style='padding: 3px; background-color: #fffefe'>get</span>\n",
              "<span style='padding: 3px; background-color: #fffefe'>a</span>\n",
              "<span style='padding: 3px; background-color: #fffefe'>disease</span>\n",
              "<span style='padding: 3px; background-color: #fffefe'>over</span>\n",
              "<span style='padding: 3px; background-color: #fffefe'>##used</span>\n",
              "<span style='padding: 3px; background-color: #ffffff'>on</span>\n",
              "<span style='padding: 3px; background-color: #fffefe'>twitter</span>\n",
              "</p>\n"
            ]
          },
          "metadata": {}
        },
        {
          "output_type": "stream",
          "name": "stdout",
          "text": [
            "Using max:\n",
            "1/1 [==============================] - 0s 42ms/step\n",
            "(28,)\n"
          ]
        },
        {
          "output_type": "display_data",
          "data": {
            "text/plain": [
              "<IPython.core.display.HTML object>"
            ],
            "text/html": [
              "<p style='font-size: 12pt; line-height: 2'>\n",
              "<span style='padding: 3px; background-color: #ff9900'>Label: Hate Speech</span>\n",
              "<span style='padding: 3px; background-color: #fff6f6'>at</span>\n",
              "<span style='padding: 3px; background-color: #fffdfd'>_</span>\n",
              "<span style='padding: 3px; background-color: #fffcfc'>mention</span>\n",
              "<span style='padding: 3px; background-color: #fff9f9'>at</span>\n",
              "<span style='padding: 3px; background-color: #fffdfd'>_</span>\n",
              "<span style='padding: 3px; background-color: #fffbfb'>mention</span>\n",
              "<span style='padding: 3px; background-color: #fffbfb'>at</span>\n",
              "<span style='padding: 3px; background-color: #fffdfd'>_</span>\n",
              "<span style='padding: 3px; background-color: #fffbfb'>mention</span>\n",
              "<span style='padding: 3px; background-color: #fffafa'>at</span>\n",
              "<span style='padding: 3px; background-color: #fffcfc'>_</span>\n",
              "<span style='padding: 3px; background-color: #fffbfb'>mention</span>\n",
              "<span style='padding: 3px; background-color: #fff9f9'>at</span>\n",
              "<span style='padding: 3px; background-color: #fffcfc'>_</span>\n",
              "<span style='padding: 3px; background-color: #fff7f7'>mention</span>\n",
              "<span style='padding: 3px; background-color: #ffbcbc'>oh</span>\n",
              "<span style='padding: 3px; background-color: #ffd8d8'>shut</span>\n",
              "<span style='padding: 3px; background-color: #ffcbcb'>up</span>\n",
              "<span style='padding: 3px; background-color: #ffaeae'>fa</span>\n",
              "<span style='padding: 3px; background-color: #ff4040'>##gg</span>\n",
              "<span style='padding: 3px; background-color: #ffd3d3'>##ot</span>\n",
              "<span style='padding: 3px; background-color: #ffdbdb'>get</span>\n",
              "<span style='padding: 3px; background-color: #ffadad'>a</span>\n",
              "<span style='padding: 3px; background-color: #ffe2e2'>disease</span>\n",
              "<span style='padding: 3px; background-color: #fff5f5'>over</span>\n",
              "<span style='padding: 3px; background-color: #ffe8e8'>##used</span>\n",
              "<span style='padding: 3px; background-color: #fff8f8'>on</span>\n",
              "<span style='padding: 3px; background-color: #ffcfcf'>twitter</span>\n",
              "</p>\n"
            ]
          },
          "metadata": {}
        }
      ]
    },
    {
      "cell_type": "code",
      "source": [
        "test_row_all(17)"
      ],
      "metadata": {
        "colab": {
          "base_uri": "https://localhost:8080/",
          "height": 401
        },
        "id": "HNK3k8dDVbXH",
        "outputId": "b4e53f1d-6651-4667-c0ae-4725426f8cb9"
      },
      "execution_count": null,
      "outputs": [
        {
          "output_type": "stream",
          "name": "stdout",
          "text": [
            "Using sum:\n",
            "1/1 [==============================] - 0s 41ms/step\n",
            "(30,)\n"
          ]
        },
        {
          "output_type": "display_data",
          "data": {
            "text/plain": [
              "<IPython.core.display.HTML object>"
            ],
            "text/html": [
              "<p style='font-size: 12pt; line-height: 2'>\n",
              "<span style='padding: 3px; background-color: #ff9900'>Label: Hate Speech</span>\n",
              "<span style='padding: 3px; background-color: #fff2f2'>at</span>\n",
              "<span style='padding: 3px; background-color: #ffecec'>_</span>\n",
              "<span style='padding: 3px; background-color: #ffecec'>mention</span>\n",
              "<span style='padding: 3px; background-color: #ffe6e6'>i</span>\n",
              "<span style='padding: 3px; background-color: #ffeded'>'</span>\n",
              "<span style='padding: 3px; background-color: #ffefef'>m</span>\n",
              "<span style='padding: 3px; background-color: #ffeeee'>going</span>\n",
              "<span style='padding: 3px; background-color: #fff5f5'>to</span>\n",
              "<span style='padding: 3px; background-color: #ffe0e0'>blame</span>\n",
              "<span style='padding: 3px; background-color: #ffd0d0'>the</span>\n",
              "<span style='padding: 3px; background-color: #ff9898'>black</span>\n",
              "<span style='padding: 3px; background-color: #ffc2c2'>man</span>\n",
              "<span style='padding: 3px; background-color: #ffd6d6'>,</span>\n",
              "<span style='padding: 3px; background-color: #ffe3e3'>since</span>\n",
              "<span style='padding: 3px; background-color: #ffd5d5'>they</span>\n",
              "<span style='padding: 3px; background-color: #ffebeb'>always</span>\n",
              "<span style='padding: 3px; background-color: #ffe4e4'>blame</span>\n",
              "<span style='padding: 3px; background-color: #ffe0e0'>\"</span>\n",
              "<span style='padding: 3px; background-color: #ff9e9e'>white</span>\n",
              "<span style='padding: 3px; background-color: #ffc3c3'>##y</span>\n",
              "<span style='padding: 3px; background-color: #ffe0e0'>\"</span>\n",
              "<span style='padding: 3px; background-color: #ffcece'>i</span>\n",
              "<span style='padding: 3px; background-color: #ffeaea'>'</span>\n",
              "<span style='padding: 3px; background-color: #ffd5d5'>m</span>\n",
              "<span style='padding: 3px; background-color: #ffc4c4'>an</span>\n",
              "<span style='padding: 3px; background-color: #ffd6d6'>equal</span>\n",
              "<span style='padding: 3px; background-color: #ffc7c7'>opportunity</span>\n",
              "<span style='padding: 3px; background-color: #ffa1a1'>hate</span>\n",
              "<span style='padding: 3px; background-color: #ffc5c5'>##r</span>\n",
              "<span style='padding: 3px; background-color: #ffe7e7'>.</span>\n",
              "</p>\n"
            ]
          },
          "metadata": {}
        },
        {
          "output_type": "stream",
          "name": "stdout",
          "text": [
            "Using product:\n",
            "1/1 [==============================] - 0s 41ms/step\n",
            "(30,)\n"
          ]
        },
        {
          "output_type": "display_data",
          "data": {
            "text/plain": [
              "<IPython.core.display.HTML object>"
            ],
            "text/html": [
              "<p style='font-size: 12pt; line-height: 2'>\n",
              "<span style='padding: 3px; background-color: #ff9900'>Label: Hate Speech</span>\n",
              "<span style='padding: 3px; background-color: #fffefe'>at</span>\n",
              "<span style='padding: 3px; background-color: #fffefe'>_</span>\n",
              "<span style='padding: 3px; background-color: #fffefe'>mention</span>\n",
              "<span style='padding: 3px; background-color: #fffefe'>i</span>\n",
              "<span style='padding: 3px; background-color: #fffefe'>'</span>\n",
              "<span style='padding: 3px; background-color: #fffefe'>m</span>\n",
              "<span style='padding: 3px; background-color: #fffefe'>going</span>\n",
              "<span style='padding: 3px; background-color: #fffefe'>to</span>\n",
              "<span style='padding: 3px; background-color: #fffefe'>blame</span>\n",
              "<span style='padding: 3px; background-color: #fffefe'>the</span>\n",
              "<span style='padding: 3px; background-color: #ff1111'>black</span>\n",
              "<span style='padding: 3px; background-color: #fffefe'>man</span>\n",
              "<span style='padding: 3px; background-color: #fffefe'>,</span>\n",
              "<span style='padding: 3px; background-color: #fffefe'>since</span>\n",
              "<span style='padding: 3px; background-color: #fffefe'>they</span>\n",
              "<span style='padding: 3px; background-color: #fffefe'>always</span>\n",
              "<span style='padding: 3px; background-color: #fffefe'>blame</span>\n",
              "<span style='padding: 3px; background-color: #fffefe'>\"</span>\n",
              "<span style='padding: 3px; background-color: #ffb8b8'>white</span>\n",
              "<span style='padding: 3px; background-color: #fffefe'>##y</span>\n",
              "<span style='padding: 3px; background-color: #fffefe'>\"</span>\n",
              "<span style='padding: 3px; background-color: #fffefe'>i</span>\n",
              "<span style='padding: 3px; background-color: #fffefe'>'</span>\n",
              "<span style='padding: 3px; background-color: #fffefe'>m</span>\n",
              "<span style='padding: 3px; background-color: #fffefe'>an</span>\n",
              "<span style='padding: 3px; background-color: #fffefe'>equal</span>\n",
              "<span style='padding: 3px; background-color: #fffefe'>opportunity</span>\n",
              "<span style='padding: 3px; background-color: #ffc1c1'>hate</span>\n",
              "<span style='padding: 3px; background-color: #fffefe'>##r</span>\n",
              "<span style='padding: 3px; background-color: #fffefe'>.</span>\n",
              "</p>\n"
            ]
          },
          "metadata": {}
        },
        {
          "output_type": "stream",
          "name": "stdout",
          "text": [
            "Using max:\n",
            "1/1 [==============================] - 0s 39ms/step\n",
            "(30,)\n"
          ]
        },
        {
          "output_type": "display_data",
          "data": {
            "text/plain": [
              "<IPython.core.display.HTML object>"
            ],
            "text/html": [
              "<p style='font-size: 12pt; line-height: 2'>\n",
              "<span style='padding: 3px; background-color: #ff9900'>Label: Hate Speech</span>\n",
              "<span style='padding: 3px; background-color: #fff4f4'>at</span>\n",
              "<span style='padding: 3px; background-color: #ffdbdb'>_</span>\n",
              "<span style='padding: 3px; background-color: #fff1f1'>mention</span>\n",
              "<span style='padding: 3px; background-color: #ffe5e5'>i</span>\n",
              "<span style='padding: 3px; background-color: #ffe1e1'>'</span>\n",
              "<span style='padding: 3px; background-color: #ffeded'>m</span>\n",
              "<span style='padding: 3px; background-color: #ffe7e7'>going</span>\n",
              "<span style='padding: 3px; background-color: #fff1f1'>to</span>\n",
              "<span style='padding: 3px; background-color: #ffebeb'>blame</span>\n",
              "<span style='padding: 3px; background-color: #ffdddd'>the</span>\n",
              "<span style='padding: 3px; background-color: #ffb0b0'>black</span>\n",
              "<span style='padding: 3px; background-color: #ffcccc'>man</span>\n",
              "<span style='padding: 3px; background-color: #ffa6a6'>,</span>\n",
              "<span style='padding: 3px; background-color: #ffe2e2'>since</span>\n",
              "<span style='padding: 3px; background-color: #ffcfcf'>they</span>\n",
              "<span style='padding: 3px; background-color: #ffefef'>always</span>\n",
              "<span style='padding: 3px; background-color: #fff0f0'>blame</span>\n",
              "<span style='padding: 3px; background-color: #ffdcdc'>\"</span>\n",
              "<span style='padding: 3px; background-color: #ffb3b3'>white</span>\n",
              "<span style='padding: 3px; background-color: #ffb1b1'>##y</span>\n",
              "<span style='padding: 3px; background-color: #ffdada'>\"</span>\n",
              "<span style='padding: 3px; background-color: #ffd1d1'>i</span>\n",
              "<span style='padding: 3px; background-color: #ffdbdb'>'</span>\n",
              "<span style='padding: 3px; background-color: #ffc1c1'>m</span>\n",
              "<span style='padding: 3px; background-color: #ffbbbb'>an</span>\n",
              "<span style='padding: 3px; background-color: #ffdcdc'>equal</span>\n",
              "<span style='padding: 3px; background-color: #ffd7d7'>opportunity</span>\n",
              "<span style='padding: 3px; background-color: #ffa5a5'>hate</span>\n",
              "<span style='padding: 3px; background-color: #ffd5d5'>##r</span>\n",
              "<span style='padding: 3px; background-color: #ffe2e2'>.</span>\n",
              "</p>\n"
            ]
          },
          "metadata": {}
        }
      ]
    },
    {
      "cell_type": "code",
      "source": [
        "test_row_all(18)"
      ],
      "metadata": {
        "colab": {
          "base_uri": "https://localhost:8080/",
          "height": 401
        },
        "id": "a2lk2AVrVwG5",
        "outputId": "4fd5a01c-ffd4-46cc-efc1-ab9d4f47698d"
      },
      "execution_count": null,
      "outputs": [
        {
          "output_type": "stream",
          "name": "stdout",
          "text": [
            "Using sum:\n",
            "1/1 [==============================] - 0s 46ms/step\n",
            "(40,)\n"
          ]
        },
        {
          "output_type": "display_data",
          "data": {
            "text/plain": [
              "<IPython.core.display.HTML object>"
            ],
            "text/html": [
              "<p style='font-size: 12pt; line-height: 2'>\n",
              "<span style='padding: 3px; background-color: #00cc99'>Label: Not Hate Speech</span>\n",
              "<span style='padding: 3px; background-color: #ffd6d6'>rt</span>\n",
              "<span style='padding: 3px; background-color: #ffe7e7'>at</span>\n",
              "<span style='padding: 3px; background-color: #fff1f1'>_</span>\n",
              "<span style='padding: 3px; background-color: #ffe9e9'>mention</span>\n",
              "<span style='padding: 3px; background-color: #ffd1d1'>:</span>\n",
              "<span style='padding: 3px; background-color: #ffe0e0'>when</span>\n",
              "<span style='padding: 3px; background-color: #ffebeb'>your</span>\n",
              "<span style='padding: 3px; background-color: #ffc2c2'>phone</span>\n",
              "<span style='padding: 3px; background-color: #ffe3e3'>goes</span>\n",
              "<span style='padding: 3px; background-color: #ffd4d4'>off</span>\n",
              "<span style='padding: 3px; background-color: #fff1f1'>in</span>\n",
              "<span style='padding: 3px; background-color: #ffb7b7'>class</span>\n",
              "<span style='padding: 3px; background-color: #ffe1e1'>and</span>\n",
              "<span style='padding: 3px; background-color: #ffe1e1'>the</span>\n",
              "<span style='padding: 3px; background-color: #ffcfcf'>teacher</span>\n",
              "<span style='padding: 3px; background-color: #ffe4e4'>says</span>\n",
              "<span style='padding: 3px; background-color: #fff1f1'>\"</span>\n",
              "<span style='padding: 3px; background-color: #ffcdcd'>turn</span>\n",
              "<span style='padding: 3px; background-color: #ffdddd'>that</span>\n",
              "<span style='padding: 3px; background-color: #ffb7b7'>trash</span>\n",
              "<span style='padding: 3px; background-color: #ffd4d4'>off</span>\n",
              "<span style='padding: 3px; background-color: #ffe4e4'>\"</span>\n",
              "<span style='padding: 3px; background-color: #ffc0c0'>but</span>\n",
              "<span style='padding: 3px; background-color: #ffdede'>its</span>\n",
              "<span style='padding: 3px; background-color: #ffdcdc'>a</span>\n",
              "<span style='padding: 3px; background-color: #ffd6d6'>song</span>\n",
              "<span style='padding: 3px; background-color: #ffeeee'>from</span>\n",
              "<span style='padding: 3px; background-color: #ffefef'>your</span>\n",
              "<span style='padding: 3px; background-color: #ff8d8d'>mixtape</span>\n",
              "<span style='padding: 3px; background-color: #ffdcdc'>=</span>\n",
              "<span style='padding: 3px; background-color: #ffe9e9'>https</span>\n",
              "<span style='padding: 3px; background-color: #fff5f5'>:</span>\n",
              "<span style='padding: 3px; background-color: #ffeeee'>/</span>\n",
              "<span style='padding: 3px; background-color: #ffebeb'>/</span>\n",
              "<span style='padding: 3px; background-color: #ffecec'>t</span>\n",
              "<span style='padding: 3px; background-color: #ffefef'>&</span>\n",
              "<span style='padding: 3px; background-color: #ffeeee'>#</span>\n",
              "<span style='padding: 3px; background-color: #ffe7e7'>82</span>\n",
              "<span style='padding: 3px; background-color: #ffe4e4'>##30</span>\n",
              "<span style='padding: 3px; background-color: #ffb5b5'>;</span>\n",
              "</p>\n"
            ]
          },
          "metadata": {}
        },
        {
          "output_type": "stream",
          "name": "stdout",
          "text": [
            "Using product:\n",
            "1/1 [==============================] - 0s 40ms/step\n",
            "(40,)\n"
          ]
        },
        {
          "output_type": "display_data",
          "data": {
            "text/plain": [
              "<IPython.core.display.HTML object>"
            ],
            "text/html": [
              "<p style='font-size: 12pt; line-height: 2'>\n",
              "<span style='padding: 3px; background-color: #00cc99'>Label: Not Hate Speech</span>\n",
              "<span style='padding: 3px; background-color: #fffefe'>rt</span>\n",
              "<span style='padding: 3px; background-color: #fffefe'>at</span>\n",
              "<span style='padding: 3px; background-color: #fffefe'>_</span>\n",
              "<span style='padding: 3px; background-color: #fffefe'>mention</span>\n",
              "<span style='padding: 3px; background-color: #fffefe'>:</span>\n",
              "<span style='padding: 3px; background-color: #fffefe'>when</span>\n",
              "<span style='padding: 3px; background-color: #fffefe'>your</span>\n",
              "<span style='padding: 3px; background-color: #fff2f2'>phone</span>\n",
              "<span style='padding: 3px; background-color: #fffefe'>goes</span>\n",
              "<span style='padding: 3px; background-color: #fffefe'>off</span>\n",
              "<span style='padding: 3px; background-color: #fffefe'>in</span>\n",
              "<span style='padding: 3px; background-color: #fff4f4'>class</span>\n",
              "<span style='padding: 3px; background-color: #fffefe'>and</span>\n",
              "<span style='padding: 3px; background-color: #fffefe'>the</span>\n",
              "<span style='padding: 3px; background-color: #fffefe'>teacher</span>\n",
              "<span style='padding: 3px; background-color: #fffefe'>says</span>\n",
              "<span style='padding: 3px; background-color: #fffefe'>\"</span>\n",
              "<span style='padding: 3px; background-color: #fffefe'>turn</span>\n",
              "<span style='padding: 3px; background-color: #fffefe'>that</span>\n",
              "<span style='padding: 3px; background-color: #ffe5e5'>trash</span>\n",
              "<span style='padding: 3px; background-color: #fffefe'>off</span>\n",
              "<span style='padding: 3px; background-color: #fffefe'>\"</span>\n",
              "<span style='padding: 3px; background-color: #ffdbdb'>but</span>\n",
              "<span style='padding: 3px; background-color: #fffefe'>its</span>\n",
              "<span style='padding: 3px; background-color: #fffefe'>a</span>\n",
              "<span style='padding: 3px; background-color: #fffefe'>song</span>\n",
              "<span style='padding: 3px; background-color: #fffefe'>from</span>\n",
              "<span style='padding: 3px; background-color: #fffefe'>your</span>\n",
              "<span style='padding: 3px; background-color: #ffcccc'>mixtape</span>\n",
              "<span style='padding: 3px; background-color: #fffefe'>=</span>\n",
              "<span style='padding: 3px; background-color: #fffefe'>https</span>\n",
              "<span style='padding: 3px; background-color: #fffefe'>:</span>\n",
              "<span style='padding: 3px; background-color: #fffefe'>/</span>\n",
              "<span style='padding: 3px; background-color: #fffefe'>/</span>\n",
              "<span style='padding: 3px; background-color: #fffefe'>t</span>\n",
              "<span style='padding: 3px; background-color: #fffefe'>&</span>\n",
              "<span style='padding: 3px; background-color: #fffefe'>#</span>\n",
              "<span style='padding: 3px; background-color: #fffefe'>82</span>\n",
              "<span style='padding: 3px; background-color: #fffefe'>##30</span>\n",
              "<span style='padding: 3px; background-color: #ff0909'>;</span>\n",
              "</p>\n"
            ]
          },
          "metadata": {}
        },
        {
          "output_type": "stream",
          "name": "stdout",
          "text": [
            "Using max:\n",
            "1/1 [==============================] - 0s 40ms/step\n",
            "(40,)\n"
          ]
        },
        {
          "output_type": "display_data",
          "data": {
            "text/plain": [
              "<IPython.core.display.HTML object>"
            ],
            "text/html": [
              "<p style='font-size: 12pt; line-height: 2'>\n",
              "<span style='padding: 3px; background-color: #00cc99'>Label: Not Hate Speech</span>\n",
              "<span style='padding: 3px; background-color: #ffe2e2'>rt</span>\n",
              "<span style='padding: 3px; background-color: #ffdfdf'>at</span>\n",
              "<span style='padding: 3px; background-color: #ffeeee'>_</span>\n",
              "<span style='padding: 3px; background-color: #ffefef'>mention</span>\n",
              "<span style='padding: 3px; background-color: #ffbebe'>:</span>\n",
              "<span style='padding: 3px; background-color: #ffe9e9'>when</span>\n",
              "<span style='padding: 3px; background-color: #fff3f3'>your</span>\n",
              "<span style='padding: 3px; background-color: #ffcece'>phone</span>\n",
              "<span style='padding: 3px; background-color: #ffeded'>goes</span>\n",
              "<span style='padding: 3px; background-color: #ffe2e2'>off</span>\n",
              "<span style='padding: 3px; background-color: #fff5f5'>in</span>\n",
              "<span style='padding: 3px; background-color: #ff9e9e'>class</span>\n",
              "<span style='padding: 3px; background-color: #ffe8e8'>and</span>\n",
              "<span style='padding: 3px; background-color: #ffeded'>the</span>\n",
              "<span style='padding: 3px; background-color: #ffd7d7'>teacher</span>\n",
              "<span style='padding: 3px; background-color: #ffe2e2'>says</span>\n",
              "<span style='padding: 3px; background-color: #ffeded'>\"</span>\n",
              "<span style='padding: 3px; background-color: #ffbebe'>turn</span>\n",
              "<span style='padding: 3px; background-color: #ffcfcf'>that</span>\n",
              "<span style='padding: 3px; background-color: #ffcece'>trash</span>\n",
              "<span style='padding: 3px; background-color: #ffdcdc'>off</span>\n",
              "<span style='padding: 3px; background-color: #ffebeb'>\"</span>\n",
              "<span style='padding: 3px; background-color: #ffcdcd'>but</span>\n",
              "<span style='padding: 3px; background-color: #ffcfcf'>its</span>\n",
              "<span style='padding: 3px; background-color: #ffcfcf'>a</span>\n",
              "<span style='padding: 3px; background-color: #ffdada'>song</span>\n",
              "<span style='padding: 3px; background-color: #fff4f4'>from</span>\n",
              "<span style='padding: 3px; background-color: #fff5f5'>your</span>\n",
              "<span style='padding: 3px; background-color: #ff7e7e'>mixtape</span>\n",
              "<span style='padding: 3px; background-color: #ffd9d9'>=</span>\n",
              "<span style='padding: 3px; background-color: #fff0f0'>https</span>\n",
              "<span style='padding: 3px; background-color: #fff7f7'>:</span>\n",
              "<span style='padding: 3px; background-color: #fff0f0'>/</span>\n",
              "<span style='padding: 3px; background-color: #fff2f2'>/</span>\n",
              "<span style='padding: 3px; background-color: #fff1f1'>t</span>\n",
              "<span style='padding: 3px; background-color: #fff2f2'>&</span>\n",
              "<span style='padding: 3px; background-color: #ffeeee'>#</span>\n",
              "<span style='padding: 3px; background-color: #ffeaea'>82</span>\n",
              "<span style='padding: 3px; background-color: #ffe5e5'>##30</span>\n",
              "<span style='padding: 3px; background-color: #ffcccc'>;</span>\n",
              "</p>\n"
            ]
          },
          "metadata": {}
        }
      ]
    },
    {
      "cell_type": "code",
      "source": [
        "test_row_all(20)"
      ],
      "metadata": {
        "colab": {
          "base_uri": "https://localhost:8080/",
          "height": 305
        },
        "id": "LhfFI1ZxWE4l",
        "outputId": "09347ae8-1211-4fcb-813f-f5116c1db0e8"
      },
      "execution_count": null,
      "outputs": [
        {
          "output_type": "stream",
          "name": "stdout",
          "text": [
            "Using sum:\n",
            "1/1 [==============================] - 0s 41ms/step\n",
            "(14,)\n"
          ]
        },
        {
          "output_type": "display_data",
          "data": {
            "text/plain": [
              "<IPython.core.display.HTML object>"
            ],
            "text/html": [
              "<p style='font-size: 12pt; line-height: 2'>\n",
              "<span style='padding: 3px; background-color: #00cc99'>Label: Not Hate Speech</span>\n",
              "<span style='padding: 3px; background-color: #ffbbbb'>no</span>\n",
              "<span style='padding: 3px; background-color: #ffc5c5'>one</span>\n",
              "<span style='padding: 3px; background-color: #ffa6a6'>has</span>\n",
              "<span style='padding: 3px; background-color: #ffbaba'>even</span>\n",
              "<span style='padding: 3px; background-color: #ffc5c5'>eaten</span>\n",
              "<span style='padding: 3px; background-color: #ffcdcd'>a</span>\n",
              "<span style='padding: 3px; background-color: #ffb9b9'>twin</span>\n",
              "<span style='padding: 3px; background-color: #ff9a9a'>##kie</span>\n",
              "<span style='padding: 3px; background-color: #ffcaca'>in</span>\n",
              "<span style='padding: 3px; background-color: #ffd1d1'>,</span>\n",
              "<span style='padding: 3px; background-color: #ffaeae'>like</span>\n",
              "<span style='padding: 3px; background-color: #ffd3d3'>,</span>\n",
              "<span style='padding: 3px; background-color: #ffb9b9'>decades</span>\n",
              "<span style='padding: 3px; background-color: #ffb1b1'>.</span>\n",
              "</p>\n"
            ]
          },
          "metadata": {}
        },
        {
          "output_type": "stream",
          "name": "stdout",
          "text": [
            "Using product:\n",
            "1/1 [==============================] - 0s 40ms/step\n",
            "(14,)\n"
          ]
        },
        {
          "output_type": "display_data",
          "data": {
            "text/plain": [
              "<IPython.core.display.HTML object>"
            ],
            "text/html": [
              "<p style='font-size: 12pt; line-height: 2'>\n",
              "<span style='padding: 3px; background-color: #00cc99'>Label: Not Hate Speech</span>\n",
              "<span style='padding: 3px; background-color: #fffafa'>no</span>\n",
              "<span style='padding: 3px; background-color: #fffdfd'>one</span>\n",
              "<span style='padding: 3px; background-color: #ff6868'>has</span>\n",
              "<span style='padding: 3px; background-color: #fffcfc'>even</span>\n",
              "<span style='padding: 3px; background-color: #fffefe'>eaten</span>\n",
              "<span style='padding: 3px; background-color: #fffefe'>a</span>\n",
              "<span style='padding: 3px; background-color: #fffbfb'>twin</span>\n",
              "<span style='padding: 3px; background-color: #ff3939'>##kie</span>\n",
              "<span style='padding: 3px; background-color: #fffefe'>in</span>\n",
              "<span style='padding: 3px; background-color: #fffefe'>,</span>\n",
              "<span style='padding: 3px; background-color: #fff0f0'>like</span>\n",
              "<span style='padding: 3px; background-color: #fffefe'>,</span>\n",
              "<span style='padding: 3px; background-color: #fffafa'>decades</span>\n",
              "<span style='padding: 3px; background-color: #ffc7c7'>.</span>\n",
              "</p>\n"
            ]
          },
          "metadata": {}
        },
        {
          "output_type": "stream",
          "name": "stdout",
          "text": [
            "Using max:\n",
            "1/1 [==============================] - 0s 41ms/step\n",
            "(14,)\n"
          ]
        },
        {
          "output_type": "display_data",
          "data": {
            "text/plain": [
              "<IPython.core.display.HTML object>"
            ],
            "text/html": [
              "<p style='font-size: 12pt; line-height: 2'>\n",
              "<span style='padding: 3px; background-color: #00cc99'>Label: Not Hate Speech</span>\n",
              "<span style='padding: 3px; background-color: #ffbbbb'>no</span>\n",
              "<span style='padding: 3px; background-color: #ffd9d9'>one</span>\n",
              "<span style='padding: 3px; background-color: #ffbfbf'>has</span>\n",
              "<span style='padding: 3px; background-color: #ffc6c6'>even</span>\n",
              "<span style='padding: 3px; background-color: #ffd3d3'>eaten</span>\n",
              "<span style='padding: 3px; background-color: #ffcbcb'>a</span>\n",
              "<span style='padding: 3px; background-color: #ffbdbd'>twin</span>\n",
              "<span style='padding: 3px; background-color: #ff9494'>##kie</span>\n",
              "<span style='padding: 3px; background-color: #ffb7b7'>in</span>\n",
              "<span style='padding: 3px; background-color: #ffc8c8'>,</span>\n",
              "<span style='padding: 3px; background-color: #ff9191'>like</span>\n",
              "<span style='padding: 3px; background-color: #ffd9d9'>,</span>\n",
              "<span style='padding: 3px; background-color: #ffafaf'>decades</span>\n",
              "<span style='padding: 3px; background-color: #ffbfbf'>.</span>\n",
              "</p>\n"
            ]
          },
          "metadata": {}
        }
      ]
    },
    {
      "cell_type": "markdown",
      "source": [
        "The sum approach provides best explanation for both positive and negative cases."
      ],
      "metadata": {
        "id": "R8cfRXBugYSl"
      }
    },
    {
      "cell_type": "code",
      "source": [
        "test_row_all(33)"
      ],
      "metadata": {
        "colab": {
          "base_uri": "https://localhost:8080/",
          "height": 401
        },
        "id": "N2peUGnQe1S-",
        "outputId": "a50fc310-f9a2-492f-eb74-fb1040398b46"
      },
      "execution_count": null,
      "outputs": [
        {
          "output_type": "stream",
          "name": "stdout",
          "text": [
            "Using sum:\n",
            "1/1 [==============================] - 0s 43ms/step\n",
            "(21,)\n"
          ]
        },
        {
          "output_type": "display_data",
          "data": {
            "text/plain": [
              "<IPython.core.display.HTML object>"
            ],
            "text/html": [
              "<p style='font-size: 12pt; line-height: 2'>\n",
              "<span style='padding: 3px; background-color: #00cc99'>Label: Not Hate Speech</span>\n",
              "<span style='padding: 3px; background-color: #ffdfdf'>congratulations</span>\n",
              "<span style='padding: 3px; background-color: #ffe8e8'>,</span>\n",
              "<span style='padding: 3px; background-color: #ffc7c7'>your</span>\n",
              "<span style='padding: 3px; background-color: #ffeaea'>just</span>\n",
              "<span style='padding: 3px; background-color: #ffdede'>like</span>\n",
              "<span style='padding: 3px; background-color: #ffe4e4'>every</span>\n",
              "<span style='padding: 3px; background-color: #ffeeee'>other</span>\n",
              "<span style='padding: 3px; background-color: #ffa1a1'>stuck</span>\n",
              "<span style='padding: 3px; background-color: #ffc8c8'>up</span>\n",
              "<span style='padding: 3px; background-color: #ffa4a4'>material</span>\n",
              "<span style='padding: 3px; background-color: #ff9c9c'>##istic</span>\n",
              "<span style='padding: 3px; background-color: #ff9e9e'>american</span>\n",
              "<span style='padding: 3px; background-color: #ff9c9c'>bitch</span>\n",
              "<span style='padding: 3px; background-color: #ffecec'>.</span>\n",
              "<span style='padding: 3px; background-color: #ffe5e5'>&</span>\n",
              "<span style='padding: 3px; background-color: #ffe4e4'>#</span>\n",
              "<span style='padding: 3px; background-color: #fff5f5'>128</span>\n",
              "<span style='padding: 3px; background-color: #fff3f3'>##0</span>\n",
              "<span style='padding: 3px; background-color: #fff4f4'>##7</span>\n",
              "<span style='padding: 3px; background-color: #ffeeee'>##9</span>\n",
              "<span style='padding: 3px; background-color: #ffaaaa'>;</span>\n",
              "</p>\n"
            ]
          },
          "metadata": {}
        },
        {
          "output_type": "stream",
          "name": "stdout",
          "text": [
            "Using product:\n",
            "1/1 [==============================] - 0s 41ms/step\n",
            "(21,)\n"
          ]
        },
        {
          "output_type": "display_data",
          "data": {
            "text/plain": [
              "<IPython.core.display.HTML object>"
            ],
            "text/html": [
              "<p style='font-size: 12pt; line-height: 2'>\n",
              "<span style='padding: 3px; background-color: #00cc99'>Label: Not Hate Speech</span>\n",
              "<span style='padding: 3px; background-color: #fffefe'>congratulations</span>\n",
              "<span style='padding: 3px; background-color: #fffefe'>,</span>\n",
              "<span style='padding: 3px; background-color: #fffefe'>your</span>\n",
              "<span style='padding: 3px; background-color: #fffefe'>just</span>\n",
              "<span style='padding: 3px; background-color: #fffefe'>like</span>\n",
              "<span style='padding: 3px; background-color: #fffefe'>every</span>\n",
              "<span style='padding: 3px; background-color: #fffefe'>other</span>\n",
              "<span style='padding: 3px; background-color: #ffe1e1'>stuck</span>\n",
              "<span style='padding: 3px; background-color: #fffefe'>up</span>\n",
              "<span style='padding: 3px; background-color: #ffe8e8'>material</span>\n",
              "<span style='padding: 3px; background-color: #ffcbcb'>##istic</span>\n",
              "<span style='padding: 3px; background-color: #ffd8d8'>american</span>\n",
              "<span style='padding: 3px; background-color: #ff0b0b'>bitch</span>\n",
              "<span style='padding: 3px; background-color: #fffefe'>.</span>\n",
              "<span style='padding: 3px; background-color: #fffefe'>&</span>\n",
              "<span style='padding: 3px; background-color: #fffefe'>#</span>\n",
              "<span style='padding: 3px; background-color: #fffefe'>128</span>\n",
              "<span style='padding: 3px; background-color: #fffefe'>##0</span>\n",
              "<span style='padding: 3px; background-color: #fffefe'>##7</span>\n",
              "<span style='padding: 3px; background-color: #fffefe'>##9</span>\n",
              "<span style='padding: 3px; background-color: #fff7f7'>;</span>\n",
              "</p>\n"
            ]
          },
          "metadata": {}
        },
        {
          "output_type": "stream",
          "name": "stdout",
          "text": [
            "Using max:\n",
            "1/1 [==============================] - 0s 41ms/step\n",
            "(21,)\n"
          ]
        },
        {
          "output_type": "display_data",
          "data": {
            "text/plain": [
              "<IPython.core.display.HTML object>"
            ],
            "text/html": [
              "<p style='font-size: 12pt; line-height: 2'>\n",
              "<span style='padding: 3px; background-color: #00cc99'>Label: Not Hate Speech</span>\n",
              "<span style='padding: 3px; background-color: #ffdddd'>congratulations</span>\n",
              "<span style='padding: 3px; background-color: #ffe8e8'>,</span>\n",
              "<span style='padding: 3px; background-color: #ffd3d3'>your</span>\n",
              "<span style='padding: 3px; background-color: #ffe7e7'>just</span>\n",
              "<span style='padding: 3px; background-color: #ffc9c9'>like</span>\n",
              "<span style='padding: 3px; background-color: #ffeaea'>every</span>\n",
              "<span style='padding: 3px; background-color: #ffeeee'>other</span>\n",
              "<span style='padding: 3px; background-color: #ffa6a6'>stuck</span>\n",
              "<span style='padding: 3px; background-color: #ffc4c4'>up</span>\n",
              "<span style='padding: 3px; background-color: #ffa4a4'>material</span>\n",
              "<span style='padding: 3px; background-color: #ffa0a0'>##istic</span>\n",
              "<span style='padding: 3px; background-color: #ff9292'>american</span>\n",
              "<span style='padding: 3px; background-color: #ffa7a7'>bitch</span>\n",
              "<span style='padding: 3px; background-color: #ffe5e5'>.</span>\n",
              "<span style='padding: 3px; background-color: #ffe6e6'>&</span>\n",
              "<span style='padding: 3px; background-color: #ffdede'>#</span>\n",
              "<span style='padding: 3px; background-color: #fff3f3'>128</span>\n",
              "<span style='padding: 3px; background-color: #fff0f0'>##0</span>\n",
              "<span style='padding: 3px; background-color: #fff5f5'>##7</span>\n",
              "<span style='padding: 3px; background-color: #ffe6e6'>##9</span>\n",
              "<span style='padding: 3px; background-color: #ffb0b0'>;</span>\n",
              "</p>\n"
            ]
          },
          "metadata": {}
        }
      ]
    },
    {
      "cell_type": "code",
      "source": [
        "test_row_all(37)"
      ],
      "metadata": {
        "colab": {
          "base_uri": "https://localhost:8080/",
          "height": 401
        },
        "id": "hedlRJMogwr3",
        "outputId": "2da028c5-11e5-4dff-b6fb-d42d1a7fea9a"
      },
      "execution_count": null,
      "outputs": [
        {
          "output_type": "stream",
          "name": "stdout",
          "text": [
            "Using sum:\n",
            "1/1 [==============================] - 0s 39ms/step\n",
            "(31,)\n"
          ]
        },
        {
          "output_type": "display_data",
          "data": {
            "text/plain": [
              "<IPython.core.display.HTML object>"
            ],
            "text/html": [
              "<p style='font-size: 12pt; line-height: 2'>\n",
              "<span style='padding: 3px; background-color: #ff9900'>Label: Hate Speech</span>\n",
              "<span style='padding: 3px; background-color: #fff0f0'>sitting</span>\n",
              "<span style='padding: 3px; background-color: #fffcfc'>at</span>\n",
              "<span style='padding: 3px; background-color: #fffafa'>the</span>\n",
              "<span style='padding: 3px; background-color: #fff8f8'>bar</span>\n",
              "<span style='padding: 3px; background-color: #fffafa'>at</span>\n",
              "<span style='padding: 3px; background-color: #fff8f8'>work</span>\n",
              "<span style='padding: 3px; background-color: #ffefef'>watching</span>\n",
              "<span style='padding: 3px; background-color: #ffe1e1'>walking</span>\n",
              "<span style='padding: 3px; background-color: #ffe6e6'>dead</span>\n",
              "<span style='padding: 3px; background-color: #fff2f2'>and</span>\n",
              "<span style='padding: 3px; background-color: #fff0f0'>all</span>\n",
              "<span style='padding: 3px; background-color: #ffd6d6'>these</span>\n",
              "<span style='padding: 3px; background-color: #ffc7c7'>fucking</span>\n",
              "<span style='padding: 3px; background-color: #ff6b6b'>wet</span>\n",
              "<span style='padding: 3px; background-color: #ff9494'>##backs</span>\n",
              "<span style='padding: 3px; background-color: #fff3f3'>decide</span>\n",
              "<span style='padding: 3px; background-color: #fff4f4'>to</span>\n",
              "<span style='padding: 3px; background-color: #fff7f7'>come</span>\n",
              "<span style='padding: 3px; background-color: #fffbfb'>in</span>\n",
              "<span style='padding: 3px; background-color: #ffefef'>&</span>\n",
              "<span style='padding: 3px; background-color: #fff8f8'>amp</span>\n",
              "<span style='padding: 3px; background-color: #ffe3e3'>;</span>\n",
              "<span style='padding: 3px; background-color: #fff8f8'>turn</span>\n",
              "<span style='padding: 3px; background-color: #fff9f9'>on</span>\n",
              "<span style='padding: 3px; background-color: #ffebeb'>their</span>\n",
              "<span style='padding: 3px; background-color: #ffd4d4'>sp</span>\n",
              "<span style='padding: 3px; background-color: #ffb5b5'>##ic</span>\n",
              "<span style='padding: 3px; background-color: #ffe5e5'>music</span>\n",
              "<span style='padding: 3px; background-color: #ffafaf'>.</span>\n",
              "<span style='padding: 3px; background-color: #ffcece'>jesus</span>\n",
              "<span style='padding: 3px; background-color: #ffacac'>christ</span>\n",
              "</p>\n"
            ]
          },
          "metadata": {}
        },
        {
          "output_type": "stream",
          "name": "stdout",
          "text": [
            "Using product:\n",
            "1/1 [==============================] - 0s 42ms/step\n",
            "(31,)\n"
          ]
        },
        {
          "output_type": "display_data",
          "data": {
            "text/plain": [
              "<IPython.core.display.HTML object>"
            ],
            "text/html": [
              "<p style='font-size: 12pt; line-height: 2'>\n",
              "<span style='padding: 3px; background-color: #ff9900'>Label: Hate Speech</span>\n",
              "<span style='padding: 3px; background-color: #fffefe'>sitting</span>\n",
              "<span style='padding: 3px; background-color: #ffffff'>at</span>\n",
              "<span style='padding: 3px; background-color: #ffffff'>the</span>\n",
              "<span style='padding: 3px; background-color: #fffefe'>bar</span>\n",
              "<span style='padding: 3px; background-color: #ffffff'>at</span>\n",
              "<span style='padding: 3px; background-color: #fffefe'>work</span>\n",
              "<span style='padding: 3px; background-color: #fffefe'>watching</span>\n",
              "<span style='padding: 3px; background-color: #fffefe'>walking</span>\n",
              "<span style='padding: 3px; background-color: #fffefe'>dead</span>\n",
              "<span style='padding: 3px; background-color: #fffefe'>and</span>\n",
              "<span style='padding: 3px; background-color: #fffefe'>all</span>\n",
              "<span style='padding: 3px; background-color: #fffefe'>these</span>\n",
              "<span style='padding: 3px; background-color: #fffefe'>fucking</span>\n",
              "<span style='padding: 3px; background-color: #ff0000'>wet</span>\n",
              "<span style='padding: 3px; background-color: #fff9f9'>##backs</span>\n",
              "<span style='padding: 3px; background-color: #fffefe'>decide</span>\n",
              "<span style='padding: 3px; background-color: #fffefe'>to</span>\n",
              "<span style='padding: 3px; background-color: #fffefe'>come</span>\n",
              "<span style='padding: 3px; background-color: #ffffff'>in</span>\n",
              "<span style='padding: 3px; background-color: #fffefe'>&</span>\n",
              "<span style='padding: 3px; background-color: #ffffff'>amp</span>\n",
              "<span style='padding: 3px; background-color: #fffefe'>;</span>\n",
              "<span style='padding: 3px; background-color: #ffffff'>turn</span>\n",
              "<span style='padding: 3px; background-color: #ffffff'>on</span>\n",
              "<span style='padding: 3px; background-color: #fffefe'>their</span>\n",
              "<span style='padding: 3px; background-color: #fffefe'>sp</span>\n",
              "<span style='padding: 3px; background-color: #fffefe'>##ic</span>\n",
              "<span style='padding: 3px; background-color: #fffefe'>music</span>\n",
              "<span style='padding: 3px; background-color: #fffefe'>.</span>\n",
              "<span style='padding: 3px; background-color: #fffefe'>jesus</span>\n",
              "<span style='padding: 3px; background-color: #fffefe'>christ</span>\n",
              "</p>\n"
            ]
          },
          "metadata": {}
        },
        {
          "output_type": "stream",
          "name": "stdout",
          "text": [
            "Using max:\n",
            "1/1 [==============================] - 0s 43ms/step\n",
            "(31,)\n"
          ]
        },
        {
          "output_type": "display_data",
          "data": {
            "text/plain": [
              "<IPython.core.display.HTML object>"
            ],
            "text/html": [
              "<p style='font-size: 12pt; line-height: 2'>\n",
              "<span style='padding: 3px; background-color: #ff9900'>Label: Hate Speech</span>\n",
              "<span style='padding: 3px; background-color: #fff3f3'>sitting</span>\n",
              "<span style='padding: 3px; background-color: #fff9f9'>at</span>\n",
              "<span style='padding: 3px; background-color: #fffbfb'>the</span>\n",
              "<span style='padding: 3px; background-color: #fff9f9'>bar</span>\n",
              "<span style='padding: 3px; background-color: #fffafa'>at</span>\n",
              "<span style='padding: 3px; background-color: #fffafa'>work</span>\n",
              "<span style='padding: 3px; background-color: #fff4f4'>watching</span>\n",
              "<span style='padding: 3px; background-color: #ffe6e6'>walking</span>\n",
              "<span style='padding: 3px; background-color: #ffdfdf'>dead</span>\n",
              "<span style='padding: 3px; background-color: #fff2f2'>and</span>\n",
              "<span style='padding: 3px; background-color: #fff4f4'>all</span>\n",
              "<span style='padding: 3px; background-color: #ffdada'>these</span>\n",
              "<span style='padding: 3px; background-color: #ffdede'>fucking</span>\n",
              "<span style='padding: 3px; background-color: #ff7f7f'>wet</span>\n",
              "<span style='padding: 3px; background-color: #ff9191'>##backs</span>\n",
              "<span style='padding: 3px; background-color: #fff5f5'>decide</span>\n",
              "<span style='padding: 3px; background-color: #fff4f4'>to</span>\n",
              "<span style='padding: 3px; background-color: #fff9f9'>come</span>\n",
              "<span style='padding: 3px; background-color: #fffbfb'>in</span>\n",
              "<span style='padding: 3px; background-color: #ffeeee'>&</span>\n",
              "<span style='padding: 3px; background-color: #fffafa'>amp</span>\n",
              "<span style='padding: 3px; background-color: #ffdddd'>;</span>\n",
              "<span style='padding: 3px; background-color: #fff1f1'>turn</span>\n",
              "<span style='padding: 3px; background-color: #fff7f7'>on</span>\n",
              "<span style='padding: 3px; background-color: #ffebeb'>their</span>\n",
              "<span style='padding: 3px; background-color: #ffe4e4'>sp</span>\n",
              "<span style='padding: 3px; background-color: #ffc7c7'>##ic</span>\n",
              "<span style='padding: 3px; background-color: #ffeaea'>music</span>\n",
              "<span style='padding: 3px; background-color: #ff7b7b'>.</span>\n",
              "<span style='padding: 3px; background-color: #ffcdcd'>jesus</span>\n",
              "<span style='padding: 3px; background-color: #ffb1b1'>christ</span>\n",
              "</p>\n"
            ]
          },
          "metadata": {}
        }
      ]
    },
    {
      "cell_type": "code",
      "source": [
        "test_row_all(43)"
      ],
      "metadata": {
        "colab": {
          "base_uri": "https://localhost:8080/",
          "height": 401
        },
        "id": "Dkwr6ivVg0ze",
        "outputId": "88b5a08f-a37c-4911-8023-3fc3fe41d19b"
      },
      "execution_count": null,
      "outputs": [
        {
          "output_type": "stream",
          "name": "stdout",
          "text": [
            "Using sum:\n",
            "1/1 [==============================] - 0s 41ms/step\n",
            "(25,)\n"
          ]
        },
        {
          "output_type": "display_data",
          "data": {
            "text/plain": [
              "<IPython.core.display.HTML object>"
            ],
            "text/html": [
              "<p style='font-size: 12pt; line-height: 2'>\n",
              "<span style='padding: 3px; background-color: #ff9900'>Label: Hate Speech</span>\n",
              "<span style='padding: 3px; background-color: #ffdfdf'>i</span>\n",
              "<span style='padding: 3px; background-color: #fff1f1'>really</span>\n",
              "<span style='padding: 3px; background-color: #fff1f1'>just</span>\n",
              "<span style='padding: 3px; background-color: #fff4f4'>want</span>\n",
              "<span style='padding: 3px; background-color: #fff3f3'>to</span>\n",
              "<span style='padding: 3px; background-color: #ffdbdb'>kill</span>\n",
              "<span style='padding: 3px; background-color: #ffdfdf'>some</span>\n",
              "<span style='padding: 3px; background-color: #ff6b6b'>towel</span>\n",
              "<span style='padding: 3px; background-color: #ffa6a6'>head</span>\n",
              "<span style='padding: 3px; background-color: #ffacac'>terrorists</span>\n",
              "<span style='padding: 3px; background-color: #ffeeee'>already</span>\n",
              "<span style='padding: 3px; background-color: #ffd4d4'>&</span>\n",
              "<span style='padding: 3px; background-color: #ffebeb'>#</span>\n",
              "<span style='padding: 3px; background-color: #ffe2e2'>128</span>\n",
              "<span style='padding: 3px; background-color: #ffdfdf'>##53</span>\n",
              "<span style='padding: 3px; background-color: #ffdfdf'>##0</span>\n",
              "<span style='padding: 3px; background-color: #ffc3c3'>;</span>\n",
              "<span style='padding: 3px; background-color: #ffe7e7'>can</span>\n",
              "<span style='padding: 3px; background-color: #ffd0d0'>high</span>\n",
              "<span style='padding: 3px; background-color: #ffc7c7'>school</span>\n",
              "<span style='padding: 3px; background-color: #ffeaea'>be</span>\n",
              "<span style='padding: 3px; background-color: #ffe5e5'>over</span>\n",
              "<span style='padding: 3px; background-color: #fff0f0'>now</span>\n",
              "<span style='padding: 3px; background-color: #ffdcdc'>please</span>\n",
              "<span style='padding: 3px; background-color: #ffa6a6'>?</span>\n",
              "</p>\n"
            ]
          },
          "metadata": {}
        },
        {
          "output_type": "stream",
          "name": "stdout",
          "text": [
            "Using product:\n",
            "1/1 [==============================] - 0s 42ms/step\n",
            "(25,)\n"
          ]
        },
        {
          "output_type": "display_data",
          "data": {
            "text/plain": [
              "<IPython.core.display.HTML object>"
            ],
            "text/html": [
              "<p style='font-size: 12pt; line-height: 2'>\n",
              "<span style='padding: 3px; background-color: #ff9900'>Label: Hate Speech</span>\n",
              "<span style='padding: 3px; background-color: #fffefe'>i</span>\n",
              "<span style='padding: 3px; background-color: #fffefe'>really</span>\n",
              "<span style='padding: 3px; background-color: #fffefe'>just</span>\n",
              "<span style='padding: 3px; background-color: #fffefe'>want</span>\n",
              "<span style='padding: 3px; background-color: #fffefe'>to</span>\n",
              "<span style='padding: 3px; background-color: #fffefe'>kill</span>\n",
              "<span style='padding: 3px; background-color: #fffefe'>some</span>\n",
              "<span style='padding: 3px; background-color: #ff0000'>towel</span>\n",
              "<span style='padding: 3px; background-color: #fffefe'>head</span>\n",
              "<span style='padding: 3px; background-color: #fffdfd'>terrorists</span>\n",
              "<span style='padding: 3px; background-color: #fffefe'>already</span>\n",
              "<span style='padding: 3px; background-color: #fffefe'>&</span>\n",
              "<span style='padding: 3px; background-color: #fffefe'>#</span>\n",
              "<span style='padding: 3px; background-color: #fffefe'>128</span>\n",
              "<span style='padding: 3px; background-color: #fffefe'>##53</span>\n",
              "<span style='padding: 3px; background-color: #fffefe'>##0</span>\n",
              "<span style='padding: 3px; background-color: #fffefe'>;</span>\n",
              "<span style='padding: 3px; background-color: #fffefe'>can</span>\n",
              "<span style='padding: 3px; background-color: #fffefe'>high</span>\n",
              "<span style='padding: 3px; background-color: #fffefe'>school</span>\n",
              "<span style='padding: 3px; background-color: #fffefe'>be</span>\n",
              "<span style='padding: 3px; background-color: #fffefe'>over</span>\n",
              "<span style='padding: 3px; background-color: #fffefe'>now</span>\n",
              "<span style='padding: 3px; background-color: #fffefe'>please</span>\n",
              "<span style='padding: 3px; background-color: #fffefe'>?</span>\n",
              "</p>\n"
            ]
          },
          "metadata": {}
        },
        {
          "output_type": "stream",
          "name": "stdout",
          "text": [
            "Using max:\n",
            "1/1 [==============================] - 0s 42ms/step\n",
            "(25,)\n"
          ]
        },
        {
          "output_type": "display_data",
          "data": {
            "text/plain": [
              "<IPython.core.display.HTML object>"
            ],
            "text/html": [
              "<p style='font-size: 12pt; line-height: 2'>\n",
              "<span style='padding: 3px; background-color: #ff9900'>Label: Hate Speech</span>\n",
              "<span style='padding: 3px; background-color: #ffe0e0'>i</span>\n",
              "<span style='padding: 3px; background-color: #fff0f0'>really</span>\n",
              "<span style='padding: 3px; background-color: #fff2f2'>just</span>\n",
              "<span style='padding: 3px; background-color: #fff6f6'>want</span>\n",
              "<span style='padding: 3px; background-color: #fff0f0'>to</span>\n",
              "<span style='padding: 3px; background-color: #ffdede'>kill</span>\n",
              "<span style='padding: 3px; background-color: #ffe1e1'>some</span>\n",
              "<span style='padding: 3px; background-color: #ff8484'>towel</span>\n",
              "<span style='padding: 3px; background-color: #ff8e8e'>head</span>\n",
              "<span style='padding: 3px; background-color: #ffc0c0'>terrorists</span>\n",
              "<span style='padding: 3px; background-color: #fff0f0'>already</span>\n",
              "<span style='padding: 3px; background-color: #ffcece'>&</span>\n",
              "<span style='padding: 3px; background-color: #ffeded'>#</span>\n",
              "<span style='padding: 3px; background-color: #ffe8e8'>128</span>\n",
              "<span style='padding: 3px; background-color: #ffe3e3'>##53</span>\n",
              "<span style='padding: 3px; background-color: #ffe3e3'>##0</span>\n",
              "<span style='padding: 3px; background-color: #ffb8b8'>;</span>\n",
              "<span style='padding: 3px; background-color: #ffe1e1'>can</span>\n",
              "<span style='padding: 3px; background-color: #ffdbdb'>high</span>\n",
              "<span style='padding: 3px; background-color: #ffd1d1'>school</span>\n",
              "<span style='padding: 3px; background-color: #ffe7e7'>be</span>\n",
              "<span style='padding: 3px; background-color: #ffe1e1'>over</span>\n",
              "<span style='padding: 3px; background-color: #ffe9e9'>now</span>\n",
              "<span style='padding: 3px; background-color: #ffe7e7'>please</span>\n",
              "<span style='padding: 3px; background-color: #ff8b8b'>?</span>\n",
              "</p>\n"
            ]
          },
          "metadata": {}
        }
      ]
    },
    {
      "cell_type": "code",
      "source": [
        "test_row_all(69)"
      ],
      "metadata": {
        "colab": {
          "base_uri": "https://localhost:8080/",
          "height": 401
        },
        "id": "qrxsUqi7g5PF",
        "outputId": "d49d7245-e603-4fd9-f3f6-3e997c50a707"
      },
      "execution_count": null,
      "outputs": [
        {
          "output_type": "stream",
          "name": "stdout",
          "text": [
            "Using sum:\n",
            "1/1 [==============================] - 0s 42ms/step\n",
            "(18,)\n"
          ]
        },
        {
          "output_type": "display_data",
          "data": {
            "text/plain": [
              "<IPython.core.display.HTML object>"
            ],
            "text/html": [
              "<p style='font-size: 12pt; line-height: 2'>\n",
              "<span style='padding: 3px; background-color: #ff9900'>Label: Hate Speech</span>\n",
              "<span style='padding: 3px; background-color: #fffdfd'>at</span>\n",
              "<span style='padding: 3px; background-color: #fff8f8'>_</span>\n",
              "<span style='padding: 3px; background-color: #fffbfb'>mention</span>\n",
              "<span style='padding: 3px; background-color: #fffbfb'>done</span>\n",
              "<span style='padding: 3px; background-color: #fffafa'>that</span>\n",
              "<span style='padding: 3px; background-color: #fff5f5'>spell</span>\n",
              "<span style='padding: 3px; background-color: #fff9f9'>check</span>\n",
              "<span style='padding: 3px; background-color: #fff6f6'>we</span>\n",
              "<span style='padding: 3px; background-color: #fff9f9'>know</span>\n",
              "<span style='padding: 3px; background-color: #fff1f1'>you</span>\n",
              "<span style='padding: 3px; background-color: #ffd8d8'>meant</span>\n",
              "<span style='padding: 3px; background-color: #ff8e8e'>fat</span>\n",
              "<span style='padding: 3px; background-color: #ff9c9c'>liberal</span>\n",
              "<span style='padding: 3px; background-color: #ff8989'>dyke</span>\n",
              "<span style='padding: 3px; background-color: #ffa8a8'>feminist</span>\n",
              "<span style='padding: 3px; background-color: #ffa7a7'>nazi</span>\n",
              "<span style='padding: 3px; background-color: #ffa9a9'>bitch</span>\n",
              "<span style='padding: 3px; background-color: #ffbbbb'>##es</span>\n",
              "</p>\n"
            ]
          },
          "metadata": {}
        },
        {
          "output_type": "stream",
          "name": "stdout",
          "text": [
            "Using product:\n",
            "1/1 [==============================] - 0s 42ms/step\n",
            "(18,)\n"
          ]
        },
        {
          "output_type": "display_data",
          "data": {
            "text/plain": [
              "<IPython.core.display.HTML object>"
            ],
            "text/html": [
              "<p style='font-size: 12pt; line-height: 2'>\n",
              "<span style='padding: 3px; background-color: #ff9900'>Label: Hate Speech</span>\n",
              "<span style='padding: 3px; background-color: #ffffff'>at</span>\n",
              "<span style='padding: 3px; background-color: #ffffff'>_</span>\n",
              "<span style='padding: 3px; background-color: #ffffff'>mention</span>\n",
              "<span style='padding: 3px; background-color: #ffffff'>done</span>\n",
              "<span style='padding: 3px; background-color: #ffffff'>that</span>\n",
              "<span style='padding: 3px; background-color: #fffefe'>spell</span>\n",
              "<span style='padding: 3px; background-color: #ffffff'>check</span>\n",
              "<span style='padding: 3px; background-color: #fffefe'>we</span>\n",
              "<span style='padding: 3px; background-color: #ffffff'>know</span>\n",
              "<span style='padding: 3px; background-color: #fffefe'>you</span>\n",
              "<span style='padding: 3px; background-color: #fffefe'>meant</span>\n",
              "<span style='padding: 3px; background-color: #ff1313'>fat</span>\n",
              "<span style='padding: 3px; background-color: #ffe0e0'>liberal</span>\n",
              "<span style='padding: 3px; background-color: #ffa3a3'>dyke</span>\n",
              "<span style='padding: 3px; background-color: #fff4f4'>feminist</span>\n",
              "<span style='padding: 3px; background-color: #fff7f7'>nazi</span>\n",
              "<span style='padding: 3px; background-color: #fff5f5'>bitch</span>\n",
              "<span style='padding: 3px; background-color: #fffefe'>##es</span>\n",
              "</p>\n"
            ]
          },
          "metadata": {}
        },
        {
          "output_type": "stream",
          "name": "stdout",
          "text": [
            "Using max:\n",
            "1/1 [==============================] - 0s 41ms/step\n",
            "(18,)\n"
          ]
        },
        {
          "output_type": "display_data",
          "data": {
            "text/plain": [
              "<IPython.core.display.HTML object>"
            ],
            "text/html": [
              "<p style='font-size: 12pt; line-height: 2'>\n",
              "<span style='padding: 3px; background-color: #ff9900'>Label: Hate Speech</span>\n",
              "<span style='padding: 3px; background-color: #fffbfb'>at</span>\n",
              "<span style='padding: 3px; background-color: #ffefef'>_</span>\n",
              "<span style='padding: 3px; background-color: #fff9f9'>mention</span>\n",
              "<span style='padding: 3px; background-color: #fff9f9'>done</span>\n",
              "<span style='padding: 3px; background-color: #fff8f8'>that</span>\n",
              "<span style='padding: 3px; background-color: #ffefef'>spell</span>\n",
              "<span style='padding: 3px; background-color: #fff7f7'>check</span>\n",
              "<span style='padding: 3px; background-color: #fff3f3'>we</span>\n",
              "<span style='padding: 3px; background-color: #ffefef'>know</span>\n",
              "<span style='padding: 3px; background-color: #ffeeee'>you</span>\n",
              "<span style='padding: 3px; background-color: #ffcdcd'>meant</span>\n",
              "<span style='padding: 3px; background-color: #ffa4a4'>fat</span>\n",
              "<span style='padding: 3px; background-color: #ffb8b8'>liberal</span>\n",
              "<span style='padding: 3px; background-color: #ff6f6f'>dyke</span>\n",
              "<span style='padding: 3px; background-color: #ffc0c0'>feminist</span>\n",
              "<span style='padding: 3px; background-color: #ffa9a9'>nazi</span>\n",
              "<span style='padding: 3px; background-color: #ffbfbf'>bitch</span>\n",
              "<span style='padding: 3px; background-color: #ff8f8f'>##es</span>\n",
              "</p>\n"
            ]
          },
          "metadata": {}
        }
      ]
    },
    {
      "cell_type": "markdown",
      "source": [
        "# Visualize Attention Heads\n",
        "\n",
        "In the previous section, the attention weights were aggregated over all of the attention heads to produce a single score for each token. In this section we quickly look at each attention head separately to see what kinds of features each head is learning."
      ],
      "metadata": {
        "id": "ALJ9TmCCQ7yc"
      }
    },
    {
      "cell_type": "code",
      "source": [
        "def get_token_attentions_per_head(row):\n",
        "    \"\"\" Same as get_token_attentions but with no reduce step, i.e. instead of returning\n",
        "    1x128 tensor, return 12x128 tensor so that we get all attention heads. \"\"\"\n",
        "    tokens = bert_tokenizer(\n",
        "        [row.tweet],\n",
        "        max_length=MAX_SEQUENCE_LENGTH,\n",
        "        truncation=True,\n",
        "        padding='max_length',\n",
        "        return_tensors='tf',\n",
        "    )\n",
        "    detokens = bert_tokenizer.convert_ids_to_tokens(tokens[\"input_ids\"][0])\n",
        "    max_idx = detokens.index(\"[SEP]\")\n",
        "    tokens_slice = detokens[1:max_idx]\n",
        "    pred, attn = bert_cls_model.predict([tokens[\"input_ids\"], tokens[\"token_type_ids\"], tokens[\"attention_mask\"]], verbose=False)\n",
        "    attn_slice = attn.reshape(12, MAX_SEQUENCE_LENGTH)[:, 1:max_idx]\n",
        "    heads = list()\n",
        "    for i in range(12):\n",
        "        heads.append(list(zip(tokens_slice, attn_slice[i,:])))\n",
        "    return heads"
      ],
      "metadata": {
        "id": "Ewq_ZHskRKQh"
      },
      "execution_count": null,
      "outputs": []
    },
    {
      "cell_type": "code",
      "source": [
        "def test_row_attn_heads(n):\n",
        "    row = test_df.iloc[n]\n",
        "    token_attns = get_token_attentions_per_head(row)\n",
        "    for i, token_attn in enumerate(token_attns):\n",
        "      print(f\"Head #{i}:\")\n",
        "      display(visualize_attention(row.is_hatespeech, token_attn))"
      ],
      "metadata": {
        "id": "PEimFoe8RkDn"
      },
      "execution_count": null,
      "outputs": []
    },
    {
      "cell_type": "code",
      "source": [
        "test_row_attn_heads(70)"
      ],
      "metadata": {
        "colab": {
          "base_uri": "https://localhost:8080/",
          "height": 753
        },
        "id": "t8nk1SlUSA1r",
        "outputId": "ecb5ee8e-d09f-4396-90d8-e5a5d4e20a6e"
      },
      "execution_count": null,
      "outputs": [
        {
          "output_type": "stream",
          "name": "stdout",
          "text": [
            "Head #0:\n"
          ]
        },
        {
          "output_type": "display_data",
          "data": {
            "text/plain": [
              "<IPython.core.display.HTML object>"
            ],
            "text/html": [
              "<p style='font-size: 12pt; line-height: 2'>\n",
              "<span style='padding: 3px; background-color: #ff9900'>Label: Hate Speech</span>\n",
              "<span style='padding: 3px; background-color: #fffbfb'>these</span>\n",
              "<span style='padding: 3px; background-color: #fff6f6'>ni</span>\n",
              "<span style='padding: 3px; background-color: #ffe1e1'>##gga</span>\n",
              "<span style='padding: 3px; background-color: #fffcfc'>##s</span>\n",
              "<span style='padding: 3px; background-color: #fffbfb'>re</span>\n",
              "<span style='padding: 3px; background-color: #fffdfd'>##tar</span>\n",
              "<span style='padding: 3px; background-color: #fffcfc'>##ded</span>\n",
              "<span style='padding: 3px; background-color: #fffcfc'>.</span>\n",
              "<span style='padding: 3px; background-color: #fffdfd'>.</span>\n",
              "<span style='padding: 3px; background-color: #fffdfd'>.</span>\n",
              "<span style='padding: 3px; background-color: #fffafa'>l</span>\n",
              "<span style='padding: 3px; background-color: #fffdfd'>##m</span>\n",
              "<span style='padding: 3px; background-color: #fffdfd'>##fa</span>\n",
              "<span style='padding: 3px; background-color: #fffafa'>##oo</span>\n",
              "</p>\n"
            ]
          },
          "metadata": {}
        },
        {
          "output_type": "stream",
          "name": "stdout",
          "text": [
            "Head #1:\n"
          ]
        },
        {
          "output_type": "display_data",
          "data": {
            "text/plain": [
              "<IPython.core.display.HTML object>"
            ],
            "text/html": [
              "<p style='font-size: 12pt; line-height: 2'>\n",
              "<span style='padding: 3px; background-color: #ff9900'>Label: Hate Speech</span>\n",
              "<span style='padding: 3px; background-color: #ffeeee'>these</span>\n",
              "<span style='padding: 3px; background-color: #ffecec'>ni</span>\n",
              "<span style='padding: 3px; background-color: #ffb9b9'>##gga</span>\n",
              "<span style='padding: 3px; background-color: #ffeded'>##s</span>\n",
              "<span style='padding: 3px; background-color: #fff6f6'>re</span>\n",
              "<span style='padding: 3px; background-color: #fff0f0'>##tar</span>\n",
              "<span style='padding: 3px; background-color: #fff7f7'>##ded</span>\n",
              "<span style='padding: 3px; background-color: #fffafa'>.</span>\n",
              "<span style='padding: 3px; background-color: #fffbfb'>.</span>\n",
              "<span style='padding: 3px; background-color: #fff7f7'>.</span>\n",
              "<span style='padding: 3px; background-color: #fff6f6'>l</span>\n",
              "<span style='padding: 3px; background-color: #fff5f5'>##m</span>\n",
              "<span style='padding: 3px; background-color: #fff6f6'>##fa</span>\n",
              "<span style='padding: 3px; background-color: #fff0f0'>##oo</span>\n",
              "</p>\n"
            ]
          },
          "metadata": {}
        },
        {
          "output_type": "stream",
          "name": "stdout",
          "text": [
            "Head #2:\n"
          ]
        },
        {
          "output_type": "display_data",
          "data": {
            "text/plain": [
              "<IPython.core.display.HTML object>"
            ],
            "text/html": [
              "<p style='font-size: 12pt; line-height: 2'>\n",
              "<span style='padding: 3px; background-color: #ff9900'>Label: Hate Speech</span>\n",
              "<span style='padding: 3px; background-color: #ffe7e7'>these</span>\n",
              "<span style='padding: 3px; background-color: #ffecec'>ni</span>\n",
              "<span style='padding: 3px; background-color: #ffe6e6'>##gga</span>\n",
              "<span style='padding: 3px; background-color: #ffe0e0'>##s</span>\n",
              "<span style='padding: 3px; background-color: #ffebeb'>re</span>\n",
              "<span style='padding: 3px; background-color: #fff7f7'>##tar</span>\n",
              "<span style='padding: 3px; background-color: #ffecec'>##ded</span>\n",
              "<span style='padding: 3px; background-color: #fff8f8'>.</span>\n",
              "<span style='padding: 3px; background-color: #fffafa'>.</span>\n",
              "<span style='padding: 3px; background-color: #ffe7e7'>.</span>\n",
              "<span style='padding: 3px; background-color: #fffbfb'>l</span>\n",
              "<span style='padding: 3px; background-color: #fff7f7'>##m</span>\n",
              "<span style='padding: 3px; background-color: #fff2f2'>##fa</span>\n",
              "<span style='padding: 3px; background-color: #ffe1e1'>##oo</span>\n",
              "</p>\n"
            ]
          },
          "metadata": {}
        },
        {
          "output_type": "stream",
          "name": "stdout",
          "text": [
            "Head #3:\n"
          ]
        },
        {
          "output_type": "display_data",
          "data": {
            "text/plain": [
              "<IPython.core.display.HTML object>"
            ],
            "text/html": [
              "<p style='font-size: 12pt; line-height: 2'>\n",
              "<span style='padding: 3px; background-color: #ff9900'>Label: Hate Speech</span>\n",
              "<span style='padding: 3px; background-color: #ffe4e4'>these</span>\n",
              "<span style='padding: 3px; background-color: #ffeded'>ni</span>\n",
              "<span style='padding: 3px; background-color: #ffdfdf'>##gga</span>\n",
              "<span style='padding: 3px; background-color: #ffecec'>##s</span>\n",
              "<span style='padding: 3px; background-color: #fff0f0'>re</span>\n",
              "<span style='padding: 3px; background-color: #ffe8e8'>##tar</span>\n",
              "<span style='padding: 3px; background-color: #fff5f5'>##ded</span>\n",
              "<span style='padding: 3px; background-color: #fff7f7'>.</span>\n",
              "<span style='padding: 3px; background-color: #fff8f8'>.</span>\n",
              "<span style='padding: 3px; background-color: #fff4f4'>.</span>\n",
              "<span style='padding: 3px; background-color: #ffeeee'>l</span>\n",
              "<span style='padding: 3px; background-color: #ffe6e6'>##m</span>\n",
              "<span style='padding: 3px; background-color: #fff9f9'>##fa</span>\n",
              "<span style='padding: 3px; background-color: #ffefef'>##oo</span>\n",
              "</p>\n"
            ]
          },
          "metadata": {}
        },
        {
          "output_type": "stream",
          "name": "stdout",
          "text": [
            "Head #4:\n"
          ]
        },
        {
          "output_type": "display_data",
          "data": {
            "text/plain": [
              "<IPython.core.display.HTML object>"
            ],
            "text/html": [
              "<p style='font-size: 12pt; line-height: 2'>\n",
              "<span style='padding: 3px; background-color: #ff9900'>Label: Hate Speech</span>\n",
              "<span style='padding: 3px; background-color: #ffeaea'>these</span>\n",
              "<span style='padding: 3px; background-color: #ffeeee'>ni</span>\n",
              "<span style='padding: 3px; background-color: #ffcfcf'>##gga</span>\n",
              "<span style='padding: 3px; background-color: #ffd9d9'>##s</span>\n",
              "<span style='padding: 3px; background-color: #ffe3e3'>re</span>\n",
              "<span style='padding: 3px; background-color: #ffecec'>##tar</span>\n",
              "<span style='padding: 3px; background-color: #ffecec'>##ded</span>\n",
              "<span style='padding: 3px; background-color: #fff6f6'>.</span>\n",
              "<span style='padding: 3px; background-color: #fff5f5'>.</span>\n",
              "<span style='padding: 3px; background-color: #fff8f8'>.</span>\n",
              "<span style='padding: 3px; background-color: #fff7f7'>l</span>\n",
              "<span style='padding: 3px; background-color: #fff9f9'>##m</span>\n",
              "<span style='padding: 3px; background-color: #fff8f8'>##fa</span>\n",
              "<span style='padding: 3px; background-color: #fff1f1'>##oo</span>\n",
              "</p>\n"
            ]
          },
          "metadata": {}
        },
        {
          "output_type": "stream",
          "name": "stdout",
          "text": [
            "Head #5:\n"
          ]
        },
        {
          "output_type": "display_data",
          "data": {
            "text/plain": [
              "<IPython.core.display.HTML object>"
            ],
            "text/html": [
              "<p style='font-size: 12pt; line-height: 2'>\n",
              "<span style='padding: 3px; background-color: #ff9900'>Label: Hate Speech</span>\n",
              "<span style='padding: 3px; background-color: #fffcfc'>these</span>\n",
              "<span style='padding: 3px; background-color: #fff1f1'>ni</span>\n",
              "<span style='padding: 3px; background-color: #ff4141'>##gga</span>\n",
              "<span style='padding: 3px; background-color: #fffbfb'>##s</span>\n",
              "<span style='padding: 3px; background-color: #fff8f8'>re</span>\n",
              "<span style='padding: 3px; background-color: #fff5f5'>##tar</span>\n",
              "<span style='padding: 3px; background-color: #fffafa'>##ded</span>\n",
              "<span style='padding: 3px; background-color: #fffefe'>.</span>\n",
              "<span style='padding: 3px; background-color: #fffefe'>.</span>\n",
              "<span style='padding: 3px; background-color: #fffefe'>.</span>\n",
              "<span style='padding: 3px; background-color: #fffdfd'>l</span>\n",
              "<span style='padding: 3px; background-color: #fff6f6'>##m</span>\n",
              "<span style='padding: 3px; background-color: #fff9f9'>##fa</span>\n",
              "<span style='padding: 3px; background-color: #fff7f7'>##oo</span>\n",
              "</p>\n"
            ]
          },
          "metadata": {}
        },
        {
          "output_type": "stream",
          "name": "stdout",
          "text": [
            "Head #6:\n"
          ]
        },
        {
          "output_type": "display_data",
          "data": {
            "text/plain": [
              "<IPython.core.display.HTML object>"
            ],
            "text/html": [
              "<p style='font-size: 12pt; line-height: 2'>\n",
              "<span style='padding: 3px; background-color: #ff9900'>Label: Hate Speech</span>\n",
              "<span style='padding: 3px; background-color: #fff3f3'>these</span>\n",
              "<span style='padding: 3px; background-color: #fff8f8'>ni</span>\n",
              "<span style='padding: 3px; background-color: #ffe8e8'>##gga</span>\n",
              "<span style='padding: 3px; background-color: #fff7f7'>##s</span>\n",
              "<span style='padding: 3px; background-color: #fff6f6'>re</span>\n",
              "<span style='padding: 3px; background-color: #fff5f5'>##tar</span>\n",
              "<span style='padding: 3px; background-color: #fff6f6'>##ded</span>\n",
              "<span style='padding: 3px; background-color: #ffebeb'>.</span>\n",
              "<span style='padding: 3px; background-color: #ffefef'>.</span>\n",
              "<span style='padding: 3px; background-color: #ffe8e8'>.</span>\n",
              "<span style='padding: 3px; background-color: #fff4f4'>l</span>\n",
              "<span style='padding: 3px; background-color: #fffdfd'>##m</span>\n",
              "<span style='padding: 3px; background-color: #fff7f7'>##fa</span>\n",
              "<span style='padding: 3px; background-color: #ffeeee'>##oo</span>\n",
              "</p>\n"
            ]
          },
          "metadata": {}
        },
        {
          "output_type": "stream",
          "name": "stdout",
          "text": [
            "Head #7:\n"
          ]
        },
        {
          "output_type": "display_data",
          "data": {
            "text/plain": [
              "<IPython.core.display.HTML object>"
            ],
            "text/html": [
              "<p style='font-size: 12pt; line-height: 2'>\n",
              "<span style='padding: 3px; background-color: #ff9900'>Label: Hate Speech</span>\n",
              "<span style='padding: 3px; background-color: #fff6f6'>these</span>\n",
              "<span style='padding: 3px; background-color: #ffe2e2'>ni</span>\n",
              "<span style='padding: 3px; background-color: #ffd4d4'>##gga</span>\n",
              "<span style='padding: 3px; background-color: #fff5f5'>##s</span>\n",
              "<span style='padding: 3px; background-color: #fff5f5'>re</span>\n",
              "<span style='padding: 3px; background-color: #fff6f6'>##tar</span>\n",
              "<span style='padding: 3px; background-color: #fff7f7'>##ded</span>\n",
              "<span style='padding: 3px; background-color: #fff8f8'>.</span>\n",
              "<span style='padding: 3px; background-color: #fff5f5'>.</span>\n",
              "<span style='padding: 3px; background-color: #fff8f8'>.</span>\n",
              "<span style='padding: 3px; background-color: #fff7f7'>l</span>\n",
              "<span style='padding: 3px; background-color: #ffecec'>##m</span>\n",
              "<span style='padding: 3px; background-color: #ffebeb'>##fa</span>\n",
              "<span style='padding: 3px; background-color: #fff1f1'>##oo</span>\n",
              "</p>\n"
            ]
          },
          "metadata": {}
        },
        {
          "output_type": "stream",
          "name": "stdout",
          "text": [
            "Head #8:\n"
          ]
        },
        {
          "output_type": "display_data",
          "data": {
            "text/plain": [
              "<IPython.core.display.HTML object>"
            ],
            "text/html": [
              "<p style='font-size: 12pt; line-height: 2'>\n",
              "<span style='padding: 3px; background-color: #ff9900'>Label: Hate Speech</span>\n",
              "<span style='padding: 3px; background-color: #ffdede'>these</span>\n",
              "<span style='padding: 3px; background-color: #fffcfc'>ni</span>\n",
              "<span style='padding: 3px; background-color: #fffafa'>##gga</span>\n",
              "<span style='padding: 3px; background-color: #ffd3d3'>##s</span>\n",
              "<span style='padding: 3px; background-color: #ffeded'>re</span>\n",
              "<span style='padding: 3px; background-color: #fff4f4'>##tar</span>\n",
              "<span style='padding: 3px; background-color: #ffcbcb'>##ded</span>\n",
              "<span style='padding: 3px; background-color: #fffafa'>.</span>\n",
              "<span style='padding: 3px; background-color: #fffcfc'>.</span>\n",
              "<span style='padding: 3px; background-color: #fff3f3'>.</span>\n",
              "<span style='padding: 3px; background-color: #fffafa'>l</span>\n",
              "<span style='padding: 3px; background-color: #fff8f8'>##m</span>\n",
              "<span style='padding: 3px; background-color: #fffbfb'>##fa</span>\n",
              "<span style='padding: 3px; background-color: #ffeeee'>##oo</span>\n",
              "</p>\n"
            ]
          },
          "metadata": {}
        },
        {
          "output_type": "stream",
          "name": "stdout",
          "text": [
            "Head #9:\n"
          ]
        },
        {
          "output_type": "display_data",
          "data": {
            "text/plain": [
              "<IPython.core.display.HTML object>"
            ],
            "text/html": [
              "<p style='font-size: 12pt; line-height: 2'>\n",
              "<span style='padding: 3px; background-color: #ff9900'>Label: Hate Speech</span>\n",
              "<span style='padding: 3px; background-color: #ffe7e7'>these</span>\n",
              "<span style='padding: 3px; background-color: #ffefef'>ni</span>\n",
              "<span style='padding: 3px; background-color: #ffd2d2'>##gga</span>\n",
              "<span style='padding: 3px; background-color: #ffecec'>##s</span>\n",
              "<span style='padding: 3px; background-color: #ffe6e6'>re</span>\n",
              "<span style='padding: 3px; background-color: #ffe4e4'>##tar</span>\n",
              "<span style='padding: 3px; background-color: #ffe6e6'>##ded</span>\n",
              "<span style='padding: 3px; background-color: #fffbfb'>.</span>\n",
              "<span style='padding: 3px; background-color: #fffbfb'>.</span>\n",
              "<span style='padding: 3px; background-color: #fff8f8'>.</span>\n",
              "<span style='padding: 3px; background-color: #fff8f8'>l</span>\n",
              "<span style='padding: 3px; background-color: #fff7f7'>##m</span>\n",
              "<span style='padding: 3px; background-color: #fffafa'>##fa</span>\n",
              "<span style='padding: 3px; background-color: #ffe8e8'>##oo</span>\n",
              "</p>\n"
            ]
          },
          "metadata": {}
        },
        {
          "output_type": "stream",
          "name": "stdout",
          "text": [
            "Head #10:\n"
          ]
        },
        {
          "output_type": "display_data",
          "data": {
            "text/plain": [
              "<IPython.core.display.HTML object>"
            ],
            "text/html": [
              "<p style='font-size: 12pt; line-height: 2'>\n",
              "<span style='padding: 3px; background-color: #ff9900'>Label: Hate Speech</span>\n",
              "<span style='padding: 3px; background-color: #ffeeee'>these</span>\n",
              "<span style='padding: 3px; background-color: #ffeeee'>ni</span>\n",
              "<span style='padding: 3px; background-color: #ffc2c2'>##gga</span>\n",
              "<span style='padding: 3px; background-color: #fff5f5'>##s</span>\n",
              "<span style='padding: 3px; background-color: #fff0f0'>re</span>\n",
              "<span style='padding: 3px; background-color: #fff7f7'>##tar</span>\n",
              "<span style='padding: 3px; background-color: #fff2f2'>##ded</span>\n",
              "<span style='padding: 3px; background-color: #fff2f2'>.</span>\n",
              "<span style='padding: 3px; background-color: #fff7f7'>.</span>\n",
              "<span style='padding: 3px; background-color: #ffeded'>.</span>\n",
              "<span style='padding: 3px; background-color: #fff3f3'>l</span>\n",
              "<span style='padding: 3px; background-color: #fff0f0'>##m</span>\n",
              "<span style='padding: 3px; background-color: #fff6f6'>##fa</span>\n",
              "<span style='padding: 3px; background-color: #ffdbdb'>##oo</span>\n",
              "</p>\n"
            ]
          },
          "metadata": {}
        },
        {
          "output_type": "stream",
          "name": "stdout",
          "text": [
            "Head #11:\n"
          ]
        },
        {
          "output_type": "display_data",
          "data": {
            "text/plain": [
              "<IPython.core.display.HTML object>"
            ],
            "text/html": [
              "<p style='font-size: 12pt; line-height: 2'>\n",
              "<span style='padding: 3px; background-color: #ff9900'>Label: Hate Speech</span>\n",
              "<span style='padding: 3px; background-color: #fff2f2'>these</span>\n",
              "<span style='padding: 3px; background-color: #fff0f0'>ni</span>\n",
              "<span style='padding: 3px; background-color: #ffd0d0'>##gga</span>\n",
              "<span style='padding: 3px; background-color: #ffefef'>##s</span>\n",
              "<span style='padding: 3px; background-color: #ffdbdb'>re</span>\n",
              "<span style='padding: 3px; background-color: #fff0f0'>##tar</span>\n",
              "<span style='padding: 3px; background-color: #ffeded'>##ded</span>\n",
              "<span style='padding: 3px; background-color: #fffbfb'>.</span>\n",
              "<span style='padding: 3px; background-color: #fffafa'>.</span>\n",
              "<span style='padding: 3px; background-color: #fff6f6'>.</span>\n",
              "<span style='padding: 3px; background-color: #fff8f8'>l</span>\n",
              "<span style='padding: 3px; background-color: #fff3f3'>##m</span>\n",
              "<span style='padding: 3px; background-color: #ffebeb'>##fa</span>\n",
              "<span style='padding: 3px; background-color: #ffeded'>##oo</span>\n",
              "</p>\n"
            ]
          },
          "metadata": {}
        }
      ]
    },
    {
      "cell_type": "code",
      "source": [
        "test_row_attn_heads(85)"
      ],
      "metadata": {
        "colab": {
          "base_uri": "https://localhost:8080/",
          "height": 1000
        },
        "id": "itONkB2fTDMv",
        "outputId": "dea6c7a0-bf4e-4b92-a8cf-b6bafd879fde"
      },
      "execution_count": null,
      "outputs": [
        {
          "output_type": "stream",
          "name": "stdout",
          "text": [
            "Head #0:\n"
          ]
        },
        {
          "output_type": "display_data",
          "data": {
            "text/plain": [
              "<IPython.core.display.HTML object>"
            ],
            "text/html": [
              "<p style='font-size: 12pt; line-height: 2'>\n",
              "<span style='padding: 3px; background-color: #00cc99'>Label: Not Hate Speech</span>\n",
              "<span style='padding: 3px; background-color: #ffe7e7'>rt</span>\n",
              "<span style='padding: 3px; background-color: #fffcfc'>at</span>\n",
              "<span style='padding: 3px; background-color: #ffefef'>_</span>\n",
              "<span style='padding: 3px; background-color: #fffcfc'>mention</span>\n",
              "<span style='padding: 3px; background-color: #fffbfb'>:</span>\n",
              "<span style='padding: 3px; background-color: #fffdfd'>soul</span>\n",
              "<span style='padding: 3px; background-color: #fff6f6'>##ja</span>\n",
              "<span style='padding: 3px; background-color: #fffdfd'>boy</span>\n",
              "<span style='padding: 3px; background-color: #fffcfc'>trash</span>\n",
              "<span style='padding: 3px; background-color: #fffdfd'>now</span>\n",
              "<span style='padding: 3px; background-color: #fff1f1'>but</span>\n",
              "<span style='padding: 3px; background-color: #fffdfd'>i</span>\n",
              "<span style='padding: 3px; background-color: #ffbebe'>'</span>\n",
              "<span style='padding: 3px; background-color: #fffefe'>m</span>\n",
              "<span style='padding: 3px; background-color: #fffefe'>not</span>\n",
              "<span style='padding: 3px; background-color: #fffcfc'>gonna</span>\n",
              "<span style='padding: 3px; background-color: #fffcfc'>act</span>\n",
              "<span style='padding: 3px; background-color: #fffefe'>like</span>\n",
              "<span style='padding: 3px; background-color: #fffdfd'>i</span>\n",
              "<span style='padding: 3px; background-color: #fffdfd'>never</span>\n",
              "<span style='padding: 3px; background-color: #fff8f8'>crank</span>\n",
              "<span style='padding: 3px; background-color: #fffdfd'>##ed</span>\n",
              "<span style='padding: 3px; background-color: #fffbfb'>that</span>\n",
              "<span style='padding: 3px; background-color: #fff7f7'>superman</span>\n",
              "<span style='padding: 3px; background-color: #fffcfc'>.</span>\n",
              "</p>\n"
            ]
          },
          "metadata": {}
        },
        {
          "output_type": "stream",
          "name": "stdout",
          "text": [
            "Head #1:\n"
          ]
        },
        {
          "output_type": "display_data",
          "data": {
            "text/plain": [
              "<IPython.core.display.HTML object>"
            ],
            "text/html": [
              "<p style='font-size: 12pt; line-height: 2'>\n",
              "<span style='padding: 3px; background-color: #00cc99'>Label: Not Hate Speech</span>\n",
              "<span style='padding: 3px; background-color: #fff6f6'>rt</span>\n",
              "<span style='padding: 3px; background-color: #fffdfd'>at</span>\n",
              "<span style='padding: 3px; background-color: #fffdfd'>_</span>\n",
              "<span style='padding: 3px; background-color: #fffafa'>mention</span>\n",
              "<span style='padding: 3px; background-color: #fffafa'>:</span>\n",
              "<span style='padding: 3px; background-color: #ffe0e0'>soul</span>\n",
              "<span style='padding: 3px; background-color: #ffe8e8'>##ja</span>\n",
              "<span style='padding: 3px; background-color: #ffe8e8'>boy</span>\n",
              "<span style='padding: 3px; background-color: #ffecec'>trash</span>\n",
              "<span style='padding: 3px; background-color: #fffbfb'>now</span>\n",
              "<span style='padding: 3px; background-color: #fff1f1'>but</span>\n",
              "<span style='padding: 3px; background-color: #fffcfc'>i</span>\n",
              "<span style='padding: 3px; background-color: #fff8f8'>'</span>\n",
              "<span style='padding: 3px; background-color: #fffefe'>m</span>\n",
              "<span style='padding: 3px; background-color: #fffdfd'>not</span>\n",
              "<span style='padding: 3px; background-color: #fffbfb'>gonna</span>\n",
              "<span style='padding: 3px; background-color: #fffcfc'>act</span>\n",
              "<span style='padding: 3px; background-color: #fffcfc'>like</span>\n",
              "<span style='padding: 3px; background-color: #fff9f9'>i</span>\n",
              "<span style='padding: 3px; background-color: #fff7f7'>never</span>\n",
              "<span style='padding: 3px; background-color: #ffeeee'>crank</span>\n",
              "<span style='padding: 3px; background-color: #ffeded'>##ed</span>\n",
              "<span style='padding: 3px; background-color: #fff3f3'>that</span>\n",
              "<span style='padding: 3px; background-color: #ffeded'>superman</span>\n",
              "<span style='padding: 3px; background-color: #fff3f3'>.</span>\n",
              "</p>\n"
            ]
          },
          "metadata": {}
        },
        {
          "output_type": "stream",
          "name": "stdout",
          "text": [
            "Head #2:\n"
          ]
        },
        {
          "output_type": "display_data",
          "data": {
            "text/plain": [
              "<IPython.core.display.HTML object>"
            ],
            "text/html": [
              "<p style='font-size: 12pt; line-height: 2'>\n",
              "<span style='padding: 3px; background-color: #00cc99'>Label: Not Hate Speech</span>\n",
              "<span style='padding: 3px; background-color: #ffe8e8'>rt</span>\n",
              "<span style='padding: 3px; background-color: #fff9f9'>at</span>\n",
              "<span style='padding: 3px; background-color: #fffcfc'>_</span>\n",
              "<span style='padding: 3px; background-color: #fff1f1'>mention</span>\n",
              "<span style='padding: 3px; background-color: #ffe5e5'>:</span>\n",
              "<span style='padding: 3px; background-color: #fff7f7'>soul</span>\n",
              "<span style='padding: 3px; background-color: #fffafa'>##ja</span>\n",
              "<span style='padding: 3px; background-color: #fff1f1'>boy</span>\n",
              "<span style='padding: 3px; background-color: #ffe0e0'>trash</span>\n",
              "<span style='padding: 3px; background-color: #fff4f4'>now</span>\n",
              "<span style='padding: 3px; background-color: #fffbfb'>but</span>\n",
              "<span style='padding: 3px; background-color: #fff5f5'>i</span>\n",
              "<span style='padding: 3px; background-color: #fffafa'>'</span>\n",
              "<span style='padding: 3px; background-color: #fffbfb'>m</span>\n",
              "<span style='padding: 3px; background-color: #fffcfc'>not</span>\n",
              "<span style='padding: 3px; background-color: #fffdfd'>gonna</span>\n",
              "<span style='padding: 3px; background-color: #fffbfb'>act</span>\n",
              "<span style='padding: 3px; background-color: #fffcfc'>like</span>\n",
              "<span style='padding: 3px; background-color: #fff9f9'>i</span>\n",
              "<span style='padding: 3px; background-color: #fffdfd'>never</span>\n",
              "<span style='padding: 3px; background-color: #fff7f7'>crank</span>\n",
              "<span style='padding: 3px; background-color: #fff0f0'>##ed</span>\n",
              "<span style='padding: 3px; background-color: #fff0f0'>that</span>\n",
              "<span style='padding: 3px; background-color: #fff0f0'>superman</span>\n",
              "<span style='padding: 3px; background-color: #fff2f2'>.</span>\n",
              "</p>\n"
            ]
          },
          "metadata": {}
        },
        {
          "output_type": "stream",
          "name": "stdout",
          "text": [
            "Head #3:\n"
          ]
        },
        {
          "output_type": "display_data",
          "data": {
            "text/plain": [
              "<IPython.core.display.HTML object>"
            ],
            "text/html": [
              "<p style='font-size: 12pt; line-height: 2'>\n",
              "<span style='padding: 3px; background-color: #00cc99'>Label: Not Hate Speech</span>\n",
              "<span style='padding: 3px; background-color: #fff3f3'>rt</span>\n",
              "<span style='padding: 3px; background-color: #fffcfc'>at</span>\n",
              "<span style='padding: 3px; background-color: #fffbfb'>_</span>\n",
              "<span style='padding: 3px; background-color: #fffbfb'>mention</span>\n",
              "<span style='padding: 3px; background-color: #fff2f2'>:</span>\n",
              "<span style='padding: 3px; background-color: #fff4f4'>soul</span>\n",
              "<span style='padding: 3px; background-color: #ffe6e6'>##ja</span>\n",
              "<span style='padding: 3px; background-color: #fff2f2'>boy</span>\n",
              "<span style='padding: 3px; background-color: #fff0f0'>trash</span>\n",
              "<span style='padding: 3px; background-color: #fff6f6'>now</span>\n",
              "<span style='padding: 3px; background-color: #fff2f2'>but</span>\n",
              "<span style='padding: 3px; background-color: #fff7f7'>i</span>\n",
              "<span style='padding: 3px; background-color: #ffe6e6'>'</span>\n",
              "<span style='padding: 3px; background-color: #fffbfb'>m</span>\n",
              "<span style='padding: 3px; background-color: #fffcfc'>not</span>\n",
              "<span style='padding: 3px; background-color: #fff8f8'>gonna</span>\n",
              "<span style='padding: 3px; background-color: #fff3f3'>act</span>\n",
              "<span style='padding: 3px; background-color: #fff8f8'>like</span>\n",
              "<span style='padding: 3px; background-color: #fff9f9'>i</span>\n",
              "<span style='padding: 3px; background-color: #fffcfc'>never</span>\n",
              "<span style='padding: 3px; background-color: #fff9f9'>crank</span>\n",
              "<span style='padding: 3px; background-color: #fffafa'>##ed</span>\n",
              "<span style='padding: 3px; background-color: #fff5f5'>that</span>\n",
              "<span style='padding: 3px; background-color: #fff5f5'>superman</span>\n",
              "<span style='padding: 3px; background-color: #fff9f9'>.</span>\n",
              "</p>\n"
            ]
          },
          "metadata": {}
        },
        {
          "output_type": "stream",
          "name": "stdout",
          "text": [
            "Head #4:\n"
          ]
        },
        {
          "output_type": "display_data",
          "data": {
            "text/plain": [
              "<IPython.core.display.HTML object>"
            ],
            "text/html": [
              "<p style='font-size: 12pt; line-height: 2'>\n",
              "<span style='padding: 3px; background-color: #00cc99'>Label: Not Hate Speech</span>\n",
              "<span style='padding: 3px; background-color: #fffcfc'>rt</span>\n",
              "<span style='padding: 3px; background-color: #fffefe'>at</span>\n",
              "<span style='padding: 3px; background-color: #fffdfd'>_</span>\n",
              "<span style='padding: 3px; background-color: #fff9f9'>mention</span>\n",
              "<span style='padding: 3px; background-color: #fff9f9'>:</span>\n",
              "<span style='padding: 3px; background-color: #fff4f4'>soul</span>\n",
              "<span style='padding: 3px; background-color: #fffafa'>##ja</span>\n",
              "<span style='padding: 3px; background-color: #ffe7e7'>boy</span>\n",
              "<span style='padding: 3px; background-color: #ffd3d3'>trash</span>\n",
              "<span style='padding: 3px; background-color: #ffeaea'>now</span>\n",
              "<span style='padding: 3px; background-color: #fff6f6'>but</span>\n",
              "<span style='padding: 3px; background-color: #fffafa'>i</span>\n",
              "<span style='padding: 3px; background-color: #fffdfd'>'</span>\n",
              "<span style='padding: 3px; background-color: #fffdfd'>m</span>\n",
              "<span style='padding: 3px; background-color: #fffdfd'>not</span>\n",
              "<span style='padding: 3px; background-color: #fffefe'>gonna</span>\n",
              "<span style='padding: 3px; background-color: #fff1f1'>act</span>\n",
              "<span style='padding: 3px; background-color: #fff4f4'>like</span>\n",
              "<span style='padding: 3px; background-color: #fff9f9'>i</span>\n",
              "<span style='padding: 3px; background-color: #fff9f9'>never</span>\n",
              "<span style='padding: 3px; background-color: #fff9f9'>crank</span>\n",
              "<span style='padding: 3px; background-color: #fff3f3'>##ed</span>\n",
              "<span style='padding: 3px; background-color: #fff6f6'>that</span>\n",
              "<span style='padding: 3px; background-color: #ffdcdc'>superman</span>\n",
              "<span style='padding: 3px; background-color: #fff8f8'>.</span>\n",
              "</p>\n"
            ]
          },
          "metadata": {}
        },
        {
          "output_type": "stream",
          "name": "stdout",
          "text": [
            "Head #5:\n"
          ]
        },
        {
          "output_type": "display_data",
          "data": {
            "text/plain": [
              "<IPython.core.display.HTML object>"
            ],
            "text/html": [
              "<p style='font-size: 12pt; line-height: 2'>\n",
              "<span style='padding: 3px; background-color: #00cc99'>Label: Not Hate Speech</span>\n",
              "<span style='padding: 3px; background-color: #fffafa'>rt</span>\n",
              "<span style='padding: 3px; background-color: #fffefe'>at</span>\n",
              "<span style='padding: 3px; background-color: #fffefe'>_</span>\n",
              "<span style='padding: 3px; background-color: #fffcfc'>mention</span>\n",
              "<span style='padding: 3px; background-color: #fffbfb'>:</span>\n",
              "<span style='padding: 3px; background-color: #ffd1d1'>soul</span>\n",
              "<span style='padding: 3px; background-color: #ffdddd'>##ja</span>\n",
              "<span style='padding: 3px; background-color: #ffd5d5'>boy</span>\n",
              "<span style='padding: 3px; background-color: #ffe1e1'>trash</span>\n",
              "<span style='padding: 3px; background-color: #fff8f8'>now</span>\n",
              "<span style='padding: 3px; background-color: #fff3f3'>but</span>\n",
              "<span style='padding: 3px; background-color: #fffefe'>i</span>\n",
              "<span style='padding: 3px; background-color: #fffdfd'>'</span>\n",
              "<span style='padding: 3px; background-color: #fffefe'>m</span>\n",
              "<span style='padding: 3px; background-color: #fffefe'>not</span>\n",
              "<span style='padding: 3px; background-color: #fffdfd'>gonna</span>\n",
              "<span style='padding: 3px; background-color: #fffefe'>act</span>\n",
              "<span style='padding: 3px; background-color: #fffefe'>like</span>\n",
              "<span style='padding: 3px; background-color: #fffdfd'>i</span>\n",
              "<span style='padding: 3px; background-color: #fffcfc'>never</span>\n",
              "<span style='padding: 3px; background-color: #fff5f5'>crank</span>\n",
              "<span style='padding: 3px; background-color: #fff6f6'>##ed</span>\n",
              "<span style='padding: 3px; background-color: #fff5f5'>that</span>\n",
              "<span style='padding: 3px; background-color: #ffe0e0'>superman</span>\n",
              "<span style='padding: 3px; background-color: #fffcfc'>.</span>\n",
              "</p>\n"
            ]
          },
          "metadata": {}
        },
        {
          "output_type": "stream",
          "name": "stdout",
          "text": [
            "Head #6:\n"
          ]
        },
        {
          "output_type": "display_data",
          "data": {
            "text/plain": [
              "<IPython.core.display.HTML object>"
            ],
            "text/html": [
              "<p style='font-size: 12pt; line-height: 2'>\n",
              "<span style='padding: 3px; background-color: #00cc99'>Label: Not Hate Speech</span>\n",
              "<span style='padding: 3px; background-color: #fffbfb'>rt</span>\n",
              "<span style='padding: 3px; background-color: #fffefe'>at</span>\n",
              "<span style='padding: 3px; background-color: #fffdfd'>_</span>\n",
              "<span style='padding: 3px; background-color: #fffdfd'>mention</span>\n",
              "<span style='padding: 3px; background-color: #fff7f7'>:</span>\n",
              "<span style='padding: 3px; background-color: #fff8f8'>soul</span>\n",
              "<span style='padding: 3px; background-color: #fff9f9'>##ja</span>\n",
              "<span style='padding: 3px; background-color: #fffafa'>boy</span>\n",
              "<span style='padding: 3px; background-color: #fff8f8'>trash</span>\n",
              "<span style='padding: 3px; background-color: #fffcfc'>now</span>\n",
              "<span style='padding: 3px; background-color: #fff3f3'>but</span>\n",
              "<span style='padding: 3px; background-color: #fff6f6'>i</span>\n",
              "<span style='padding: 3px; background-color: #ffe6e6'>'</span>\n",
              "<span style='padding: 3px; background-color: #fff7f7'>m</span>\n",
              "<span style='padding: 3px; background-color: #fff6f6'>not</span>\n",
              "<span style='padding: 3px; background-color: #fff7f7'>gonna</span>\n",
              "<span style='padding: 3px; background-color: #ffeeee'>act</span>\n",
              "<span style='padding: 3px; background-color: #fff6f6'>like</span>\n",
              "<span style='padding: 3px; background-color: #fffafa'>i</span>\n",
              "<span style='padding: 3px; background-color: #fff3f3'>never</span>\n",
              "<span style='padding: 3px; background-color: #fff9f9'>crank</span>\n",
              "<span style='padding: 3px; background-color: #fff9f9'>##ed</span>\n",
              "<span style='padding: 3px; background-color: #fff5f5'>that</span>\n",
              "<span style='padding: 3px; background-color: #fff9f9'>superman</span>\n",
              "<span style='padding: 3px; background-color: #ffe3e3'>.</span>\n",
              "</p>\n"
            ]
          },
          "metadata": {}
        },
        {
          "output_type": "stream",
          "name": "stdout",
          "text": [
            "Head #7:\n"
          ]
        },
        {
          "output_type": "display_data",
          "data": {
            "text/plain": [
              "<IPython.core.display.HTML object>"
            ],
            "text/html": [
              "<p style='font-size: 12pt; line-height: 2'>\n",
              "<span style='padding: 3px; background-color: #00cc99'>Label: Not Hate Speech</span>\n",
              "<span style='padding: 3px; background-color: #fffdfd'>rt</span>\n",
              "<span style='padding: 3px; background-color: #fffefe'>at</span>\n",
              "<span style='padding: 3px; background-color: #fffefe'>_</span>\n",
              "<span style='padding: 3px; background-color: #fffefe'>mention</span>\n",
              "<span style='padding: 3px; background-color: #fffdfd'>:</span>\n",
              "<span style='padding: 3px; background-color: #ffe4e4'>soul</span>\n",
              "<span style='padding: 3px; background-color: #ffcfcf'>##ja</span>\n",
              "<span style='padding: 3px; background-color: #fff0f0'>boy</span>\n",
              "<span style='padding: 3px; background-color: #fff4f4'>trash</span>\n",
              "<span style='padding: 3px; background-color: #fffdfd'>now</span>\n",
              "<span style='padding: 3px; background-color: #fffbfb'>but</span>\n",
              "<span style='padding: 3px; background-color: #fffefe'>i</span>\n",
              "<span style='padding: 3px; background-color: #ffcece'>'</span>\n",
              "<span style='padding: 3px; background-color: #fffefe'>m</span>\n",
              "<span style='padding: 3px; background-color: #fffefe'>not</span>\n",
              "<span style='padding: 3px; background-color: #fffefe'>gonna</span>\n",
              "<span style='padding: 3px; background-color: #fffefe'>act</span>\n",
              "<span style='padding: 3px; background-color: #fffefe'>like</span>\n",
              "<span style='padding: 3px; background-color: #fffefe'>i</span>\n",
              "<span style='padding: 3px; background-color: #fffdfd'>never</span>\n",
              "<span style='padding: 3px; background-color: #fffdfd'>crank</span>\n",
              "<span style='padding: 3px; background-color: #fffdfd'>##ed</span>\n",
              "<span style='padding: 3px; background-color: #fffbfb'>that</span>\n",
              "<span style='padding: 3px; background-color: #ffdbdb'>superman</span>\n",
              "<span style='padding: 3px; background-color: #fffcfc'>.</span>\n",
              "</p>\n"
            ]
          },
          "metadata": {}
        },
        {
          "output_type": "stream",
          "name": "stdout",
          "text": [
            "Head #8:\n"
          ]
        },
        {
          "output_type": "display_data",
          "data": {
            "text/plain": [
              "<IPython.core.display.HTML object>"
            ],
            "text/html": [
              "<p style='font-size: 12pt; line-height: 2'>\n",
              "<span style='padding: 3px; background-color: #00cc99'>Label: Not Hate Speech</span>\n",
              "<span style='padding: 3px; background-color: #fffcfc'>rt</span>\n",
              "<span style='padding: 3px; background-color: #fffefe'>at</span>\n",
              "<span style='padding: 3px; background-color: #fffdfd'>_</span>\n",
              "<span style='padding: 3px; background-color: #fffdfd'>mention</span>\n",
              "<span style='padding: 3px; background-color: #fffafa'>:</span>\n",
              "<span style='padding: 3px; background-color: #fff5f5'>soul</span>\n",
              "<span style='padding: 3px; background-color: #fff7f7'>##ja</span>\n",
              "<span style='padding: 3px; background-color: #ffeded'>boy</span>\n",
              "<span style='padding: 3px; background-color: #ffcdcd'>trash</span>\n",
              "<span style='padding: 3px; background-color: #fff1f1'>now</span>\n",
              "<span style='padding: 3px; background-color: #fffbfb'>but</span>\n",
              "<span style='padding: 3px; background-color: #fff7f7'>i</span>\n",
              "<span style='padding: 3px; background-color: #fffdfd'>'</span>\n",
              "<span style='padding: 3px; background-color: #fffdfd'>m</span>\n",
              "<span style='padding: 3px; background-color: #fffafa'>not</span>\n",
              "<span style='padding: 3px; background-color: #fffdfd'>gonna</span>\n",
              "<span style='padding: 3px; background-color: #fffafa'>act</span>\n",
              "<span style='padding: 3px; background-color: #fffbfb'>like</span>\n",
              "<span style='padding: 3px; background-color: #fff0f0'>i</span>\n",
              "<span style='padding: 3px; background-color: #fffcfc'>never</span>\n",
              "<span style='padding: 3px; background-color: #fff8f8'>crank</span>\n",
              "<span style='padding: 3px; background-color: #ffebeb'>##ed</span>\n",
              "<span style='padding: 3px; background-color: #ffe7e7'>that</span>\n",
              "<span style='padding: 3px; background-color: #fff6f6'>superman</span>\n",
              "<span style='padding: 3px; background-color: #fff3f3'>.</span>\n",
              "</p>\n"
            ]
          },
          "metadata": {}
        },
        {
          "output_type": "stream",
          "name": "stdout",
          "text": [
            "Head #9:\n"
          ]
        },
        {
          "output_type": "display_data",
          "data": {
            "text/plain": [
              "<IPython.core.display.HTML object>"
            ],
            "text/html": [
              "<p style='font-size: 12pt; line-height: 2'>\n",
              "<span style='padding: 3px; background-color: #00cc99'>Label: Not Hate Speech</span>\n",
              "<span style='padding: 3px; background-color: #fff7f7'>rt</span>\n",
              "<span style='padding: 3px; background-color: #fffcfc'>at</span>\n",
              "<span style='padding: 3px; background-color: #fffdfd'>_</span>\n",
              "<span style='padding: 3px; background-color: #fffcfc'>mention</span>\n",
              "<span style='padding: 3px; background-color: #fffbfb'>:</span>\n",
              "<span style='padding: 3px; background-color: #fff3f3'>soul</span>\n",
              "<span style='padding: 3px; background-color: #fff3f3'>##ja</span>\n",
              "<span style='padding: 3px; background-color: #fff2f2'>boy</span>\n",
              "<span style='padding: 3px; background-color: #ffeded'>trash</span>\n",
              "<span style='padding: 3px; background-color: #fffafa'>now</span>\n",
              "<span style='padding: 3px; background-color: #ffe4e4'>but</span>\n",
              "<span style='padding: 3px; background-color: #fffafa'>i</span>\n",
              "<span style='padding: 3px; background-color: #fffbfb'>'</span>\n",
              "<span style='padding: 3px; background-color: #fffcfc'>m</span>\n",
              "<span style='padding: 3px; background-color: #fffdfd'>not</span>\n",
              "<span style='padding: 3px; background-color: #fff3f3'>gonna</span>\n",
              "<span style='padding: 3px; background-color: #fff8f8'>act</span>\n",
              "<span style='padding: 3px; background-color: #fff1f1'>like</span>\n",
              "<span style='padding: 3px; background-color: #fff8f8'>i</span>\n",
              "<span style='padding: 3px; background-color: #fff6f6'>never</span>\n",
              "<span style='padding: 3px; background-color: #fff6f6'>crank</span>\n",
              "<span style='padding: 3px; background-color: #fff4f4'>##ed</span>\n",
              "<span style='padding: 3px; background-color: #ffe4e4'>that</span>\n",
              "<span style='padding: 3px; background-color: #ffe5e5'>superman</span>\n",
              "<span style='padding: 3px; background-color: #fffafa'>.</span>\n",
              "</p>\n"
            ]
          },
          "metadata": {}
        },
        {
          "output_type": "stream",
          "name": "stdout",
          "text": [
            "Head #10:\n"
          ]
        },
        {
          "output_type": "display_data",
          "data": {
            "text/plain": [
              "<IPython.core.display.HTML object>"
            ],
            "text/html": [
              "<p style='font-size: 12pt; line-height: 2'>\n",
              "<span style='padding: 3px; background-color: #00cc99'>Label: Not Hate Speech</span>\n",
              "<span style='padding: 3px; background-color: #fff6f6'>rt</span>\n",
              "<span style='padding: 3px; background-color: #fffdfd'>at</span>\n",
              "<span style='padding: 3px; background-color: #fffdfd'>_</span>\n",
              "<span style='padding: 3px; background-color: #fffafa'>mention</span>\n",
              "<span style='padding: 3px; background-color: #fffafa'>:</span>\n",
              "<span style='padding: 3px; background-color: #ffecec'>soul</span>\n",
              "<span style='padding: 3px; background-color: #ffe0e0'>##ja</span>\n",
              "<span style='padding: 3px; background-color: #ffe9e9'>boy</span>\n",
              "<span style='padding: 3px; background-color: #ffe4e4'>trash</span>\n",
              "<span style='padding: 3px; background-color: #fff5f5'>now</span>\n",
              "<span style='padding: 3px; background-color: #ffdfdf'>but</span>\n",
              "<span style='padding: 3px; background-color: #fffafa'>i</span>\n",
              "<span style='padding: 3px; background-color: #fff9f9'>'</span>\n",
              "<span style='padding: 3px; background-color: #fffdfd'>m</span>\n",
              "<span style='padding: 3px; background-color: #fffdfd'>not</span>\n",
              "<span style='padding: 3px; background-color: #fff7f7'>gonna</span>\n",
              "<span style='padding: 3px; background-color: #fffdfd'>act</span>\n",
              "<span style='padding: 3px; background-color: #fffdfd'>like</span>\n",
              "<span style='padding: 3px; background-color: #fffafa'>i</span>\n",
              "<span style='padding: 3px; background-color: #fffcfc'>never</span>\n",
              "<span style='padding: 3px; background-color: #fff2f2'>crank</span>\n",
              "<span style='padding: 3px; background-color: #fff5f5'>##ed</span>\n",
              "<span style='padding: 3px; background-color: #fff9f9'>that</span>\n",
              "<span style='padding: 3px; background-color: #fff1f1'>superman</span>\n",
              "<span style='padding: 3px; background-color: #fff0f0'>.</span>\n",
              "</p>\n"
            ]
          },
          "metadata": {}
        },
        {
          "output_type": "stream",
          "name": "stdout",
          "text": [
            "Head #11:\n"
          ]
        },
        {
          "output_type": "display_data",
          "data": {
            "text/plain": [
              "<IPython.core.display.HTML object>"
            ],
            "text/html": [
              "<p style='font-size: 12pt; line-height: 2'>\n",
              "<span style='padding: 3px; background-color: #00cc99'>Label: Not Hate Speech</span>\n",
              "<span style='padding: 3px; background-color: #fffbfb'>rt</span>\n",
              "<span style='padding: 3px; background-color: #fffdfd'>at</span>\n",
              "<span style='padding: 3px; background-color: #fffefe'>_</span>\n",
              "<span style='padding: 3px; background-color: #fffafa'>mention</span>\n",
              "<span style='padding: 3px; background-color: #fffcfc'>:</span>\n",
              "<span style='padding: 3px; background-color: #ffe3e3'>soul</span>\n",
              "<span style='padding: 3px; background-color: #ffe2e2'>##ja</span>\n",
              "<span style='padding: 3px; background-color: #ffdbdb'>boy</span>\n",
              "<span style='padding: 3px; background-color: #ffdada'>trash</span>\n",
              "<span style='padding: 3px; background-color: #fffafa'>now</span>\n",
              "<span style='padding: 3px; background-color: #fff7f7'>but</span>\n",
              "<span style='padding: 3px; background-color: #fffdfd'>i</span>\n",
              "<span style='padding: 3px; background-color: #fff2f2'>'</span>\n",
              "<span style='padding: 3px; background-color: #fffefe'>m</span>\n",
              "<span style='padding: 3px; background-color: #fffefe'>not</span>\n",
              "<span style='padding: 3px; background-color: #fffdfd'>gonna</span>\n",
              "<span style='padding: 3px; background-color: #fffcfc'>act</span>\n",
              "<span style='padding: 3px; background-color: #fffdfd'>like</span>\n",
              "<span style='padding: 3px; background-color: #fffbfb'>i</span>\n",
              "<span style='padding: 3px; background-color: #fffafa'>never</span>\n",
              "<span style='padding: 3px; background-color: #fff9f9'>crank</span>\n",
              "<span style='padding: 3px; background-color: #fff5f5'>##ed</span>\n",
              "<span style='padding: 3px; background-color: #fff3f3'>that</span>\n",
              "<span style='padding: 3px; background-color: #ffe4e4'>superman</span>\n",
              "<span style='padding: 3px; background-color: #fff9f9'>.</span>\n",
              "</p>\n"
            ]
          },
          "metadata": {}
        }
      ]
    },
    {
      "cell_type": "code",
      "source": [
        "test_row_attn_heads(87)"
      ],
      "metadata": {
        "colab": {
          "base_uri": "https://localhost:8080/",
          "height": 1000
        },
        "id": "w9_wAOGtTQKu",
        "outputId": "30c4cfe5-e100-42bf-93e3-8a02cd06349e"
      },
      "execution_count": null,
      "outputs": [
        {
          "output_type": "stream",
          "name": "stdout",
          "text": [
            "Head #0:\n"
          ]
        },
        {
          "output_type": "display_data",
          "data": {
            "text/plain": [
              "<IPython.core.display.HTML object>"
            ],
            "text/html": [
              "<p style='font-size: 12pt; line-height: 2'>\n",
              "<span style='padding: 3px; background-color: #ff9900'>Label: Hate Speech</span>\n",
              "<span style='padding: 3px; background-color: #fffbfb'>black</span>\n",
              "<span style='padding: 3px; background-color: #fffafa'>cops</span>\n",
              "<span style='padding: 3px; background-color: #fffefe'>want</span>\n",
              "<span style='padding: 3px; background-color: #fffefe'>to</span>\n",
              "<span style='padding: 3px; background-color: #fffafa'>kill</span>\n",
              "<span style='padding: 3px; background-color: #fffbfb'>white</span>\n",
              "<span style='padding: 3px; background-color: #fff9f9'>citizens</span>\n",
              "<span style='padding: 3px; background-color: #fffdfd'>.</span>\n",
              "<span style='padding: 3px; background-color: #fffbfb'>sp</span>\n",
              "<span style='padding: 3px; background-color: #fffcfc'>##ic</span>\n",
              "<span style='padding: 3px; background-color: #fffbfb'>cops</span>\n",
              "<span style='padding: 3px; background-color: #fffefe'>want</span>\n",
              "<span style='padding: 3px; background-color: #fffefe'>to</span>\n",
              "<span style='padding: 3px; background-color: #fffcfc'>kill</span>\n",
              "<span style='padding: 3px; background-color: #fffafa'>anglo</span>\n",
              "<span style='padding: 3px; background-color: #fffafa'>citizens</span>\n",
              "<span style='padding: 3px; background-color: #fffefe'>.</span>\n",
              "<span style='padding: 3px; background-color: #fff7f7'>z</span>\n",
              "<span style='padding: 3px; background-color: #fffdfd'>##ige</span>\n",
              "<span style='padding: 3px; background-color: #fffcfc'>##une</span>\n",
              "<span style='padding: 3px; background-color: #fffafa'>##r</span>\n",
              "<span style='padding: 3px; background-color: #fff5f5'>cops</span>\n",
              "<span style='padding: 3px; background-color: #fffcfc'>are</span>\n",
              "<span style='padding: 3px; background-color: #fffdfd'>all</span>\n",
              "<span style='padding: 3px; background-color: #fff6f6'>rap</span>\n",
              "<span style='padding: 3px; background-color: #fffdfd'>##ists</span>\n",
              "<span style='padding: 3px; background-color: #fffdfd'>.</span>\n",
              "</p>\n"
            ]
          },
          "metadata": {}
        },
        {
          "output_type": "stream",
          "name": "stdout",
          "text": [
            "Head #1:\n"
          ]
        },
        {
          "output_type": "display_data",
          "data": {
            "text/plain": [
              "<IPython.core.display.HTML object>"
            ],
            "text/html": [
              "<p style='font-size: 12pt; line-height: 2'>\n",
              "<span style='padding: 3px; background-color: #ff9900'>Label: Hate Speech</span>\n",
              "<span style='padding: 3px; background-color: #ffe7e7'>black</span>\n",
              "<span style='padding: 3px; background-color: #fff8f8'>cops</span>\n",
              "<span style='padding: 3px; background-color: #fffefe'>want</span>\n",
              "<span style='padding: 3px; background-color: #fffdfd'>to</span>\n",
              "<span style='padding: 3px; background-color: #fffafa'>kill</span>\n",
              "<span style='padding: 3px; background-color: #ffe7e7'>white</span>\n",
              "<span style='padding: 3px; background-color: #fffafa'>citizens</span>\n",
              "<span style='padding: 3px; background-color: #fffdfd'>.</span>\n",
              "<span style='padding: 3px; background-color: #ffecec'>sp</span>\n",
              "<span style='padding: 3px; background-color: #ffeaea'>##ic</span>\n",
              "<span style='padding: 3px; background-color: #fff8f8'>cops</span>\n",
              "<span style='padding: 3px; background-color: #fffdfd'>want</span>\n",
              "<span style='padding: 3px; background-color: #fffdfd'>to</span>\n",
              "<span style='padding: 3px; background-color: #fff9f9'>kill</span>\n",
              "<span style='padding: 3px; background-color: #ffefef'>anglo</span>\n",
              "<span style='padding: 3px; background-color: #fff8f8'>citizens</span>\n",
              "<span style='padding: 3px; background-color: #fffdfd'>.</span>\n",
              "<span style='padding: 3px; background-color: #ffeeee'>z</span>\n",
              "<span style='padding: 3px; background-color: #fff7f7'>##ige</span>\n",
              "<span style='padding: 3px; background-color: #fff0f0'>##une</span>\n",
              "<span style='padding: 3px; background-color: #ffe8e8'>##r</span>\n",
              "<span style='padding: 3px; background-color: #fff5f5'>cops</span>\n",
              "<span style='padding: 3px; background-color: #fffbfb'>are</span>\n",
              "<span style='padding: 3px; background-color: #fffafa'>all</span>\n",
              "<span style='padding: 3px; background-color: #fff6f6'>rap</span>\n",
              "<span style='padding: 3px; background-color: #fff8f8'>##ists</span>\n",
              "<span style='padding: 3px; background-color: #fffcfc'>.</span>\n",
              "</p>\n"
            ]
          },
          "metadata": {}
        },
        {
          "output_type": "stream",
          "name": "stdout",
          "text": [
            "Head #2:\n"
          ]
        },
        {
          "output_type": "display_data",
          "data": {
            "text/plain": [
              "<IPython.core.display.HTML object>"
            ],
            "text/html": [
              "<p style='font-size: 12pt; line-height: 2'>\n",
              "<span style='padding: 3px; background-color: #ff9900'>Label: Hate Speech</span>\n",
              "<span style='padding: 3px; background-color: #fff6f6'>black</span>\n",
              "<span style='padding: 3px; background-color: #fff7f7'>cops</span>\n",
              "<span style='padding: 3px; background-color: #fffbfb'>want</span>\n",
              "<span style='padding: 3px; background-color: #fffcfc'>to</span>\n",
              "<span style='padding: 3px; background-color: #fff9f9'>kill</span>\n",
              "<span style='padding: 3px; background-color: #fff9f9'>white</span>\n",
              "<span style='padding: 3px; background-color: #fff5f5'>citizens</span>\n",
              "<span style='padding: 3px; background-color: #fff7f7'>.</span>\n",
              "<span style='padding: 3px; background-color: #fff9f9'>sp</span>\n",
              "<span style='padding: 3px; background-color: #fff4f4'>##ic</span>\n",
              "<span style='padding: 3px; background-color: #fff8f8'>cops</span>\n",
              "<span style='padding: 3px; background-color: #fffcfc'>want</span>\n",
              "<span style='padding: 3px; background-color: #fffcfc'>to</span>\n",
              "<span style='padding: 3px; background-color: #fff7f7'>kill</span>\n",
              "<span style='padding: 3px; background-color: #fffafa'>anglo</span>\n",
              "<span style='padding: 3px; background-color: #fff5f5'>citizens</span>\n",
              "<span style='padding: 3px; background-color: #fff7f7'>.</span>\n",
              "<span style='padding: 3px; background-color: #fff9f9'>z</span>\n",
              "<span style='padding: 3px; background-color: #fff8f8'>##ige</span>\n",
              "<span style='padding: 3px; background-color: #fff3f3'>##une</span>\n",
              "<span style='padding: 3px; background-color: #ffeaea'>##r</span>\n",
              "<span style='padding: 3px; background-color: #fff3f3'>cops</span>\n",
              "<span style='padding: 3px; background-color: #ffdede'>are</span>\n",
              "<span style='padding: 3px; background-color: #fff7f7'>all</span>\n",
              "<span style='padding: 3px; background-color: #ffeded'>rap</span>\n",
              "<span style='padding: 3px; background-color: #fff3f3'>##ists</span>\n",
              "<span style='padding: 3px; background-color: #fff1f1'>.</span>\n",
              "</p>\n"
            ]
          },
          "metadata": {}
        },
        {
          "output_type": "stream",
          "name": "stdout",
          "text": [
            "Head #3:\n"
          ]
        },
        {
          "output_type": "display_data",
          "data": {
            "text/plain": [
              "<IPython.core.display.HTML object>"
            ],
            "text/html": [
              "<p style='font-size: 12pt; line-height: 2'>\n",
              "<span style='padding: 3px; background-color: #ff9900'>Label: Hate Speech</span>\n",
              "<span style='padding: 3px; background-color: #fff2f2'>black</span>\n",
              "<span style='padding: 3px; background-color: #fff7f7'>cops</span>\n",
              "<span style='padding: 3px; background-color: #fffcfc'>want</span>\n",
              "<span style='padding: 3px; background-color: #fffcfc'>to</span>\n",
              "<span style='padding: 3px; background-color: #fffbfb'>kill</span>\n",
              "<span style='padding: 3px; background-color: #fffafa'>white</span>\n",
              "<span style='padding: 3px; background-color: #fffdfd'>citizens</span>\n",
              "<span style='padding: 3px; background-color: #fffcfc'>.</span>\n",
              "<span style='padding: 3px; background-color: #ffeaea'>sp</span>\n",
              "<span style='padding: 3px; background-color: #fff7f7'>##ic</span>\n",
              "<span style='padding: 3px; background-color: #fffbfb'>cops</span>\n",
              "<span style='padding: 3px; background-color: #fffdfd'>want</span>\n",
              "<span style='padding: 3px; background-color: #fffdfd'>to</span>\n",
              "<span style='padding: 3px; background-color: #fffcfc'>kill</span>\n",
              "<span style='padding: 3px; background-color: #fffcfc'>anglo</span>\n",
              "<span style='padding: 3px; background-color: #fffefe'>citizens</span>\n",
              "<span style='padding: 3px; background-color: #fffbfb'>.</span>\n",
              "<span style='padding: 3px; background-color: #ffdede'>z</span>\n",
              "<span style='padding: 3px; background-color: #fff3f3'>##ige</span>\n",
              "<span style='padding: 3px; background-color: #ffe6e6'>##une</span>\n",
              "<span style='padding: 3px; background-color: #ffe6e6'>##r</span>\n",
              "<span style='padding: 3px; background-color: #fff5f5'>cops</span>\n",
              "<span style='padding: 3px; background-color: #fff8f8'>are</span>\n",
              "<span style='padding: 3px; background-color: #fff9f9'>all</span>\n",
              "<span style='padding: 3px; background-color: #fff0f0'>rap</span>\n",
              "<span style='padding: 3px; background-color: #fff9f9'>##ists</span>\n",
              "<span style='padding: 3px; background-color: #fffbfb'>.</span>\n",
              "</p>\n"
            ]
          },
          "metadata": {}
        },
        {
          "output_type": "stream",
          "name": "stdout",
          "text": [
            "Head #4:\n"
          ]
        },
        {
          "output_type": "display_data",
          "data": {
            "text/plain": [
              "<IPython.core.display.HTML object>"
            ],
            "text/html": [
              "<p style='font-size: 12pt; line-height: 2'>\n",
              "<span style='padding: 3px; background-color: #ff9900'>Label: Hate Speech</span>\n",
              "<span style='padding: 3px; background-color: #ffeeee'>black</span>\n",
              "<span style='padding: 3px; background-color: #fff4f4'>cops</span>\n",
              "<span style='padding: 3px; background-color: #fffcfc'>want</span>\n",
              "<span style='padding: 3px; background-color: #fffdfd'>to</span>\n",
              "<span style='padding: 3px; background-color: #fff9f9'>kill</span>\n",
              "<span style='padding: 3px; background-color: #fff1f1'>white</span>\n",
              "<span style='padding: 3px; background-color: #ffecec'>citizens</span>\n",
              "<span style='padding: 3px; background-color: #fffdfd'>.</span>\n",
              "<span style='padding: 3px; background-color: #fff4f4'>sp</span>\n",
              "<span style='padding: 3px; background-color: #ffebeb'>##ic</span>\n",
              "<span style='padding: 3px; background-color: #fffafa'>cops</span>\n",
              "<span style='padding: 3px; background-color: #fffdfd'>want</span>\n",
              "<span style='padding: 3px; background-color: #fffefe'>to</span>\n",
              "<span style='padding: 3px; background-color: #fffbfb'>kill</span>\n",
              "<span style='padding: 3px; background-color: #fff6f6'>anglo</span>\n",
              "<span style='padding: 3px; background-color: #fff0f0'>citizens</span>\n",
              "<span style='padding: 3px; background-color: #fffdfd'>.</span>\n",
              "<span style='padding: 3px; background-color: #fff3f3'>z</span>\n",
              "<span style='padding: 3px; background-color: #fff7f7'>##ige</span>\n",
              "<span style='padding: 3px; background-color: #ffeeee'>##une</span>\n",
              "<span style='padding: 3px; background-color: #ffeded'>##r</span>\n",
              "<span style='padding: 3px; background-color: #fff1f1'>cops</span>\n",
              "<span style='padding: 3px; background-color: #fff7f7'>are</span>\n",
              "<span style='padding: 3px; background-color: #fff9f9'>all</span>\n",
              "<span style='padding: 3px; background-color: #ffeaea'>rap</span>\n",
              "<span style='padding: 3px; background-color: #fff5f5'>##ists</span>\n",
              "<span style='padding: 3px; background-color: #fffbfb'>.</span>\n",
              "</p>\n"
            ]
          },
          "metadata": {}
        },
        {
          "output_type": "stream",
          "name": "stdout",
          "text": [
            "Head #5:\n"
          ]
        },
        {
          "output_type": "display_data",
          "data": {
            "text/plain": [
              "<IPython.core.display.HTML object>"
            ],
            "text/html": [
              "<p style='font-size: 12pt; line-height: 2'>\n",
              "<span style='padding: 3px; background-color: #ff9900'>Label: Hate Speech</span>\n",
              "<span style='padding: 3px; background-color: #ffeaea'>black</span>\n",
              "<span style='padding: 3px; background-color: #fff8f8'>cops</span>\n",
              "<span style='padding: 3px; background-color: #fffefe'>want</span>\n",
              "<span style='padding: 3px; background-color: #fffdfd'>to</span>\n",
              "<span style='padding: 3px; background-color: #fff8f8'>kill</span>\n",
              "<span style='padding: 3px; background-color: #ffebeb'>white</span>\n",
              "<span style='padding: 3px; background-color: #fff1f1'>citizens</span>\n",
              "<span style='padding: 3px; background-color: #fffefe'>.</span>\n",
              "<span style='padding: 3px; background-color: #ffeeee'>sp</span>\n",
              "<span style='padding: 3px; background-color: #ffe3e3'>##ic</span>\n",
              "<span style='padding: 3px; background-color: #fffafa'>cops</span>\n",
              "<span style='padding: 3px; background-color: #fffefe'>want</span>\n",
              "<span style='padding: 3px; background-color: #fffefe'>to</span>\n",
              "<span style='padding: 3px; background-color: #fff7f7'>kill</span>\n",
              "<span style='padding: 3px; background-color: #ffebeb'>anglo</span>\n",
              "<span style='padding: 3px; background-color: #ffeeee'>citizens</span>\n",
              "<span style='padding: 3px; background-color: #fffefe'>.</span>\n",
              "<span style='padding: 3px; background-color: #fff6f6'>z</span>\n",
              "<span style='padding: 3px; background-color: #fffafa'>##ige</span>\n",
              "<span style='padding: 3px; background-color: #fff1f1'>##une</span>\n",
              "<span style='padding: 3px; background-color: #ffdbdb'>##r</span>\n",
              "<span style='padding: 3px; background-color: #fff5f5'>cops</span>\n",
              "<span style='padding: 3px; background-color: #fffcfc'>are</span>\n",
              "<span style='padding: 3px; background-color: #fffdfd'>all</span>\n",
              "<span style='padding: 3px; background-color: #fff8f8'>rap</span>\n",
              "<span style='padding: 3px; background-color: #fff8f8'>##ists</span>\n",
              "<span style='padding: 3px; background-color: #fffefe'>.</span>\n",
              "</p>\n"
            ]
          },
          "metadata": {}
        },
        {
          "output_type": "stream",
          "name": "stdout",
          "text": [
            "Head #6:\n"
          ]
        },
        {
          "output_type": "display_data",
          "data": {
            "text/plain": [
              "<IPython.core.display.HTML object>"
            ],
            "text/html": [
              "<p style='font-size: 12pt; line-height: 2'>\n",
              "<span style='padding: 3px; background-color: #ff9900'>Label: Hate Speech</span>\n",
              "<span style='padding: 3px; background-color: #fff2f2'>black</span>\n",
              "<span style='padding: 3px; background-color: #fffafa'>cops</span>\n",
              "<span style='padding: 3px; background-color: #fff7f7'>want</span>\n",
              "<span style='padding: 3px; background-color: #fffdfd'>to</span>\n",
              "<span style='padding: 3px; background-color: #fffcfc'>kill</span>\n",
              "<span style='padding: 3px; background-color: #fff4f4'>white</span>\n",
              "<span style='padding: 3px; background-color: #fff9f9'>citizens</span>\n",
              "<span style='padding: 3px; background-color: #fff2f2'>.</span>\n",
              "<span style='padding: 3px; background-color: #fff8f8'>sp</span>\n",
              "<span style='padding: 3px; background-color: #ffeded'>##ic</span>\n",
              "<span style='padding: 3px; background-color: #fffafa'>cops</span>\n",
              "<span style='padding: 3px; background-color: #fff2f2'>want</span>\n",
              "<span style='padding: 3px; background-color: #fffdfd'>to</span>\n",
              "<span style='padding: 3px; background-color: #fffcfc'>kill</span>\n",
              "<span style='padding: 3px; background-color: #ffefef'>anglo</span>\n",
              "<span style='padding: 3px; background-color: #fff8f8'>citizens</span>\n",
              "<span style='padding: 3px; background-color: #fff8f8'>.</span>\n",
              "<span style='padding: 3px; background-color: #fff2f2'>z</span>\n",
              "<span style='padding: 3px; background-color: #fffbfb'>##ige</span>\n",
              "<span style='padding: 3px; background-color: #fffbfb'>##une</span>\n",
              "<span style='padding: 3px; background-color: #fff9f9'>##r</span>\n",
              "<span style='padding: 3px; background-color: #fff5f5'>cops</span>\n",
              "<span style='padding: 3px; background-color: #fff4f4'>are</span>\n",
              "<span style='padding: 3px; background-color: #fff8f8'>all</span>\n",
              "<span style='padding: 3px; background-color: #fff6f6'>rap</span>\n",
              "<span style='padding: 3px; background-color: #fffcfc'>##ists</span>\n",
              "<span style='padding: 3px; background-color: #fff0f0'>.</span>\n",
              "</p>\n"
            ]
          },
          "metadata": {}
        },
        {
          "output_type": "stream",
          "name": "stdout",
          "text": [
            "Head #7:\n"
          ]
        },
        {
          "output_type": "display_data",
          "data": {
            "text/plain": [
              "<IPython.core.display.HTML object>"
            ],
            "text/html": [
              "<p style='font-size: 12pt; line-height: 2'>\n",
              "<span style='padding: 3px; background-color: #ff9900'>Label: Hate Speech</span>\n",
              "<span style='padding: 3px; background-color: #ffe7e7'>black</span>\n",
              "<span style='padding: 3px; background-color: #fffafa'>cops</span>\n",
              "<span style='padding: 3px; background-color: #fffdfd'>want</span>\n",
              "<span style='padding: 3px; background-color: #fffefe'>to</span>\n",
              "<span style='padding: 3px; background-color: #fffdfd'>kill</span>\n",
              "<span style='padding: 3px; background-color: #ffecec'>white</span>\n",
              "<span style='padding: 3px; background-color: #fff6f6'>citizens</span>\n",
              "<span style='padding: 3px; background-color: #fffdfd'>.</span>\n",
              "<span style='padding: 3px; background-color: #fff2f2'>sp</span>\n",
              "<span style='padding: 3px; background-color: #ffecec'>##ic</span>\n",
              "<span style='padding: 3px; background-color: #fffafa'>cops</span>\n",
              "<span style='padding: 3px; background-color: #fffcfc'>want</span>\n",
              "<span style='padding: 3px; background-color: #fffdfd'>to</span>\n",
              "<span style='padding: 3px; background-color: #fffdfd'>kill</span>\n",
              "<span style='padding: 3px; background-color: #ffe8e8'>anglo</span>\n",
              "<span style='padding: 3px; background-color: #fff4f4'>citizens</span>\n",
              "<span style='padding: 3px; background-color: #fffdfd'>.</span>\n",
              "<span style='padding: 3px; background-color: #ffeeee'>z</span>\n",
              "<span style='padding: 3px; background-color: #fff4f4'>##ige</span>\n",
              "<span style='padding: 3px; background-color: #fff7f7'>##une</span>\n",
              "<span style='padding: 3px; background-color: #fff6f6'>##r</span>\n",
              "<span style='padding: 3px; background-color: #fff9f9'>cops</span>\n",
              "<span style='padding: 3px; background-color: #fffcfc'>are</span>\n",
              "<span style='padding: 3px; background-color: #fffcfc'>all</span>\n",
              "<span style='padding: 3px; background-color: #fff9f9'>rap</span>\n",
              "<span style='padding: 3px; background-color: #fff7f7'>##ists</span>\n",
              "<span style='padding: 3px; background-color: #fffcfc'>.</span>\n",
              "</p>\n"
            ]
          },
          "metadata": {}
        },
        {
          "output_type": "stream",
          "name": "stdout",
          "text": [
            "Head #8:\n"
          ]
        },
        {
          "output_type": "display_data",
          "data": {
            "text/plain": [
              "<IPython.core.display.HTML object>"
            ],
            "text/html": [
              "<p style='font-size: 12pt; line-height: 2'>\n",
              "<span style='padding: 3px; background-color: #ff9900'>Label: Hate Speech</span>\n",
              "<span style='padding: 3px; background-color: #fffcfc'>black</span>\n",
              "<span style='padding: 3px; background-color: #fffdfd'>cops</span>\n",
              "<span style='padding: 3px; background-color: #fff0f0'>want</span>\n",
              "<span style='padding: 3px; background-color: #fff5f5'>to</span>\n",
              "<span style='padding: 3px; background-color: #fffbfb'>kill</span>\n",
              "<span style='padding: 3px; background-color: #fffcfc'>white</span>\n",
              "<span style='padding: 3px; background-color: #fffdfd'>citizens</span>\n",
              "<span style='padding: 3px; background-color: #fff1f1'>.</span>\n",
              "<span style='padding: 3px; background-color: #fffdfd'>sp</span>\n",
              "<span style='padding: 3px; background-color: #fffdfd'>##ic</span>\n",
              "<span style='padding: 3px; background-color: #fffdfd'>cops</span>\n",
              "<span style='padding: 3px; background-color: #fff4f4'>want</span>\n",
              "<span style='padding: 3px; background-color: #fff4f4'>to</span>\n",
              "<span style='padding: 3px; background-color: #fffafa'>kill</span>\n",
              "<span style='padding: 3px; background-color: #fffdfd'>anglo</span>\n",
              "<span style='padding: 3px; background-color: #fffdfd'>citizens</span>\n",
              "<span style='padding: 3px; background-color: #fff8f8'>.</span>\n",
              "<span style='padding: 3px; background-color: #fffdfd'>z</span>\n",
              "<span style='padding: 3px; background-color: #fffdfd'>##ige</span>\n",
              "<span style='padding: 3px; background-color: #fffefe'>##une</span>\n",
              "<span style='padding: 3px; background-color: #fffafa'>##r</span>\n",
              "<span style='padding: 3px; background-color: #fffbfb'>cops</span>\n",
              "<span style='padding: 3px; background-color: #ffb6b6'>are</span>\n",
              "<span style='padding: 3px; background-color: #ffe1e1'>all</span>\n",
              "<span style='padding: 3px; background-color: #fff9f9'>rap</span>\n",
              "<span style='padding: 3px; background-color: #ffe6e6'>##ists</span>\n",
              "<span style='padding: 3px; background-color: #fff7f7'>.</span>\n",
              "</p>\n"
            ]
          },
          "metadata": {}
        },
        {
          "output_type": "stream",
          "name": "stdout",
          "text": [
            "Head #9:\n"
          ]
        },
        {
          "output_type": "display_data",
          "data": {
            "text/plain": [
              "<IPython.core.display.HTML object>"
            ],
            "text/html": [
              "<p style='font-size: 12pt; line-height: 2'>\n",
              "<span style='padding: 3px; background-color: #ff9900'>Label: Hate Speech</span>\n",
              "<span style='padding: 3px; background-color: #fff4f4'>black</span>\n",
              "<span style='padding: 3px; background-color: #fff1f1'>cops</span>\n",
              "<span style='padding: 3px; background-color: #fff7f7'>want</span>\n",
              "<span style='padding: 3px; background-color: #fff4f4'>to</span>\n",
              "<span style='padding: 3px; background-color: #fff5f5'>kill</span>\n",
              "<span style='padding: 3px; background-color: #fff5f5'>white</span>\n",
              "<span style='padding: 3px; background-color: #ffeded'>citizens</span>\n",
              "<span style='padding: 3px; background-color: #fffdfd'>.</span>\n",
              "<span style='padding: 3px; background-color: #fff7f7'>sp</span>\n",
              "<span style='padding: 3px; background-color: #fff5f5'>##ic</span>\n",
              "<span style='padding: 3px; background-color: #fff7f7'>cops</span>\n",
              "<span style='padding: 3px; background-color: #fff9f9'>want</span>\n",
              "<span style='padding: 3px; background-color: #fff6f6'>to</span>\n",
              "<span style='padding: 3px; background-color: #fff6f6'>kill</span>\n",
              "<span style='padding: 3px; background-color: #fff3f3'>anglo</span>\n",
              "<span style='padding: 3px; background-color: #fff0f0'>citizens</span>\n",
              "<span style='padding: 3px; background-color: #fffdfd'>.</span>\n",
              "<span style='padding: 3px; background-color: #fff9f9'>z</span>\n",
              "<span style='padding: 3px; background-color: #fff5f5'>##ige</span>\n",
              "<span style='padding: 3px; background-color: #fff4f4'>##une</span>\n",
              "<span style='padding: 3px; background-color: #fff5f5'>##r</span>\n",
              "<span style='padding: 3px; background-color: #fff1f1'>cops</span>\n",
              "<span style='padding: 3px; background-color: #fff0f0'>are</span>\n",
              "<span style='padding: 3px; background-color: #fff6f6'>all</span>\n",
              "<span style='padding: 3px; background-color: #fff4f4'>rap</span>\n",
              "<span style='padding: 3px; background-color: #fff7f7'>##ists</span>\n",
              "<span style='padding: 3px; background-color: #fffbfb'>.</span>\n",
              "</p>\n"
            ]
          },
          "metadata": {}
        },
        {
          "output_type": "stream",
          "name": "stdout",
          "text": [
            "Head #10:\n"
          ]
        },
        {
          "output_type": "display_data",
          "data": {
            "text/plain": [
              "<IPython.core.display.HTML object>"
            ],
            "text/html": [
              "<p style='font-size: 12pt; line-height: 2'>\n",
              "<span style='padding: 3px; background-color: #ff9900'>Label: Hate Speech</span>\n",
              "<span style='padding: 3px; background-color: #ffeaea'>black</span>\n",
              "<span style='padding: 3px; background-color: #fffdfd'>cops</span>\n",
              "<span style='padding: 3px; background-color: #fffdfd'>want</span>\n",
              "<span style='padding: 3px; background-color: #fffefe'>to</span>\n",
              "<span style='padding: 3px; background-color: #fffcfc'>kill</span>\n",
              "<span style='padding: 3px; background-color: #ffefef'>white</span>\n",
              "<span style='padding: 3px; background-color: #fff9f9'>citizens</span>\n",
              "<span style='padding: 3px; background-color: #fffdfd'>.</span>\n",
              "<span style='padding: 3px; background-color: #ffeaea'>sp</span>\n",
              "<span style='padding: 3px; background-color: #ffecec'>##ic</span>\n",
              "<span style='padding: 3px; background-color: #fffefe'>cops</span>\n",
              "<span style='padding: 3px; background-color: #fffefe'>want</span>\n",
              "<span style='padding: 3px; background-color: #fffefe'>to</span>\n",
              "<span style='padding: 3px; background-color: #fffcfc'>kill</span>\n",
              "<span style='padding: 3px; background-color: #fff2f2'>anglo</span>\n",
              "<span style='padding: 3px; background-color: #fff8f8'>citizens</span>\n",
              "<span style='padding: 3px; background-color: #fffdfd'>.</span>\n",
              "<span style='padding: 3px; background-color: #ffefef'>z</span>\n",
              "<span style='padding: 3px; background-color: #fff6f6'>##ige</span>\n",
              "<span style='padding: 3px; background-color: #ffd4d4'>##une</span>\n",
              "<span style='padding: 3px; background-color: #ffd1d1'>##r</span>\n",
              "<span style='padding: 3px; background-color: #fffbfb'>cops</span>\n",
              "<span style='padding: 3px; background-color: #fffafa'>are</span>\n",
              "<span style='padding: 3px; background-color: #fffbfb'>all</span>\n",
              "<span style='padding: 3px; background-color: #fff7f7'>rap</span>\n",
              "<span style='padding: 3px; background-color: #fffbfb'>##ists</span>\n",
              "<span style='padding: 3px; background-color: #fff9f9'>.</span>\n",
              "</p>\n"
            ]
          },
          "metadata": {}
        },
        {
          "output_type": "stream",
          "name": "stdout",
          "text": [
            "Head #11:\n"
          ]
        },
        {
          "output_type": "display_data",
          "data": {
            "text/plain": [
              "<IPython.core.display.HTML object>"
            ],
            "text/html": [
              "<p style='font-size: 12pt; line-height: 2'>\n",
              "<span style='padding: 3px; background-color: #ff9900'>Label: Hate Speech</span>\n",
              "<span style='padding: 3px; background-color: #ffebeb'>black</span>\n",
              "<span style='padding: 3px; background-color: #fffafa'>cops</span>\n",
              "<span style='padding: 3px; background-color: #fffdfd'>want</span>\n",
              "<span style='padding: 3px; background-color: #fffdfd'>to</span>\n",
              "<span style='padding: 3px; background-color: #fffbfb'>kill</span>\n",
              "<span style='padding: 3px; background-color: #ffe9e9'>white</span>\n",
              "<span style='padding: 3px; background-color: #fff4f4'>citizens</span>\n",
              "<span style='padding: 3px; background-color: #fffdfd'>.</span>\n",
              "<span style='padding: 3px; background-color: #fff1f1'>sp</span>\n",
              "<span style='padding: 3px; background-color: #ffe0e0'>##ic</span>\n",
              "<span style='padding: 3px; background-color: #fffcfc'>cops</span>\n",
              "<span style='padding: 3px; background-color: #fffefe'>want</span>\n",
              "<span style='padding: 3px; background-color: #fffefe'>to</span>\n",
              "<span style='padding: 3px; background-color: #fffcfc'>kill</span>\n",
              "<span style='padding: 3px; background-color: #fff1f1'>anglo</span>\n",
              "<span style='padding: 3px; background-color: #fff7f7'>citizens</span>\n",
              "<span style='padding: 3px; background-color: #fffefe'>.</span>\n",
              "<span style='padding: 3px; background-color: #fff9f9'>z</span>\n",
              "<span style='padding: 3px; background-color: #fff7f7'>##ige</span>\n",
              "<span style='padding: 3px; background-color: #ffeaea'>##une</span>\n",
              "<span style='padding: 3px; background-color: #ffeded'>##r</span>\n",
              "<span style='padding: 3px; background-color: #fff7f7'>cops</span>\n",
              "<span style='padding: 3px; background-color: #fff9f9'>are</span>\n",
              "<span style='padding: 3px; background-color: #fffcfc'>all</span>\n",
              "<span style='padding: 3px; background-color: #ffeeee'>rap</span>\n",
              "<span style='padding: 3px; background-color: #fff4f4'>##ists</span>\n",
              "<span style='padding: 3px; background-color: #fffdfd'>.</span>\n",
              "</p>\n"
            ]
          },
          "metadata": {}
        }
      ]
    },
    {
      "cell_type": "markdown",
      "source": [
        "Individual attention heads aren't that interesting. Most heads seem to focus on similar things, especially perjorative terms. (This may be more heads than is needed for this task.) Notable that a couple heads focus on the verb \"are\"."
      ],
      "metadata": {
        "id": "sKX2LDrgTV08"
      }
    },
    {
      "cell_type": "markdown",
      "source": [
        "# Evaluating Attention\n",
        "\n",
        "Create a dataset that contains 100 examples of hatespeech annotated with the offensive terms in each example."
      ],
      "metadata": {
        "id": "1SC-peNRijlG"
      }
    },
    {
      "cell_type": "code",
      "source": [
        "sample = test_df[test_df.is_hatespeech].sample(n=5)\n",
        "sample"
      ],
      "metadata": {
        "colab": {
          "base_uri": "https://localhost:8080/",
          "height": 441
        },
        "id": "4mMtqZnjm4hu",
        "outputId": "e55e91af-24fc-44a6-d2ab-f168023de9db"
      },
      "execution_count": null,
      "outputs": [
        {
          "output_type": "execute_result",
          "data": {
            "text/plain": [
              "      count  hate_speech  offensive_language   neither  class  \\\n",
              "1058      3     0.666667            0.333333  0.000000      0   \n",
              "686       3     0.666667            0.000000  0.333333      0   \n",
              "1735      3     0.666667            0.333333  0.000000      0   \n",
              "2858      3     0.666667            0.333333  0.000000      0   \n",
              "376       3     0.666667            0.333333  0.000000      0   \n",
              "\n",
              "                                                  tweet  is_hatespeech  \n",
              "1058  RT AT_MENTION: Happy birthday freshman faggots...           True  \n",
              "686   AT_MENTION But that's what you call white tras...           True  \n",
              "1735  AT_MENTION AT_MENTION fucking gay faggot look ...           True  \n",
              "2858  \"We're out here, and we're queer!\"\\n\" 2, 4, 6,...           True  \n",
              "376   #California is full of white trash who moved f...           True  "
            ],
            "text/html": [
              "\n",
              "\n",
              "  <div id=\"df-7e5518c0-0815-42aa-bb92-3cc81c8a41dc\">\n",
              "    <div class=\"colab-df-container\">\n",
              "      <div>\n",
              "<style scoped>\n",
              "    .dataframe tbody tr th:only-of-type {\n",
              "        vertical-align: middle;\n",
              "    }\n",
              "\n",
              "    .dataframe tbody tr th {\n",
              "        vertical-align: top;\n",
              "    }\n",
              "\n",
              "    .dataframe thead th {\n",
              "        text-align: right;\n",
              "    }\n",
              "</style>\n",
              "<table border=\"1\" class=\"dataframe\">\n",
              "  <thead>\n",
              "    <tr style=\"text-align: right;\">\n",
              "      <th></th>\n",
              "      <th>count</th>\n",
              "      <th>hate_speech</th>\n",
              "      <th>offensive_language</th>\n",
              "      <th>neither</th>\n",
              "      <th>class</th>\n",
              "      <th>tweet</th>\n",
              "      <th>is_hatespeech</th>\n",
              "    </tr>\n",
              "  </thead>\n",
              "  <tbody>\n",
              "    <tr>\n",
              "      <th>1058</th>\n",
              "      <td>3</td>\n",
              "      <td>0.666667</td>\n",
              "      <td>0.333333</td>\n",
              "      <td>0.000000</td>\n",
              "      <td>0</td>\n",
              "      <td>RT AT_MENTION: Happy birthday freshman faggots...</td>\n",
              "      <td>True</td>\n",
              "    </tr>\n",
              "    <tr>\n",
              "      <th>686</th>\n",
              "      <td>3</td>\n",
              "      <td>0.666667</td>\n",
              "      <td>0.000000</td>\n",
              "      <td>0.333333</td>\n",
              "      <td>0</td>\n",
              "      <td>AT_MENTION But that's what you call white tras...</td>\n",
              "      <td>True</td>\n",
              "    </tr>\n",
              "    <tr>\n",
              "      <th>1735</th>\n",
              "      <td>3</td>\n",
              "      <td>0.666667</td>\n",
              "      <td>0.333333</td>\n",
              "      <td>0.000000</td>\n",
              "      <td>0</td>\n",
              "      <td>AT_MENTION AT_MENTION fucking gay faggot look ...</td>\n",
              "      <td>True</td>\n",
              "    </tr>\n",
              "    <tr>\n",
              "      <th>2858</th>\n",
              "      <td>3</td>\n",
              "      <td>0.666667</td>\n",
              "      <td>0.333333</td>\n",
              "      <td>0.000000</td>\n",
              "      <td>0</td>\n",
              "      <td>\"We're out here, and we're queer!\"\\n\" 2, 4, 6,...</td>\n",
              "      <td>True</td>\n",
              "    </tr>\n",
              "    <tr>\n",
              "      <th>376</th>\n",
              "      <td>3</td>\n",
              "      <td>0.666667</td>\n",
              "      <td>0.333333</td>\n",
              "      <td>0.000000</td>\n",
              "      <td>0</td>\n",
              "      <td>#California is full of white trash who moved f...</td>\n",
              "      <td>True</td>\n",
              "    </tr>\n",
              "  </tbody>\n",
              "</table>\n",
              "</div>\n",
              "      <button class=\"colab-df-convert\" onclick=\"convertToInteractive('df-7e5518c0-0815-42aa-bb92-3cc81c8a41dc')\"\n",
              "              title=\"Convert this dataframe to an interactive table.\"\n",
              "              style=\"display:none;\">\n",
              "\n",
              "  <svg xmlns=\"http://www.w3.org/2000/svg\" height=\"24px\"viewBox=\"0 0 24 24\"\n",
              "       width=\"24px\">\n",
              "    <path d=\"M0 0h24v24H0V0z\" fill=\"none\"/>\n",
              "    <path d=\"M18.56 5.44l.94 2.06.94-2.06 2.06-.94-2.06-.94-.94-2.06-.94 2.06-2.06.94zm-11 1L8.5 8.5l.94-2.06 2.06-.94-2.06-.94L8.5 2.5l-.94 2.06-2.06.94zm10 10l.94 2.06.94-2.06 2.06-.94-2.06-.94-.94-2.06-.94 2.06-2.06.94z\"/><path d=\"M17.41 7.96l-1.37-1.37c-.4-.4-.92-.59-1.43-.59-.52 0-1.04.2-1.43.59L10.3 9.45l-7.72 7.72c-.78.78-.78 2.05 0 2.83L4 21.41c.39.39.9.59 1.41.59.51 0 1.02-.2 1.41-.59l7.78-7.78 2.81-2.81c.8-.78.8-2.07 0-2.86zM5.41 20L4 18.59l7.72-7.72 1.47 1.35L5.41 20z\"/>\n",
              "  </svg>\n",
              "      </button>\n",
              "\n",
              "\n",
              "\n",
              "    <div id=\"df-66823540-2439-4e2f-896d-f334d733605c\">\n",
              "      <button class=\"colab-df-quickchart\" onclick=\"quickchart('df-66823540-2439-4e2f-896d-f334d733605c')\"\n",
              "              title=\"Suggest charts.\"\n",
              "              style=\"display:none;\">\n",
              "\n",
              "<svg xmlns=\"http://www.w3.org/2000/svg\" height=\"24px\"viewBox=\"0 0 24 24\"\n",
              "     width=\"24px\">\n",
              "    <g>\n",
              "        <path d=\"M19 3H5c-1.1 0-2 .9-2 2v14c0 1.1.9 2 2 2h14c1.1 0 2-.9 2-2V5c0-1.1-.9-2-2-2zM9 17H7v-7h2v7zm4 0h-2V7h2v10zm4 0h-2v-4h2v4z\"/>\n",
              "    </g>\n",
              "</svg>\n",
              "      </button>\n",
              "    </div>\n",
              "\n",
              "<style>\n",
              "  .colab-df-quickchart {\n",
              "    background-color: #E8F0FE;\n",
              "    border: none;\n",
              "    border-radius: 50%;\n",
              "    cursor: pointer;\n",
              "    display: none;\n",
              "    fill: #1967D2;\n",
              "    height: 32px;\n",
              "    padding: 0 0 0 0;\n",
              "    width: 32px;\n",
              "  }\n",
              "\n",
              "  .colab-df-quickchart:hover {\n",
              "    background-color: #E2EBFA;\n",
              "    box-shadow: 0px 1px 2px rgba(60, 64, 67, 0.3), 0px 1px 3px 1px rgba(60, 64, 67, 0.15);\n",
              "    fill: #174EA6;\n",
              "  }\n",
              "\n",
              "  [theme=dark] .colab-df-quickchart {\n",
              "    background-color: #3B4455;\n",
              "    fill: #D2E3FC;\n",
              "  }\n",
              "\n",
              "  [theme=dark] .colab-df-quickchart:hover {\n",
              "    background-color: #434B5C;\n",
              "    box-shadow: 0px 1px 3px 1px rgba(0, 0, 0, 0.15);\n",
              "    filter: drop-shadow(0px 1px 2px rgba(0, 0, 0, 0.3));\n",
              "    fill: #FFFFFF;\n",
              "  }\n",
              "</style>\n",
              "\n",
              "    <script>\n",
              "      async function quickchart(key) {\n",
              "        const containerElement = document.querySelector('#' + key);\n",
              "        const charts = await google.colab.kernel.invokeFunction(\n",
              "            'suggestCharts', [key], {});\n",
              "      }\n",
              "    </script>\n",
              "\n",
              "      <script>\n",
              "\n",
              "function displayQuickchartButton(domScope) {\n",
              "  let quickchartButtonEl =\n",
              "    domScope.querySelector('#df-66823540-2439-4e2f-896d-f334d733605c button.colab-df-quickchart');\n",
              "  quickchartButtonEl.style.display =\n",
              "    google.colab.kernel.accessAllowed ? 'block' : 'none';\n",
              "}\n",
              "\n",
              "        displayQuickchartButton(document);\n",
              "      </script>\n",
              "      <style>\n",
              "    .colab-df-container {\n",
              "      display:flex;\n",
              "      flex-wrap:wrap;\n",
              "      gap: 12px;\n",
              "    }\n",
              "\n",
              "    .colab-df-convert {\n",
              "      background-color: #E8F0FE;\n",
              "      border: none;\n",
              "      border-radius: 50%;\n",
              "      cursor: pointer;\n",
              "      display: none;\n",
              "      fill: #1967D2;\n",
              "      height: 32px;\n",
              "      padding: 0 0 0 0;\n",
              "      width: 32px;\n",
              "    }\n",
              "\n",
              "    .colab-df-convert:hover {\n",
              "      background-color: #E2EBFA;\n",
              "      box-shadow: 0px 1px 2px rgba(60, 64, 67, 0.3), 0px 1px 3px 1px rgba(60, 64, 67, 0.15);\n",
              "      fill: #174EA6;\n",
              "    }\n",
              "\n",
              "    [theme=dark] .colab-df-convert {\n",
              "      background-color: #3B4455;\n",
              "      fill: #D2E3FC;\n",
              "    }\n",
              "\n",
              "    [theme=dark] .colab-df-convert:hover {\n",
              "      background-color: #434B5C;\n",
              "      box-shadow: 0px 1px 3px 1px rgba(0, 0, 0, 0.15);\n",
              "      filter: drop-shadow(0px 1px 2px rgba(0, 0, 0, 0.3));\n",
              "      fill: #FFFFFF;\n",
              "    }\n",
              "  </style>\n",
              "\n",
              "      <script>\n",
              "        const buttonEl =\n",
              "          document.querySelector('#df-7e5518c0-0815-42aa-bb92-3cc81c8a41dc button.colab-df-convert');\n",
              "        buttonEl.style.display =\n",
              "          google.colab.kernel.accessAllowed ? 'block' : 'none';\n",
              "\n",
              "        async function convertToInteractive(key) {\n",
              "          const element = document.querySelector('#df-7e5518c0-0815-42aa-bb92-3cc81c8a41dc');\n",
              "          const dataTable =\n",
              "            await google.colab.kernel.invokeFunction('convertToInteractive',\n",
              "                                                     [key], {});\n",
              "          if (!dataTable) return;\n",
              "\n",
              "          const docLinkHtml = 'Like what you see? Visit the ' +\n",
              "            '<a target=\"_blank\" href=https://colab.research.google.com/notebooks/data_table.ipynb>data table notebook</a>'\n",
              "            + ' to learn more about interactive tables.';\n",
              "          element.innerHTML = '';\n",
              "          dataTable['output_type'] = 'display_data';\n",
              "          await google.colab.output.renderOutput(dataTable, element);\n",
              "          const docLink = document.createElement('div');\n",
              "          docLink.innerHTML = docLinkHtml;\n",
              "          element.appendChild(docLink);\n",
              "        }\n",
              "      </script>\n",
              "    </div>\n",
              "  </div>\n"
            ]
          },
          "metadata": {},
          "execution_count": 11
        }
      ]
    },
    {
      "cell_type": "code",
      "source": [
        "def make_attn_eval_set(size):\n",
        "    \"\"\" Sample 100 hate speech tweets and get their tokens \"\"\"\n",
        "    sample = test_df[test_df.is_hatespeech].sample(n=size)\n",
        "    detokens = dict()\n",
        "    for row in sample.itertuples():\n",
        "        tokens =  bert_tokenizer(\n",
        "            [row.tweet],\n",
        "            max_length=MAX_SEQUENCE_LENGTH,\n",
        "            truncation=True,\n",
        "            padding='max_length',\n",
        "            return_tensors='tf',\n",
        "        )[\"input_ids\"]\n",
        "        d = bert_tokenizer.convert_ids_to_tokens(tokens[0])\n",
        "        max_idx = d.index(\"[SEP]\")\n",
        "        detokens[row.Index] = d[1:max_idx]\n",
        "    return detokens"
      ],
      "metadata": {
        "id": "KNviysJVi3bu"
      },
      "execution_count": null,
      "outputs": []
    },
    {
      "cell_type": "code",
      "source": [
        "attn_eval = make_attn_eval_set(size=100)"
      ],
      "metadata": {
        "id": "PvjejY1JmG9N"
      },
      "execution_count": null,
      "outputs": []
    },
    {
      "cell_type": "code",
      "source": [
        "with open(f\"{project_dir}/attn_eval.json\", \"w\") as f:\n",
        "    json.dump(attn_eval, f, indent=2)"
      ],
      "metadata": {
        "id": "tRpA89sOimUz"
      },
      "execution_count": null,
      "outputs": []
    },
    {
      "cell_type": "markdown",
      "source": [
        "We labeled the attn_eval set offline and then copied it back onto google drive so we can load it into a notebook."
      ],
      "metadata": {
        "id": "uIwrTWiQvvjU"
      }
    },
    {
      "cell_type": "code",
      "source": [
        "with open(f\"{project_dir}/attn_eval_candidates.json\") as f:\n",
        "    attn_eval_candidates = json.load(f)"
      ],
      "metadata": {
        "id": "tltkDGP7qZ6O"
      },
      "execution_count": null,
      "outputs": []
    },
    {
      "cell_type": "code",
      "source": [
        "# Contains candidate phrases for each of the hate speech tweets in the sample. We can use this to run ROUGE-1.\n",
        "attn_eval_candidates[\"1476\"]"
      ],
      "metadata": {
        "colab": {
          "base_uri": "https://localhost:8080/"
        },
        "id": "CcgOuxBQvoLK",
        "outputId": "fbe37325-3077-4e6b-9553-b083f265248c"
      },
      "execution_count": null,
      "outputs": [
        {
          "output_type": "execute_result",
          "data": {
            "text/plain": [
              "['white', 'trash']"
            ]
          },
          "metadata": {},
          "execution_count": 14
        }
      ]
    },
    {
      "cell_type": "code",
      "source": [
        "# This is the corresponding row in the data frame showing the original text. We selected\n",
        "# a candidate set of words that are most indicative of hate speech.\n",
        "test_df.loc[1476]"
      ],
      "metadata": {
        "colab": {
          "base_uri": "https://localhost:8080/"
        },
        "id": "eLGkqRW2v9xp",
        "outputId": "2051bb49-f6bf-42ef-c25d-f8b1a2e28966"
      },
      "execution_count": null,
      "outputs": [
        {
          "output_type": "execute_result",
          "data": {
            "text/plain": [
              "count                                                  3\n",
              "hate_speech                                          1.0\n",
              "offensive_language                                   0.0\n",
              "neither                                              0.0\n",
              "class                                                  0\n",
              "tweet                 #California is full of white trash\n",
              "is_hatespeech                                       True\n",
              "Name: 1476, dtype: object"
            ]
          },
          "metadata": {},
          "execution_count": 15
        }
      ]
    },
    {
      "cell_type": "code",
      "source": [
        "!pip install -q keras-nlp rouge-score"
      ],
      "metadata": {
        "id": "vjLWMgViHgx5"
      },
      "execution_count": null,
      "outputs": []
    },
    {
      "cell_type": "code",
      "source": [
        "import keras_nlp"
      ],
      "metadata": {
        "colab": {
          "base_uri": "https://localhost:8080/"
        },
        "id": "i0GvwdD2K8XI",
        "outputId": "e4fe707f-75b4-4652-d534-09db53a5baa7"
      },
      "execution_count": null,
      "outputs": [
        {
          "output_type": "stream",
          "name": "stdout",
          "text": [
            "Using TensorFlow backend\n"
          ]
        }
      ]
    },
    {
      "cell_type": "code",
      "source": [
        "y_true = \"helo world\"\n",
        "y_pred = \"goodbye peeps\"\n",
        "\n",
        "rouge1 = keras_nlp.metrics.RougeL()\n",
        "rouge1(y_true, y_pred)"
      ],
      "metadata": {
        "colab": {
          "base_uri": "https://localhost:8080/"
        },
        "id": "AYbVNhqKhfbP",
        "outputId": "24695871-47cf-45d9-f647-6499892948fe"
      },
      "execution_count": null,
      "outputs": [
        {
          "output_type": "execute_result",
          "data": {
            "text/plain": [
              "{'precision': <tf.Tensor: shape=(), dtype=float32, numpy=0.0>,\n",
              " 'recall': <tf.Tensor: shape=(), dtype=float32, numpy=0.0>,\n",
              " 'f1_score': <tf.Tensor: shape=(), dtype=float32, numpy=0.0>}"
            ]
          },
          "metadata": {},
          "execution_count": 35
        }
      ]
    },
    {
      "cell_type": "code",
      "source": [
        "y_true = \"white\"\n",
        "y_pred = \"white trash\"\n",
        "\n",
        "rouge1 = keras_nlp.metrics.RougeL()\n",
        "rouge1(y_true, y_pred)"
      ],
      "metadata": {
        "colab": {
          "base_uri": "https://localhost:8080/"
        },
        "id": "Ex8qwuQVLMDS",
        "outputId": "8d28dab5-daa6-4e03-9f5d-2bb8949dc9f1"
      },
      "execution_count": null,
      "outputs": [
        {
          "output_type": "execute_result",
          "data": {
            "text/plain": [
              "{'precision': <tf.Tensor: shape=(), dtype=float32, numpy=0.5>,\n",
              " 'recall': <tf.Tensor: shape=(), dtype=float32, numpy=1.0>,\n",
              " 'f1_score': <tf.Tensor: shape=(), dtype=float32, numpy=0.6666667>}"
            ]
          },
          "metadata": {},
          "execution_count": 36
        }
      ]
    },
    {
      "cell_type": "code",
      "source": [
        "def run_rouge(attn_eval_candidates, token_attns, attn_thresh):\n",
        "    \"\"\" Run ROUGE analysis for the 100 tweets sampled from the is_hatespeech class. \"\"\"\n",
        "    references = list()\n",
        "    candidates = list()\n",
        "\n",
        "    for idx, candidate in attn_eval_candidates.items():\n",
        "        # Create the reference:\n",
        "        token_attn = token_attns[idx]\n",
        "        references.append(\" \".join(\n",
        "            token for token, score in token_attn if score > attn_thresh\n",
        "        ))\n",
        "\n",
        "        # Create the candidate\n",
        "        candidates.append(\" \".join(candidate))\n",
        "\n",
        "    print(\"Showing first 5 references and candidates\")\n",
        "    for i in range(5):\n",
        "        print(f\"{i}: {references[i]} -- {candidates[i]}\")\n",
        "\n",
        "    rouge1 = keras_nlp.metrics.RougeL()\n",
        "    f1 = rouge1(candidates, references)[\"f1_score\"]\n",
        "    print(f\"ROUGE-1 score: {f1:0.4f}\")\n",
        "    return f1"
      ],
      "metadata": {
        "id": "vPqQVhbVLGns"
      },
      "execution_count": null,
      "outputs": []
    },
    {
      "cell_type": "code",
      "source": [
        "def get_eval_token_attns(attn_eval_candidates):\n",
        "    \"\"\" Get token attentions for each item in the eval set. \"\"\"\n",
        "    token_attns = {}\n",
        "    for idx, candidate in attn_eval_candidates.items():\n",
        "        row = test_df.loc[int(idx)]\n",
        "        token_attns[idx] = get_token_attentions(row, reduce_attn_sum)\n",
        "    return token_attns"
      ],
      "metadata": {
        "id": "IPOxbiuvicZT"
      },
      "execution_count": null,
      "outputs": []
    },
    {
      "cell_type": "code",
      "source": [
        "%%time\n",
        "eval_token_attns = get_eval_token_attns(attn_eval_candidates)"
      ],
      "metadata": {
        "colab": {
          "base_uri": "https://localhost:8080/"
        },
        "id": "saq2jyy_i45x",
        "outputId": "fa01caa8-0d6c-4f60-83f5-cc471e1680f2"
      },
      "execution_count": null,
      "outputs": [
        {
          "output_type": "stream",
          "name": "stdout",
          "text": [
            "CPU times: user 19.9 s, sys: 564 ms, total: 20.5 s\n",
            "Wall time: 24.8 s\n"
          ]
        }
      ]
    },
    {
      "cell_type": "code",
      "source": [
        "f1 = run_rouge(attn_eval_candidates, eval_token_attns, attn_thresh=0.5)"
      ],
      "metadata": {
        "colab": {
          "base_uri": "https://localhost:8080/"
        },
        "id": "7d0ch05rPIoP",
        "outputId": "1df67cb9-f48a-47b9-9fd3-4f5652baa0dc"
      },
      "execution_count": null,
      "outputs": [
        {
          "output_type": "stream",
          "name": "stdout",
          "text": [
            "Showing first 5 references and candidates\n",
            "0: white -- white trash\n",
            "1: hate fat -- hate fat bitch ##es\n",
            "2: fa ##gg -- fa ##gg ##ot\n",
            "3: dyke -- dyke bitch ##es kill ho ##es\n",
            "4: fa ##gg -- fa ##gg ##ots\n",
            "ROUGE-1 score: 0.3616\n"
          ]
        }
      ]
    },
    {
      "cell_type": "code",
      "source": [
        "def grid_search_attn_thresh(start, end, step):\n",
        "    best_t, best_f1 = -1, -1\n",
        "    \"\"\" Grid search over attention thresholds to find the one with best ROUGE score. \"\"\"\n",
        "    t = start\n",
        "    while t <= end:\n",
        "        print(f\"threshold={t}\")\n",
        "        f1 = run_rouge(attn_eval_candidates, eval_token_attns, t)\n",
        "        if f1 > best_f1:\n",
        "          best_t, best_f1 = t, f1\n",
        "        t += step\n",
        "    print(f\"best f1={best_f1} at t={best_t}\")"
      ],
      "metadata": {
        "id": "b8BRD5dmfr95"
      },
      "execution_count": null,
      "outputs": []
    },
    {
      "cell_type": "code",
      "source": [
        "%%time\n",
        "grid_search_attn_thresh(0, 1, 0.1)"
      ],
      "metadata": {
        "colab": {
          "base_uri": "https://localhost:8080/"
        },
        "id": "qGO1dF1qgHI6",
        "outputId": "5b7527ad-2ea9-4cb0-9cf9-716ccadf59bf"
      },
      "execution_count": null,
      "outputs": [
        {
          "output_type": "stream",
          "name": "stdout",
          "text": [
            "threshold=0\n",
            "Showing first 5 references and candidates\n",
            "0: # california is full of white trash -- white trash\n",
            "1: i hate fat bitch ##es -- hate fat bitch ##es\n",
            "2: rt at _ mention : at _ mention at _ mention joshua is a fa ##gg ##ot . just suspend him on those grounds -- fa ##gg ##ot\n",
            "3: dyke bitch ##es kill me think ##in they really got ho ##es lo ##l -- dyke bitch ##es kill ho ##es\n",
            "4: rt at _ mention : happy birthday freshman fa ##gg ##ots at _ mention at _ mention -- fa ##gg ##ots\n",
            "ROUGE-1 score: 0.4082\n",
            "threshold=0.1\n",
            "Showing first 5 references and candidates\n",
            "0: # california is full of white trash -- white trash\n",
            "1: i hate fat bitch ##es -- hate fat bitch ##es\n",
            "2: rt joshua is a fa ##gg ##ot . him -- fa ##gg ##ot\n",
            "3: dyke bitch ##es kill they got ho ##es lo ##l -- dyke bitch ##es kill ho ##es\n",
            "4: freshman fa ##gg ##ots -- fa ##gg ##ots\n",
            "ROUGE-1 score: 0.5839\n",
            "threshold=0.2\n",
            "Showing first 5 references and candidates\n",
            "0: of white trash -- white trash\n",
            "1: i hate fat bitch ##es -- hate fat bitch ##es\n",
            "2: joshua is a fa ##gg ##ot -- fa ##gg ##ot\n",
            "3: dyke bitch ##es ho ##l -- dyke bitch ##es kill ho ##es\n",
            "4: freshman fa ##gg ##ots -- fa ##gg ##ots\n",
            "ROUGE-1 score: 0.6545\n",
            "threshold=0.30000000000000004\n",
            "Showing first 5 references and candidates\n",
            "0: white trash -- white trash\n",
            "1: hate fat bitch ##es -- hate fat bitch ##es\n",
            "2: joshua fa ##gg -- fa ##gg ##ot\n",
            "3: dyke bitch -- dyke bitch ##es kill ho ##es\n",
            "4: freshman fa ##gg ##ots -- fa ##gg ##ots\n",
            "ROUGE-1 score: 0.6040\n",
            "threshold=0.4\n",
            "Showing first 5 references and candidates\n",
            "0: white -- white trash\n",
            "1: hate fat -- hate fat bitch ##es\n",
            "2: fa ##gg -- fa ##gg ##ot\n",
            "3: dyke -- dyke bitch ##es kill ho ##es\n",
            "4: fa ##gg -- fa ##gg ##ots\n",
            "ROUGE-1 score: 0.4849\n",
            "threshold=0.5\n",
            "Showing first 5 references and candidates\n",
            "0: white -- white trash\n",
            "1: hate fat -- hate fat bitch ##es\n",
            "2: fa ##gg -- fa ##gg ##ot\n",
            "3: dyke -- dyke bitch ##es kill ho ##es\n",
            "4: fa ##gg -- fa ##gg ##ots\n",
            "ROUGE-1 score: 0.3616\n",
            "threshold=0.6\n",
            "Showing first 5 references and candidates\n",
            "0: white -- white trash\n",
            "1: fat -- hate fat bitch ##es\n",
            "2: ##gg -- fa ##gg ##ot\n",
            "3: dyke -- dyke bitch ##es kill ho ##es\n",
            "4: fa -- fa ##gg ##ots\n",
            "ROUGE-1 score: 0.2166\n",
            "threshold=0.7\n",
            "Showing first 5 references and candidates\n",
            "0: white -- white trash\n",
            "1:  -- hate fat bitch ##es\n",
            "2:  -- fa ##gg ##ot\n",
            "3: dyke -- dyke bitch ##es kill ho ##es\n",
            "4: fa -- fa ##gg ##ots\n",
            "ROUGE-1 score: 0.0919\n",
            "threshold=0.7999999999999999\n",
            "Showing first 5 references and candidates\n",
            "0: white -- white trash\n",
            "1:  -- hate fat bitch ##es\n",
            "2:  -- fa ##gg ##ot\n",
            "3:  -- dyke bitch ##es kill ho ##es\n",
            "4:  -- fa ##gg ##ots\n",
            "ROUGE-1 score: 0.0313\n",
            "threshold=0.8999999999999999\n",
            "Showing first 5 references and candidates\n",
            "0:  -- white trash\n",
            "1:  -- hate fat bitch ##es\n",
            "2:  -- fa ##gg ##ot\n",
            "3:  -- dyke bitch ##es kill ho ##es\n",
            "4:  -- fa ##gg ##ots\n",
            "ROUGE-1 score: 0.0000\n",
            "threshold=0.9999999999999999\n",
            "Showing first 5 references and candidates\n",
            "0:  -- white trash\n",
            "1:  -- hate fat bitch ##es\n",
            "2:  -- fa ##gg ##ot\n",
            "3:  -- dyke bitch ##es kill ho ##es\n",
            "4:  -- fa ##gg ##ots\n",
            "ROUGE-1 score: 0.0000\n",
            "best f1=0.6545254588127136 at t=0.2\n",
            "CPU times: user 16 s, sys: 274 ms, total: 16.3 s\n",
            "Wall time: 23.9 s\n"
          ]
        }
      ]
    },
    {
      "cell_type": "code",
      "source": [
        "%%time\n",
        "grid_search_attn_thresh(0.15, 0.25, 0.01)"
      ],
      "metadata": {
        "colab": {
          "base_uri": "https://localhost:8080/"
        },
        "id": "yKfcOc2xg-ab",
        "outputId": "1905933a-2150-4262-9a36-aaeac4828fe4"
      },
      "execution_count": null,
      "outputs": [
        {
          "output_type": "stream",
          "name": "stdout",
          "text": [
            "threshold=0.15\n",
            "Showing first 5 references and candidates\n",
            "0: # california is of white trash -- white trash\n",
            "1: i hate fat bitch ##es -- hate fat bitch ##es\n",
            "2: joshua is a fa ##gg ##ot . -- fa ##gg ##ot\n",
            "3: dyke bitch ##es got ho ##es ##l -- dyke bitch ##es kill ho ##es\n",
            "4: freshman fa ##gg ##ots -- fa ##gg ##ots\n",
            "ROUGE-1 score: 0.6441\n",
            "threshold=0.16\n",
            "Showing first 5 references and candidates\n",
            "0: # california is of white trash -- white trash\n",
            "1: i hate fat bitch ##es -- hate fat bitch ##es\n",
            "2: joshua is a fa ##gg ##ot -- fa ##gg ##ot\n",
            "3: dyke bitch ##es got ho ##es ##l -- dyke bitch ##es kill ho ##es\n",
            "4: freshman fa ##gg ##ots -- fa ##gg ##ots\n",
            "ROUGE-1 score: 0.6538\n",
            "threshold=0.17\n",
            "Showing first 5 references and candidates\n",
            "0: # of white trash -- white trash\n",
            "1: i hate fat bitch ##es -- hate fat bitch ##es\n",
            "2: joshua is a fa ##gg ##ot -- fa ##gg ##ot\n",
            "3: dyke bitch ##es ho ##es ##l -- dyke bitch ##es kill ho ##es\n",
            "4: freshman fa ##gg ##ots -- fa ##gg ##ots\n",
            "ROUGE-1 score: 0.6539\n",
            "threshold=0.18000000000000002\n",
            "Showing first 5 references and candidates\n",
            "0: # of white trash -- white trash\n",
            "1: i hate fat bitch ##es -- hate fat bitch ##es\n",
            "2: joshua is a fa ##gg ##ot -- fa ##gg ##ot\n",
            "3: dyke bitch ##es ho ##es ##l -- dyke bitch ##es kill ho ##es\n",
            "4: freshman fa ##gg ##ots -- fa ##gg ##ots\n",
            "ROUGE-1 score: 0.6576\n",
            "threshold=0.19000000000000003\n",
            "Showing first 5 references and candidates\n",
            "0: # of white trash -- white trash\n",
            "1: i hate fat bitch ##es -- hate fat bitch ##es\n",
            "2: joshua is a fa ##gg ##ot -- fa ##gg ##ot\n",
            "3: dyke bitch ##es ho ##es ##l -- dyke bitch ##es kill ho ##es\n",
            "4: freshman fa ##gg ##ots -- fa ##gg ##ots\n",
            "ROUGE-1 score: 0.6512\n",
            "threshold=0.20000000000000004\n",
            "Showing first 5 references and candidates\n",
            "0: of white trash -- white trash\n",
            "1: i hate fat bitch ##es -- hate fat bitch ##es\n",
            "2: joshua is a fa ##gg ##ot -- fa ##gg ##ot\n",
            "3: dyke bitch ##es ho ##l -- dyke bitch ##es kill ho ##es\n",
            "4: freshman fa ##gg ##ots -- fa ##gg ##ots\n",
            "ROUGE-1 score: 0.6545\n",
            "threshold=0.21000000000000005\n",
            "Showing first 5 references and candidates\n",
            "0: white trash -- white trash\n",
            "1: i hate fat bitch ##es -- hate fat bitch ##es\n",
            "2: joshua a fa ##gg ##ot -- fa ##gg ##ot\n",
            "3: dyke bitch ##es ho ##l -- dyke bitch ##es kill ho ##es\n",
            "4: freshman fa ##gg ##ots -- fa ##gg ##ots\n",
            "ROUGE-1 score: 0.6535\n",
            "threshold=0.22000000000000006\n",
            "Showing first 5 references and candidates\n",
            "0: white trash -- white trash\n",
            "1: i hate fat bitch ##es -- hate fat bitch ##es\n",
            "2: joshua a fa ##gg ##ot -- fa ##gg ##ot\n",
            "3: dyke bitch ##es ho ##l -- dyke bitch ##es kill ho ##es\n",
            "4: freshman fa ##gg ##ots -- fa ##gg ##ots\n",
            "ROUGE-1 score: 0.6512\n",
            "threshold=0.23000000000000007\n",
            "Showing first 5 references and candidates\n",
            "0: white trash -- white trash\n",
            "1: i hate fat bitch ##es -- hate fat bitch ##es\n",
            "2: joshua a fa ##gg ##ot -- fa ##gg ##ot\n",
            "3: dyke bitch ##es ##l -- dyke bitch ##es kill ho ##es\n",
            "4: freshman fa ##gg ##ots -- fa ##gg ##ots\n",
            "ROUGE-1 score: 0.6495\n",
            "threshold=0.24000000000000007\n",
            "Showing first 5 references and candidates\n",
            "0: white trash -- white trash\n",
            "1: i hate fat bitch ##es -- hate fat bitch ##es\n",
            "2: joshua a fa ##gg ##ot -- fa ##gg ##ot\n",
            "3: dyke bitch ##es ##l -- dyke bitch ##es kill ho ##es\n",
            "4: freshman fa ##gg ##ots -- fa ##gg ##ots\n",
            "ROUGE-1 score: 0.6541\n",
            "best f1=0.6576050519943237 at t=0.18000000000000002\n",
            "CPU times: user 11.9 s, sys: 203 ms, total: 12.1 s\n",
            "Wall time: 17 s\n"
          ]
        }
      ]
    },
    {
      "cell_type": "markdown",
      "source": [
        "The best ROUGE score is 0.6576 when the attn threshold is set to 0.18."
      ],
      "metadata": {
        "id": "TC2T0Z8UkIFU"
      }
    }
  ]
}